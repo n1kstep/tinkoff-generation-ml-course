{
  "nbformat": 4,
  "nbformat_minor": 0,
  "metadata": {
    "kernelspec": {
      "display_name": "Python 3",
      "language": "python",
      "name": "python3"
    },
    "language_info": {
      "codemirror_mode": {
        "name": "ipython",
        "version": 3
      },
      "file_extension": ".py",
      "mimetype": "text/x-python",
      "name": "python",
      "nbconvert_exporter": "python",
      "pygments_lexer": "ipython3",
      "version": "3.6.8"
    },
    "colab": {
      "name": "recsys_homework.ipynb",
      "provenance": [],
      "collapsed_sections": []
    }
  },
  "cells": [
    {
      "cell_type": "code",
      "metadata": {
        "colab": {
          "base_uri": "https://localhost:8080/"
        },
        "id": "gbHfRNygtDP2",
        "outputId": "54bb553a-b025-4087-a12d-1320ada23819"
      },
      "source": [
        "from google.colab import drive\n",
        "drive.mount('/content/drive')"
      ],
      "execution_count": 1,
      "outputs": [
        {
          "output_type": "stream",
          "text": [
            "Mounted at /content/drive\n"
          ],
          "name": "stdout"
        }
      ]
    },
    {
      "cell_type": "markdown",
      "metadata": {
        "id": "ULeYopHLqa4x"
      },
      "source": [
        "# Домашнее задание по рекомендательным системам"
      ]
    },
    {
      "cell_type": "markdown",
      "metadata": {
        "id": "x0Llhgl3qa47"
      },
      "source": [
        "В данном домашнем задании вам предлагается реализовать User-based рекомендательную систему. Так же требуется реализовать несколько вспомогательных функций, шаблоны которых вы можете найти в `utils.py`.\n",
        "\n",
        "Требования к выполнению задания:\n",
        "- Реализация функции из `utils.py` засчитывается, только если пройдены все соответствующие тесты из `test.py`. Запуск тестов: <font color='red'>pytest test.py</font>. Для тестов вам потребуются библиотеки `numpy`, `scipy`, `pytest` и `hypothesis`.\n",
        "- Плагиат запрещен. Если будет замечено, что часть задания списана, то 0 баллов ставится как списывающему, так и давшему списать.\n",
        "- Если пользуетесь кодом из открытых источников, то указывайте ссылки, откуда взяли решение. Иначе такой код может быть воспринят как плагиат.\n",
        "- При выполнении задания нельзя использовать библиотеку `scipy` и функцию `numpy.linalg.norm`\n",
        "\n",
        "При запуске тестов могут появиться предупреждения: PearsonRConstantInputWarning и PearsonRNearConstantInputWarning. На них можно не обращать внимания.\n",
        "\n",
        "Возможный максимум баллов за задание: 10 баллов <br>\n",
        "Дедлайн: ??? <br>\n",
        "Штраф: ??? - будет ли в курсе штраф? <br>\n",
        "<br>\n",
        "Для ускорения проверки, напишите здесь получившееся количество баллов: ..."
      ]
    },
    {
      "cell_type": "markdown",
      "metadata": {
        "id": "XDfR_ST_qa48"
      },
      "source": [
        "## 1. Метрика сходства\n",
        "<b>1.1. Реализация метрик (2 балла)</b>\n",
        "\n",
        "Первое, с чем необходимо разобраться, при реализации User-based подхода, это с метрикой, с помощью которой будет решаться, насколько похожи пользователи. Вам предлагается реализовать 2 метрики: на основе евклидовой метрики и коэффициент корреляции Пирсона. Шаблоны для обоих функций можете найти в `utils.py`. Не забудьте проверить реализацию на тестах.\n",
        "\n",
        "Евклидова метрика:\n",
        "\\begin{equation}\n",
        "d(p,q)=\\sqrt{(p_1-q_1)^2+(p_2-q_2)^2+\\dots+(p_n-q_n)^2} = \\sqrt{\\sum_{k=1}^n (p_k-q_k)^2}\n",
        "\\end{equation}\n",
        "\n",
        "В этом случае $d(p, q) \\in [0, \\infty)$, при этом если $d(p, q) \\to 0$, то $sim(p, q) \\to 1$. С учетом этого конечная формула будет выглядеть следующим образом:\n",
        "\\begin{equation}\n",
        "sim(p, q) = \\frac{1}{1 + d(p, q)}\n",
        "\\end{equation}\n",
        "Так же в этой формуле не будет проблем с делением на 0.\n",
        "\n",
        "Коэффициент корреляции Пирсона:\n",
        "\\begin{equation}\n",
        "r_{xy} = \\frac {\\sum_{i=1}^{m} \\left( x_i-\\bar{x} \\right)\\left( y_i-\\bar{y} \\right)}{\\sqrt{\\sum_{i=1}^{m} \\left( x_i-\\bar{x} \\right)^2 \\sum_{i=1}^{m} \\left( y_i-\\bar{y} \\right)^2}}\n",
        "\\end{equation}"
      ]
    },
    {
      "cell_type": "markdown",
      "metadata": {
        "id": "deV-LCAVqa49"
      },
      "source": [
        "<b>1.2. (1 балл)</b>\n",
        "\n",
        "Рассмотрим пользователей $u$ и $v$. Им соотвествуют векторы $x_u$ и $x_v$, где $x_u[i] = r_{ui}$ и $x_v[i] = r_{vi}$. Из лекции известно, что похожесть между векторами $x_u$ и $x_v$ вычисляются только для тех индексов i, для которых существует и $r_{ui}$, и $r_{vi}$. То есть верно следуюющее:\n",
        "\\begin{equation}\n",
        "sim(u, v) = sim(x_uI_{uv}, x_vI_{uv}),\n",
        "\\end{equation}\n",
        "где $I_{uv} = [i | \\exists r_{ui} \\& \\exists r_{vi}]$. При этом если $I_{uv} = \\emptyset$, то $sim(u, v) \\to -\\infty$.\n",
        "\n",
        "Реализуйте два новых метода, которые переиспользуют написанные вами `euclidean_distance` и `pearson_distance`, добавляющие условия на $x_u$ и $x_v$. Считается, что $x_u[i] = 0$, если $\\nexists r_{ui}$. То же верно для $x_v$.\n",
        "\n",
        "При реализации заданий можно как написать новые функции, так и использовать декораторы."
      ]
    },
    {
      "cell_type": "markdown",
      "metadata": {
        "id": "T8T7XGy7CupV"
      },
      "source": [
        "Подключение модуля utils."
      ]
    },
    {
      "cell_type": "code",
      "metadata": {
        "colab": {
          "base_uri": "https://localhost:8080/"
        },
        "id": "rNr4h7Ya-ZJz",
        "outputId": "a331b5fc-0863-43fd-a39e-fbeed27b4db9"
      },
      "source": [
        "!ls /content/drive/My\\ Drive/*.py"
      ],
      "execution_count": 1,
      "outputs": [
        {
          "output_type": "stream",
          "text": [
            "'/content/drive/My Drive/test.py'  '/content/drive/My Drive/utils.py'\n"
          ],
          "name": "stdout"
        }
      ]
    },
    {
      "cell_type": "code",
      "metadata": {
        "id": "wLaIYmZa9Ymz"
      },
      "source": [
        "!cat \"/content/drive/MyDrive/utils.py\""
      ],
      "execution_count": null,
      "outputs": []
    },
    {
      "cell_type": "code",
      "metadata": {
        "id": "y-Y0DIr59d16"
      },
      "source": [
        "import sys\n",
        "sys.path.append('/content/drive/My Drive')"
      ],
      "execution_count": 3,
      "outputs": []
    },
    {
      "cell_type": "markdown",
      "metadata": {
        "id": "eJVSUAaUcQqx"
      },
      "source": [
        "Реализация новых функций."
      ]
    },
    {
      "cell_type": "code",
      "metadata": {
        "id": "FP0eDhzoqa4-"
      },
      "source": [
        "import numpy as np\n",
        "from utils import *"
      ],
      "execution_count": 5,
      "outputs": []
    },
    {
      "cell_type": "code",
      "metadata": {
        "id": "IwocimXzttjA"
      },
      "source": [
        "def euclidean_distance_cond(x: np.array, y: np.array) -> float:\n",
        "  x_ = x[(x != 0) & (y != 0)]\n",
        "  y_ = y[(x != 0) & (y != 0)]\n",
        "  return euclidean_distance(x_, y_)\n",
        "\n",
        "def euclidean_similarity_cond(x: np.array, y: np.array) -> float:\n",
        "  return 1 / (1 + euclidean_distance_cond(x, y))\n",
        "\n",
        "def pearson_similarity_cond(x: np.array, y: np.array) -> float:\n",
        "  x_ = x[(x != 0) & (y != 0)]\n",
        "  y_ = y[(x != 0) & (y != 0)]\n",
        "  return pearson_similarity(x_, y_)"
      ],
      "execution_count": 6,
      "outputs": []
    },
    {
      "cell_type": "markdown",
      "metadata": {
        "id": "gTIewf48qa4_"
      },
      "source": [
        "## 2. User-based method\n",
        "<b>2.1. (3 балла)</b> \n",
        "\n",
        "Реализовать User-based подход, реализовав методы класса `UserBasedRecommendation`, основанного на использовании `NearestNeighbors`. В качестве метрики может для нахождения похожих пользователей может быть использована как евклидова метрика, так и коэффициент корреляции Пирсона.\n",
        "\n",
        "Не забывайте, что `NearestNeighbors` ищет минимум расстояния между элементами, поэтому логично в качестве метрики при инициализации `NearestNeighbors` использовать обратную метрике схожести. То есть такую, что когда $sim(u, v) \\to 1$, то $d(u, v) \\to 0$. Например: $d(u, v) = 1 - sim(u, v)$"
      ]
    },
    {
      "cell_type": "markdown",
      "metadata": {
        "id": "-bQUPGt0DKI5"
      },
      "source": [
        "Реализация обратных метрик."
      ]
    },
    {
      "cell_type": "code",
      "metadata": {
        "id": "DXwiNF3UDHGt"
      },
      "source": [
        "def inv_euclidean_similarity(x: np.array, y: np.array) -> float:\n",
        "  return 1 - euclidean_similarity_cond(x, y)\n",
        "\n",
        "def inv_pearson_similarity(x: np.array, y: np.array) -> float:\n",
        "  return 1 - pearson_similarity_cond(x, y)"
      ],
      "execution_count": 7,
      "outputs": []
    },
    {
      "cell_type": "markdown",
      "metadata": {
        "id": "NSZAr4PZDPN4"
      },
      "source": [
        "Реализация класса."
      ]
    },
    {
      "cell_type": "code",
      "metadata": {
        "id": "FX8Vb2Elqa5A"
      },
      "source": [
        "from sklearn.neighbors import NearestNeighbors\n",
        "from typing import Optional\n",
        "\n",
        "from collections import Counter\n",
        "\n",
        "\n",
        "class UserBasedRecommendation:\n",
        "    def __init__(self, metric: str = 'euclidean', n_recommendations: int = 5, alpha: float = 0.2):\n",
        "        \"\"\"\n",
        "        Args:\n",
        "            metric: name of metric: ['euclidean', 'pearson']\n",
        "            n_recommendations: number of recommendations. Also can be specified self.make_recommendation\n",
        "            alpha: similarity threshold: if sim(u, v) > alpha then u and v are similar\n",
        "        \"\"\"\n",
        "        self.metric = metric\n",
        "        self.n_recommendations = n_recommendations\n",
        "        self.alpha = alpha\n",
        "\n",
        "    def fit(self, X: np.array):\n",
        "        \"\"\"\n",
        "        Args:\n",
        "            X: matrix N x M where X[u, i] = r_{ui} if r_{ui} exists else X[u, i] = 0\n",
        "        \"\"\"\n",
        "        self.X = X\n",
        "\n",
        "    def __find_closest_users(self, user_id: int, n_closest_users: int):\n",
        "        if self.metric == 'euclidean':\n",
        "          neigh = NearestNeighbors(metric=inv_euclidean_similarity)\n",
        "        elif self.metric == 'pearson':\n",
        "          neigh = NearestNeighbors(metric=inv_pearson_similarity)\n",
        "        neigh.fit(self.X)\n",
        "        \n",
        "        return neigh.kneighbors([self.X[user_id]], n_closest_users)\n",
        "\n",
        "    def make_recommendation(self, user_id: int, n_recommendations: Optional[int] = 1, n_closest_users: Optional[int] = 1):\n",
        "        \"\"\"\n",
        "        Args:\n",
        "            user_id: user id to whom you want to recommend\n",
        "            n_recommendations: number of recommendations\n",
        "        \"\"\"\n",
        "        closest_users = self.__find_closest_users(user_id, n_closest_users + 1)\n",
        "        closest_users = closest_users[1][0][1 - closest_users[0][0] > self.alpha] # отбираем по пороговой alpha\n",
        "        closest_users = np.delete(closest_users, np.where(closest_users == user_id)) # удаляем из соседей исходный вектор\n",
        "\n",
        "        rec_lst = []\n",
        "        for j in range(self.X.shape[1]):\n",
        "          if (closest_users.shape[0] != 0): \n",
        "            # т.к. оценка не бинарная (купил/не купил), то для p будем сумму оценок делить на кол-во соседей\n",
        "            p = sum([self.X[i][j] for i in closest_users if self.X[i][j] != 0]) / closest_users.shape[0]\n",
        "          else:\n",
        "            p = 0\n",
        "          rec_lst.append((p, j))\n",
        "          \n",
        "        rec_lst = sorted(rec_lst, key=lambda x: -x[0])\n",
        "\n",
        "        return list(map(lambda x: x[1], rec_lst[:n_recommendations]))"
      ],
      "execution_count": 8,
      "outputs": []
    },
    {
      "cell_type": "markdown",
      "metadata": {
        "id": "aR8m8ikRqa5B"
      },
      "source": [
        "<b>2.2. (1 балла)</b>\n",
        "\n",
        "Приведите пример, для которого использование разных метрик будет давать разные рекомендации. Объясните свой пример."
      ]
    },
    {
      "cell_type": "code",
      "metadata": {
        "id": "tlSMFpVkcTC0"
      },
      "source": [
        "data = np.array([\n",
        "          [1.4,   1.1],\n",
        "          [0.9,   0.75],\n",
        "          [0.4, 0.5],\n",
        "])"
      ],
      "execution_count": 9,
      "outputs": []
    },
    {
      "cell_type": "code",
      "metadata": {
        "id": "F3jk9Eeeqa5B",
        "colab": {
          "base_uri": "https://localhost:8080/"
        },
        "outputId": "b9317ecf-718e-4b2c-d155-02423125d308"
      },
      "source": [
        "recsys = UserBasedRecommendation(alpha=0.6)\n",
        "recsys.fit(data)\n",
        "recsys.make_recommendation(1, n_recommendations=1, n_closest_users=1)"
      ],
      "execution_count": 16,
      "outputs": [
        {
          "output_type": "execute_result",
          "data": {
            "text/plain": [
              "[1]"
            ]
          },
          "metadata": {
            "tags": []
          },
          "execution_count": 16
        }
      ]
    },
    {
      "cell_type": "code",
      "metadata": {
        "colab": {
          "base_uri": "https://localhost:8080/"
        },
        "id": "3Fmys71otvFJ",
        "outputId": "9262b62a-6de7-47a0-f74c-baa8aa67f1c1"
      },
      "source": [
        "recsys = UserBasedRecommendation('pearson', alpha=0.8)\n",
        "recsys.fit(data)\n",
        "recsys.make_recommendation(1, n_recommendations=1, n_closest_users=1)"
      ],
      "execution_count": 17,
      "outputs": [
        {
          "output_type": "execute_result",
          "data": {
            "text/plain": [
              "[0]"
            ]
          },
          "metadata": {
            "tags": []
          },
          "execution_count": 17
        }
      ]
    },
    {
      "cell_type": "markdown",
      "metadata": {
        "id": "4IE2SWpFbt16"
      },
      "source": [
        "**Объяснение:**\n",
        "\n",
        "Нам дана таблица из 3 строк (пользователи) и 2 столбцов (товары). Как видно, хотя оценки пользователей 1 и 2 различаются, оба оценили товар 1 выше, чем товар 2. Пользователь 3 оценил оба товара намного ниже, и товар 1 ему понравился меньше, чем товар 2.\n",
        "\n",
        "Делаем рекомендацию для пользователя 2:\n",
        "\n",
        "\n",
        "*   Евклидова метрика: сосед - пользователь 3 (разница в оценках чуть меньше, чем с пользователем 2, корреляция в оценках не учитывается), значит рекомендация - товар 2.\n",
        "*   Критерий Пирсона: сосед - пользователь 1 (учитывается корреляция в оценках), значит рекомендация - товар 1.\n",
        "\n"
      ]
    },
    {
      "cell_type": "markdown",
      "metadata": {
        "id": "gjldwHEAqa5C"
      },
      "source": [
        "## 3. Оценка качества\n",
        "<b>3.1. (1 балл)</b>\n",
        "\n",
        "Реализуйте Average Precision at k и Mean Average Precision at k. Шаблоны можете найти в `utils.py`.\n",
        "\\begin{align*}\n",
        "AP@K = \\frac{1}{m}\\sum_{k=1}^K P(k)*rel(k), \\\\\n",
        "MAP@K = \\frac{1}{|U|}\\sum_{u=1}^{|U|}(AP@K)_u\n",
        "\\end{align*}\n",
        "где $P(k)$ - Precision at k, $rel(k) = 1$, если рекомендация релевантна, иначе $rel(k) = 0$."
      ]
    },
    {
      "cell_type": "markdown",
      "metadata": {
        "id": "in2kkwKBCHsI"
      },
      "source": [
        "**Ответ:** функции реализованы в `utils`, ранее были импортированы."
      ]
    },
    {
      "cell_type": "markdown",
      "metadata": {
        "id": "jX1XyX8Mqa5D"
      },
      "source": [
        "## 4. Применение модели\n",
        "<b>4.1. (2 балла)</b>\n",
        "\n",
        "Выгрузите датасет `ratings_small.csv`: https://www.kaggle.com/rounakbanik/the-movies-dataset#ratings_small.csv"
      ]
    },
    {
      "cell_type": "code",
      "metadata": {
        "id": "WU43s3-6qa5D"
      },
      "source": [
        "import pandas as pd\n",
        "from sklearn.model_selection import train_test_split"
      ],
      "execution_count": 18,
      "outputs": []
    },
    {
      "cell_type": "code",
      "metadata": {
        "id": "dUqt7_i8qa5E",
        "colab": {
          "base_uri": "https://localhost:8080/"
        },
        "outputId": "7b2f53da-b474-414f-892f-09e89f51c259"
      },
      "source": [
        "data = pd.read_csv('/content/drive/MyDrive/Тинькофф.Поколение/ratings_small.csv', index_col=False)\n",
        "data.shape"
      ],
      "execution_count": 19,
      "outputs": [
        {
          "output_type": "execute_result",
          "data": {
            "text/plain": [
              "(100004, 4)"
            ]
          },
          "metadata": {
            "tags": []
          },
          "execution_count": 19
        }
      ]
    },
    {
      "cell_type": "code",
      "metadata": {
        "id": "D0QyaP4oqa5E",
        "colab": {
          "base_uri": "https://localhost:8080/"
        },
        "outputId": "f92f4316-97a8-4bcd-a86e-f7878210f8cc"
      },
      "source": [
        "data.userId.min(), data.userId.max(), len(data.userId.unique())"
      ],
      "execution_count": 20,
      "outputs": [
        {
          "output_type": "execute_result",
          "data": {
            "text/plain": [
              "(1, 671, 671)"
            ]
          },
          "metadata": {
            "tags": []
          },
          "execution_count": 20
        }
      ]
    },
    {
      "cell_type": "code",
      "metadata": {
        "id": "L58tt5y3qa5E",
        "colab": {
          "base_uri": "https://localhost:8080/"
        },
        "outputId": "452fce8c-8904-4cb5-ad8c-b5ff1dbb2553"
      },
      "source": [
        "data.movieId.min(), data.movieId.max(), len(data.movieId.unique())"
      ],
      "execution_count": 21,
      "outputs": [
        {
          "output_type": "execute_result",
          "data": {
            "text/plain": [
              "(1, 163949, 9066)"
            ]
          },
          "metadata": {
            "tags": []
          },
          "execution_count": 21
        }
      ]
    },
    {
      "cell_type": "code",
      "metadata": {
        "colab": {
          "base_uri": "https://localhost:8080/",
          "height": 202
        },
        "id": "CxbmGcN152M6",
        "outputId": "5575bfa2-fd74-4a70-9898-bc52e014621a"
      },
      "source": [
        "data.head()"
      ],
      "execution_count": 22,
      "outputs": [
        {
          "output_type": "execute_result",
          "data": {
            "text/html": [
              "<div>\n",
              "<style scoped>\n",
              "    .dataframe tbody tr th:only-of-type {\n",
              "        vertical-align: middle;\n",
              "    }\n",
              "\n",
              "    .dataframe tbody tr th {\n",
              "        vertical-align: top;\n",
              "    }\n",
              "\n",
              "    .dataframe thead th {\n",
              "        text-align: right;\n",
              "    }\n",
              "</style>\n",
              "<table border=\"1\" class=\"dataframe\">\n",
              "  <thead>\n",
              "    <tr style=\"text-align: right;\">\n",
              "      <th></th>\n",
              "      <th>userId</th>\n",
              "      <th>movieId</th>\n",
              "      <th>rating</th>\n",
              "      <th>timestamp</th>\n",
              "    </tr>\n",
              "  </thead>\n",
              "  <tbody>\n",
              "    <tr>\n",
              "      <th>0</th>\n",
              "      <td>1</td>\n",
              "      <td>31</td>\n",
              "      <td>2.5</td>\n",
              "      <td>1260759144</td>\n",
              "    </tr>\n",
              "    <tr>\n",
              "      <th>1</th>\n",
              "      <td>1</td>\n",
              "      <td>1029</td>\n",
              "      <td>3.0</td>\n",
              "      <td>1260759179</td>\n",
              "    </tr>\n",
              "    <tr>\n",
              "      <th>2</th>\n",
              "      <td>1</td>\n",
              "      <td>1061</td>\n",
              "      <td>3.0</td>\n",
              "      <td>1260759182</td>\n",
              "    </tr>\n",
              "    <tr>\n",
              "      <th>3</th>\n",
              "      <td>1</td>\n",
              "      <td>1129</td>\n",
              "      <td>2.0</td>\n",
              "      <td>1260759185</td>\n",
              "    </tr>\n",
              "    <tr>\n",
              "      <th>4</th>\n",
              "      <td>1</td>\n",
              "      <td>1172</td>\n",
              "      <td>4.0</td>\n",
              "      <td>1260759205</td>\n",
              "    </tr>\n",
              "  </tbody>\n",
              "</table>\n",
              "</div>"
            ],
            "text/plain": [
              "   userId  movieId  rating   timestamp\n",
              "0       1       31     2.5  1260759144\n",
              "1       1     1029     3.0  1260759179\n",
              "2       1     1061     3.0  1260759182\n",
              "3       1     1129     2.0  1260759185\n",
              "4       1     1172     4.0  1260759205"
            ]
          },
          "metadata": {
            "tags": []
          },
          "execution_count": 22
        }
      ]
    },
    {
      "cell_type": "markdown",
      "metadata": {
        "id": "7VOXlPeXqa5F"
      },
      "source": [
        "Для простоты работы с данными, измените нумерацию пользователей и фильмов так, чтобы нумерация начиналась с 0 и шла непрерывно."
      ]
    },
    {
      "cell_type": "code",
      "metadata": {
        "id": "ngVkRVsT9HCX"
      },
      "source": [
        "user_ids = np.unique(data['userId']) # с помощью словарей изменяем нумерацию данных\n",
        "user_dict = {user_ids[i]: i for i in range(user_ids.shape[0])}\n",
        "\n",
        "movie_ids = np.unique(data['movieId'])\n",
        "movie_dict = {movie_ids[i]: i for i in range(movie_ids.shape[0])}\n",
        "\n",
        "data['userId'] = data['userId'].apply(lambda x: user_dict[x])\n",
        "data['movieId'] = data['movieId'].apply(lambda x: movie_dict[x])"
      ],
      "execution_count": 23,
      "outputs": []
    },
    {
      "cell_type": "code",
      "metadata": {
        "id": "w3PhVQfoqa5F",
        "colab": {
          "base_uri": "https://localhost:8080/"
        },
        "outputId": "59411fb3-ddbd-4b5e-eae3-501ba4967657"
      },
      "source": [
        "data.userId.min(), data.userId.max(), len(data.userId.unique())"
      ],
      "execution_count": 24,
      "outputs": [
        {
          "output_type": "execute_result",
          "data": {
            "text/plain": [
              "(0, 670, 671)"
            ]
          },
          "metadata": {
            "tags": []
          },
          "execution_count": 24
        }
      ]
    },
    {
      "cell_type": "code",
      "metadata": {
        "id": "EDnQKIenqa5G",
        "colab": {
          "base_uri": "https://localhost:8080/"
        },
        "outputId": "434aa5e4-c9a5-4199-e3d3-7163031de7a1"
      },
      "source": [
        "data.movieId.min(), data.movieId.max(), len(data.movieId.unique())"
      ],
      "execution_count": 25,
      "outputs": [
        {
          "output_type": "execute_result",
          "data": {
            "text/plain": [
              "(0, 9065, 9066)"
            ]
          },
          "metadata": {
            "tags": []
          },
          "execution_count": 25
        }
      ]
    },
    {
      "cell_type": "markdown",
      "metadata": {
        "id": "YWAcOugxqa5H"
      },
      "source": [
        "Удалим для наиболее активных пользователей 5 оценок"
      ]
    },
    {
      "cell_type": "code",
      "metadata": {
        "id": "9hMvLI1aqa5H",
        "colab": {
          "base_uri": "https://localhost:8080/"
        },
        "outputId": "17304ec8-8f35-4829-a563-fd3bf1f18dd4"
      },
      "source": [
        "active_users = data.userId.value_counts()[:10].index\n",
        "test_data = pd.DataFrame([], columns=data.columns)\n",
        "for user_id in active_users:\n",
        "    _, test = train_test_split(data[data.userId == user_id], test_size=5, random_state=42)\n",
        "    test_data = test_data.append(test, ignore_index=True)\n",
        "    data = data[~((data.userId == user_id) & (data.movieId.isin(test.movieId.values)))]\n",
        "data.shape, test_data.shape"
      ],
      "execution_count": 26,
      "outputs": [
        {
          "output_type": "execute_result",
          "data": {
            "text/plain": [
              "((99954, 4), (50, 4))"
            ]
          },
          "metadata": {
            "tags": []
          },
          "execution_count": 26
        }
      ]
    },
    {
      "cell_type": "markdown",
      "metadata": {
        "id": "pIv5Gcv2qa5I"
      },
      "source": [
        "Преобразуем данные в таблицу `X`, с которой может работать `UserBasedRecommendation`, где $X_{ui} = r_{ui}$, если пользователь $u$ поставил оценку фильму $i$, и $X_{ui} = 0$, если пользователь $u$ не проставил оценку фильму $i$.\n",
        "\n",
        "Вам может пригодиться `csr_matrix`."
      ]
    },
    {
      "cell_type": "code",
      "metadata": {
        "id": "wVUclR6W7Jtg"
      },
      "source": [
        "import scipy.sparse as scp # FROM INCLASS\n",
        "\n",
        "def get_sparse(data):\n",
        "    return scp.coo_matrix(\n",
        "        (\n",
        "            data['rating'],\n",
        "            (data['userId'], data['movieId'])\n",
        "        ), \n",
        "        shape=(len(user_dict), len(movie_dict))\n",
        "    ).tocsr()"
      ],
      "execution_count": 27,
      "outputs": []
    },
    {
      "cell_type": "code",
      "metadata": {
        "id": "8lVT0CTxAEcZ"
      },
      "source": [
        "X = get_sparse(data)"
      ],
      "execution_count": 28,
      "outputs": []
    },
    {
      "cell_type": "markdown",
      "metadata": {
        "id": "QwXSUT-7qa5J"
      },
      "source": [
        "Для пользователей, у которых были удалены фильмы, найдите топ 100 фильмов, который должен посмотреть каждый из этих пользователей, используя `UserBasedRecommendation`. Не забудьте подобрать параметр alpha."
      ]
    },
    {
      "cell_type": "markdown",
      "metadata": {
        "id": "C8noYwXaqa5K"
      },
      "source": [
        "Используя метрику `MAP@5`, `MAP@10` и `MAP@100`, определите, насколько эффективна user-based рекомендательная система для данной задачи."
      ]
    },
    {
      "cell_type": "code",
      "metadata": {
        "id": "00gd_QbEbHE4"
      },
      "source": [
        "def get_movies(user, k): # предоставлено Кириллом в чате ML)\n",
        "    db = data[data.userId == user]\n",
        "    db = sorted(list(db.iterrows()), key=lambda x: -x[1].rating)\n",
        "    return list(map(lambda x: x[1].movieId, db))[:k]"
      ],
      "execution_count": 31,
      "outputs": []
    },
    {
      "cell_type": "code",
      "metadata": {
        "id": "1Cy-i5Cv5dDk"
      },
      "source": [
        "actual_lst = np.array([get_movies(i, 100) for i in active_users]) # получаем тестовые данные"
      ],
      "execution_count": 32,
      "outputs": []
    },
    {
      "cell_type": "markdown",
      "metadata": {
        "id": "VrY5pMPFPg67"
      },
      "source": [
        "Подберем оптимальное alpha для метрики - `'euclidean'`, нарисуем график для наглядности."
      ]
    },
    {
      "cell_type": "code",
      "metadata": {
        "id": "dE2G07Zd49D5"
      },
      "source": [
        "mapk5 = []\n",
        "mapk10 = []\n",
        "mapk100 = []\n",
        "\n",
        "for alpha in np.arange(0, 1, 0.05):\n",
        "  recsys = UserBasedRecommendation(alpha=alpha)\n",
        "  recsys.fit(X.toarray())\n",
        "  res_lst = []\n",
        "  for i in active_users:\n",
        "    res = recsys.make_recommendation(i, 100, 10)\n",
        "    res_lst.append(res)\n",
        "\n",
        "  res_lst = np.array(res_lst)\n",
        "  mapk5.append(mapk(actual_lst[:, :5], res_lst[:, :5], 5))\n",
        "  mapk10.append(mapk(actual_lst[:, :10], res_lst[:, :10], 10))\n",
        "  mapk100.append(mapk(actual_lst, res_lst, 100))"
      ],
      "execution_count": 33,
      "outputs": []
    },
    {
      "cell_type": "code",
      "metadata": {
        "colab": {
          "base_uri": "https://localhost:8080/",
          "height": 295
        },
        "id": "M6EO-v5oPVvf",
        "outputId": "ce7d0f40-80ff-41fc-ac78-df98ccd86f1c"
      },
      "source": [
        "from matplotlib import pyplot as plt\n",
        "\n",
        "plt.plot(np.arange(0, 1, 0.05), mapk5, label='map5')\n",
        "plt.plot(np.arange(0, 1, 0.05), mapk10, label='map10')\n",
        "plt.plot(np.arange(0, 1, 0.05), mapk100, label='map100')\n",
        "plt.title('Euclidean')\n",
        "plt.xlabel('alpha')\n",
        "plt.ylabel('score')\n",
        "plt.legend()\n",
        "plt.show()"
      ],
      "execution_count": 34,
      "outputs": [
        {
          "output_type": "display_data",
          "data": {
            "image/png": "[encoded data removed]",
            "text/plain": [
              "<Figure size 432x288 with 1 Axes>"
            ]
          },
          "metadata": {
            "tags": [],
            "needs_background": "light"
          }
        }
      ]
    },
    {
      "cell_type": "markdown",
      "metadata": {
        "id": "97hoGUGdPyMr"
      },
      "source": [
        "Подберем оптимальное alpha для метрики - `'pearson'`, нарисуем график для наглядности."
      ]
    },
    {
      "cell_type": "code",
      "metadata": {
        "id": "kl7vw23tTghr"
      },
      "source": [
        "mapk5 = []\n",
        "mapk10 = []\n",
        "mapk100 = []\n",
        "\n",
        "for alpha in np.arange(0, 1, 0.05):\n",
        "  recsys = UserBasedRecommendation('pearson', alpha=alpha)\n",
        "  recsys.fit(X.toarray())\n",
        "  res_lst = []\n",
        "  for i in active_users:\n",
        "    res = recsys.make_recommendation(i, 100, 10)\n",
        "    res_lst.append(res)\n",
        "\n",
        "  res_lst = np.array(res_lst)\n",
        "  mapk5.append(mapk(actual_lst[:, :5], res_lst[:, :5], 5))\n",
        "  mapk10.append(mapk(actual_lst[:, :10], res_lst[:, :10], 10))\n",
        "  mapk100.append(mapk(actual_lst, res_lst, 100))"
      ],
      "execution_count": null,
      "outputs": []
    },
    {
      "cell_type": "code",
      "metadata": {
        "colab": {
          "base_uri": "https://localhost:8080/",
          "height": 295
        },
        "id": "C1fpNYctTiIW",
        "outputId": "5797fe90-a30f-446c-9b3d-3727da94541e"
      },
      "source": [
        "plt.plot(np.arange(0, 1, 0.05), mapk5, label='map5')\n",
        "plt.plot(np.arange(0, 1, 0.05), mapk10, label='map10')\n",
        "plt.plot(np.arange(0, 1, 0.05), mapk100, label='map100')\n",
        "plt.title('Pearson')\n",
        "plt.xlabel('alpha')\n",
        "plt.ylabel('score')\n",
        "plt.legend()\n",
        "plt.show()"
      ],
      "execution_count": 36,
      "outputs": [
        {
          "output_type": "display_data",
          "data": {
            "image/png": "[encoded data removed]",
            "text/plain": [
              "<Figure size 432x288 with 1 Axes>"
            ]
          },
          "metadata": {
            "tags": [],
            "needs_background": "light"
          }
        }
      ]
    },
    {
      "cell_type": "markdown",
      "metadata": {
        "id": "TB4N_HVcVQt6"
      },
      "source": [
        "Метрика `'pearson'` показывает более высокий скор, при этом можем взять для нее удобное `alpha=0.5` (при более высоком `alpha` скор падает)."
      ]
    },
    {
      "cell_type": "markdown",
      "metadata": {
        "id": "vfhk0ewlWLH8"
      },
      "source": [
        "На лучшей модели (`metric='pearson'`, `alpha=0.5`) найдем оптимальное количество соседей для пользователя (это не окончательное количество, ведь потом мы не рассматриваем соседей, для которых `similarity<=alpha`)."
      ]
    },
    {
      "cell_type": "code",
      "metadata": {
        "id": "9MulHte7Rrmx"
      },
      "source": [
        "mapk5 = []\n",
        "mapk10 = []\n",
        "mapk100 = []\n",
        "\n",
        "for n in [1, 10, 20, 50, 100, 200, 300, 500]:\n",
        "  recsys = UserBasedRecommendation('pearson', alpha=0.5)\n",
        "  recsys.fit(X.toarray())\n",
        "  res_lst = []\n",
        "  for i in active_users:\n",
        "    res = recsys.make_recommendation(i, 100, n)\n",
        "    res_lst.append(res)\n",
        "\n",
        "  res_lst = np.array(res_lst)\n",
        "  mapk5.append(mapk(actual_lst[:, :5], res_lst[:, :5], 5))\n",
        "  mapk10.append(mapk(actual_lst[:, :10], res_lst[:, :10], 10))\n",
        "  mapk100.append(mapk(actual_lst, res_lst, 100))"
      ],
      "execution_count": null,
      "outputs": []
    },
    {
      "cell_type": "code",
      "metadata": {
        "colab": {
          "base_uri": "https://localhost:8080/",
          "height": 296
        },
        "id": "RUhicz5oUysi",
        "outputId": "7d5e0bba-2296-4707-ca78-49de588308dc"
      },
      "source": [
        "plt.plot([1, 10, 20, 50, 100, 200, 300, 500], mapk5, label='map5')\n",
        "plt.plot([1, 10, 20, 50, 100, 200, 300, 500], mapk10, label='map10')\n",
        "plt.plot([1, 10, 20, 50, 100, 200, 300, 500], mapk100, label='map100')\n",
        "plt.title('N_closest_neighbors')\n",
        "plt.xlabel('n_closest_neighbors')\n",
        "plt.ylabel('score')\n",
        "plt.legend()\n",
        "plt.show()"
      ],
      "execution_count": 38,
      "outputs": [
        {
          "output_type": "display_data",
          "data": {
            "image/png": "[encoded data removed]",
            "text/plain": [
              "<Figure size 432x288 with 1 Axes>"
            ]
          },
          "metadata": {
            "tags": [],
            "needs_background": "light"
          }
        }
      ]
    },
    {
      "cell_type": "markdown",
      "metadata": {
        "id": "93qWM1iAX72O"
      },
      "source": [
        "При `n_closest_neighbors>100` качество ранжирования не изменяется и является лучшим результатом (при более низких `n_closest_neighbors` качество падает)."
      ]
    },
    {
      "cell_type": "markdown",
      "metadata": {
        "id": "EsAPrChjYfB7"
      },
      "source": [
        "**Лучшая модель:**\n",
        "\n",
        "\n",
        "*   `metric='pearson'`,\n",
        "*   `alpha=0.5`,\n",
        "*   `n_closest_neighbors=100`.\n"
      ]
    },
    {
      "cell_type": "code",
      "metadata": {
        "id": "LY1OwDxQe33B"
      },
      "source": [
        "recsys = UserBasedRecommendation('pearson', alpha=0.5)\n",
        "recsys.fit(X.toarray())\n",
        "res_lst = []\n",
        "for i in active_users:\n",
        "  res = recsys.make_recommendation(i, 100, 100)\n",
        "  res_lst.append(res)\n",
        "\n",
        "res_lst = np.array(res_lst)"
      ],
      "execution_count": null,
      "outputs": []
    },
    {
      "cell_type": "markdown",
      "metadata": {
        "id": "YeN-EQ1kficD"
      },
      "source": [
        "**Лучший результат:**"
      ]
    },
    {
      "cell_type": "code",
      "metadata": {
        "colab": {
          "base_uri": "https://localhost:8080/"
        },
        "id": "4ZFy_Zssfd7a",
        "outputId": "eaf490a9-63b1-46b4-e0d0-68102d48c1ed"
      },
      "source": [
        "print('MAP@5: ', mapk(actual_lst[:, :5], res_lst[:, :5], 5))\n",
        "print('MAP@10: ', mapk(actual_lst[:, :10], res_lst[:, :10], 10))\n",
        "print('MAP@100: ', mapk(actual_lst, res_lst, 100))"
      ],
      "execution_count": 42,
      "outputs": [
        {
          "output_type": "stream",
          "text": [
            "MAP@5:  0.03666666666666667\n",
            "MAP@10:  0.13246031746031744\n",
            "MAP@100:  0.09768482146121783\n"
          ],
          "name": "stdout"
        }
      ]
    },
    {
      "cell_type": "markdown",
      "metadata": {
        "id": "ArCvefGxfqG6"
      },
      "source": [
        "MAP@5:  0.03666666666666667\n",
        "\n",
        "MAP@10:  0.13246031746031744\n",
        "\n",
        "MAP@100:  0.09768482146121783"
      ]
    },
    {
      "cell_type": "markdown",
      "metadata": {
        "id": "e5HwlxxBqa5L"
      },
      "source": [
        "Как можно улучшить работу модели?\n",
        "\n",
        "<b>Ответ:</b>"
      ]
    },
    {
      "cell_type": "markdown",
      "metadata": {
        "id": "5tlocCRxSfBu"
      },
      "source": [
        "1. Попробовать другие метрики схожести пользователей:\n",
        "  * Корреляция Спирмана,\n",
        "  * Косинусное расстояние\n",
        "\n",
        "2. Нормализовать данные (например, оценки пользователя для любого фильма не превышают 5 по 10-балльной шкале):\n",
        "  * Центрирование,\n",
        "  * Стандартизация,\n",
        "  * Двойная Стандартизация\n",
        "\n",
        "3. Доступные свойства пользователей/товаров позволят значительно повысить качество подбора \"соседей\",\n",
        "\n",
        "4. Возможно, item-based или гибридная система была бы более пригодна для данной задачи."
      ]
    }
  ]
}