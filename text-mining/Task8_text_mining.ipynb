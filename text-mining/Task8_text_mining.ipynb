{
  "nbformat": 4,
  "nbformat_minor": 0,
  "metadata": {
    "colab": {
      "name": "Stepanov_Nikita_Task_8.ipynb",
      "provenance": [],
      "collapsed_sections": []
    },
    "kernelspec": {
      "name": "python3",
      "display_name": "Python 3"
    },
    "language_info": {
      "name": "python"
    }
  },
  "cells": [
    {
      "cell_type": "code",
      "metadata": {
        "id": "6ZdTnE74C5pI"
      },
      "source": [
        "import pandas as pd\n",
        "import numpy as np\n",
        "from matplotlib import pyplot as plt"
      ],
      "execution_count": 1,
      "outputs": []
    },
    {
      "cell_type": "markdown",
      "metadata": {
        "id": "CZZhZ_iareYA"
      },
      "source": [
        "Загрузим данные и посмотрим на них."
      ]
    },
    {
      "cell_type": "code",
      "metadata": {
        "id": "z8ohygaPPIeS"
      },
      "source": [
        "df = pd.read_csv('/content/drive/MyDrive/Тинькофф.Поколение/train.csv', encoding='ISO-8859-1')"
      ],
      "execution_count": 2,
      "outputs": []
    },
    {
      "cell_type": "code",
      "metadata": {
        "colab": {
          "base_uri": "https://localhost:8080/",
          "height": 202
        },
        "id": "7dw3rArEQHGz",
        "outputId": "352fe015-a0ea-4495-a664-4147f0845171"
      },
      "source": [
        "df.head()"
      ],
      "execution_count": 3,
      "outputs": [
        {
          "output_type": "execute_result",
          "data": {
            "text/html": [
              "<div>\n",
              "<style scoped>\n",
              "    .dataframe tbody tr th:only-of-type {\n",
              "        vertical-align: middle;\n",
              "    }\n",
              "\n",
              "    .dataframe tbody tr th {\n",
              "        vertical-align: top;\n",
              "    }\n",
              "\n",
              "    .dataframe thead th {\n",
              "        text-align: right;\n",
              "    }\n",
              "</style>\n",
              "<table border=\"1\" class=\"dataframe\">\n",
              "  <thead>\n",
              "    <tr style=\"text-align: right;\">\n",
              "      <th></th>\n",
              "      <th>Id</th>\n",
              "      <th>Hotel_name</th>\n",
              "      <th>Review_Title</th>\n",
              "      <th>Review_Text</th>\n",
              "      <th>Rating</th>\n",
              "    </tr>\n",
              "  </thead>\n",
              "  <tbody>\n",
              "    <tr>\n",
              "      <th>0</th>\n",
              "      <td>0</td>\n",
              "      <td>Park Hyatt</td>\n",
              "      <td>Refuge in Chennai</td>\n",
              "      <td>Excellent room and exercise facility. All arou...</td>\n",
              "      <td>80.0</td>\n",
              "    </tr>\n",
              "    <tr>\n",
              "      <th>1</th>\n",
              "      <td>1</td>\n",
              "      <td>Hilton Chennai</td>\n",
              "      <td>Hilton Chennai</td>\n",
              "      <td>Very comfortable and felt safe. \\r\\nStaff were...</td>\n",
              "      <td>100.0</td>\n",
              "    </tr>\n",
              "    <tr>\n",
              "      <th>2</th>\n",
              "      <td>2</td>\n",
              "      <td>The Royal Regency</td>\n",
              "      <td>No worth the rating shown in websites. Pricing...</td>\n",
              "      <td>Not worth the rating shown. Service is not goo...</td>\n",
              "      <td>71.0</td>\n",
              "    </tr>\n",
              "    <tr>\n",
              "      <th>3</th>\n",
              "      <td>3</td>\n",
              "      <td>Rivera</td>\n",
              "      <td>Good stay</td>\n",
              "      <td>First of all nice &amp; courteous staff, only one ...</td>\n",
              "      <td>86.0</td>\n",
              "    </tr>\n",
              "    <tr>\n",
              "      <th>4</th>\n",
              "      <td>4</td>\n",
              "      <td>Park Hyatt</td>\n",
              "      <td>Needs improvement</td>\n",
              "      <td>Overall ambience of the hotel is very good. In...</td>\n",
              "      <td>86.0</td>\n",
              "    </tr>\n",
              "  </tbody>\n",
              "</table>\n",
              "</div>"
            ],
            "text/plain": [
              "   Id  ... Rating\n",
              "0   0  ...   80.0\n",
              "1   1  ...  100.0\n",
              "2   2  ...   71.0\n",
              "3   3  ...   86.0\n",
              "4   4  ...   86.0\n",
              "\n",
              "[5 rows x 5 columns]"
            ]
          },
          "metadata": {
            "tags": []
          },
          "execution_count": 3
        }
      ]
    },
    {
      "cell_type": "code",
      "metadata": {
        "colab": {
          "base_uri": "https://localhost:8080/"
        },
        "id": "sOd8P2BDsYfO",
        "outputId": "e8e7cc6e-2292-443b-d2de-492812db0613"
      },
      "source": [
        "np.unique(df['Hotel_name']).shape # название отеля - категориальный признак"
      ],
      "execution_count": 4,
      "outputs": [
        {
          "output_type": "execute_result",
          "data": {
            "text/plain": [
              "(243,)"
            ]
          },
          "metadata": {
            "tags": []
          },
          "execution_count": 4
        }
      ]
    },
    {
      "cell_type": "code",
      "metadata": {
        "colab": {
          "base_uri": "https://localhost:8080/"
        },
        "id": "_Bbhd6JirrHn",
        "outputId": "9d539b3b-98cc-413f-a162-380a1c9684b0"
      },
      "source": [
        "df.info()"
      ],
      "execution_count": 5,
      "outputs": [
        {
          "output_type": "stream",
          "text": [
            "<class 'pandas.core.frame.DataFrame'>\n",
            "RangeIndex: 2351 entries, 0 to 2350\n",
            "Data columns (total 5 columns):\n",
            " #   Column        Non-Null Count  Dtype  \n",
            "---  ------        --------------  -----  \n",
            " 0   Id            2351 non-null   int64  \n",
            " 1   Hotel_name    2351 non-null   object \n",
            " 2   Review_Title  2136 non-null   object \n",
            " 3   Review_Text   2351 non-null   object \n",
            " 4   Rating        2351 non-null   float64\n",
            "dtypes: float64(1), int64(1), object(3)\n",
            "memory usage: 92.0+ KB\n"
          ],
          "name": "stdout"
        }
      ]
    },
    {
      "cell_type": "markdown",
      "metadata": {
        "id": "uCNzi5LPy0q-"
      },
      "source": [
        "Мы решаем задачу регрессии. Метрика - MSE/RMSE."
      ]
    },
    {
      "cell_type": "markdown",
      "metadata": {
        "id": "5QSm5OSBy-6I"
      },
      "source": [
        "# Preprocessing."
      ]
    },
    {
      "cell_type": "markdown",
      "metadata": {
        "id": "fXObqDCDso0b"
      },
      "source": [
        "Разберемся с NaN."
      ]
    },
    {
      "cell_type": "code",
      "metadata": {
        "id": "Jvpb_PhjusRl",
        "colab": {
          "base_uri": "https://localhost:8080/"
        },
        "outputId": "2725436d-814b-4ab6-f0a3-3f6b9c12a6f4"
      },
      "source": [
        "df.isna().sum()"
      ],
      "execution_count": 6,
      "outputs": [
        {
          "output_type": "execute_result",
          "data": {
            "text/plain": [
              "Id                0\n",
              "Hotel_name        0\n",
              "Review_Title    215\n",
              "Review_Text       0\n",
              "Rating            0\n",
              "dtype: int64"
            ]
          },
          "metadata": {
            "tags": []
          },
          "execution_count": 6
        }
      ]
    },
    {
      "cell_type": "code",
      "metadata": {
        "id": "93Ij5Aatu0HX"
      },
      "source": [
        "df['Review_Title'].fillna('no description', inplace=True) # заполним Nan'ы"
      ],
      "execution_count": 7,
      "outputs": []
    },
    {
      "cell_type": "markdown",
      "metadata": {
        "id": "qGZwQZCQ25OZ"
      },
      "source": [
        "Выкинем столбец Id, он бесполезен."
      ]
    },
    {
      "cell_type": "code",
      "metadata": {
        "id": "i5HsVPSx3GpS"
      },
      "source": [
        "df = df.drop('Id', axis=1)"
      ],
      "execution_count": 8,
      "outputs": []
    },
    {
      "cell_type": "markdown",
      "metadata": {
        "id": "Fk6snoG6r1Bv"
      },
      "source": [
        "## Обработаем текстовые признаки, feature engineering."
      ]
    },
    {
      "cell_type": "markdown",
      "metadata": {
        "id": "BbJ5-gXP9nFH"
      },
      "source": [
        "### Первичная обработка: lower-case и убираем знаки препинания."
      ]
    },
    {
      "cell_type": "code",
      "metadata": {
        "id": "d2LxRSud9yGo"
      },
      "source": [
        "import re\n",
        "df['Review_Text'] = df['Review_Text'].apply(lambda x: ' '.join(re.findall(r'\\w+', x.lower())))\n",
        "df['Review_Title'] = df['Review_Title'].apply(lambda x: ' '.join(re.findall(r'\\w+', x.lower())))"
      ],
      "execution_count": 9,
      "outputs": []
    },
    {
      "cell_type": "code",
      "metadata": {
        "colab": {
          "base_uri": "https://localhost:8080/",
          "height": 202
        },
        "id": "njBCrSEO-8WS",
        "outputId": "5745f7be-7741-42d2-e2ca-9d9c79f34d24"
      },
      "source": [
        "df.head()"
      ],
      "execution_count": 10,
      "outputs": [
        {
          "output_type": "execute_result",
          "data": {
            "text/html": [
              "<div>\n",
              "<style scoped>\n",
              "    .dataframe tbody tr th:only-of-type {\n",
              "        vertical-align: middle;\n",
              "    }\n",
              "\n",
              "    .dataframe tbody tr th {\n",
              "        vertical-align: top;\n",
              "    }\n",
              "\n",
              "    .dataframe thead th {\n",
              "        text-align: right;\n",
              "    }\n",
              "</style>\n",
              "<table border=\"1\" class=\"dataframe\">\n",
              "  <thead>\n",
              "    <tr style=\"text-align: right;\">\n",
              "      <th></th>\n",
              "      <th>Hotel_name</th>\n",
              "      <th>Review_Title</th>\n",
              "      <th>Review_Text</th>\n",
              "      <th>Rating</th>\n",
              "    </tr>\n",
              "  </thead>\n",
              "  <tbody>\n",
              "    <tr>\n",
              "      <th>0</th>\n",
              "      <td>Park Hyatt</td>\n",
              "      <td>refuge in chennai</td>\n",
              "      <td>excellent room and exercise facility all aroun...</td>\n",
              "      <td>80.0</td>\n",
              "    </tr>\n",
              "    <tr>\n",
              "      <th>1</th>\n",
              "      <td>Hilton Chennai</td>\n",
              "      <td>hilton chennai</td>\n",
              "      <td>very comfortable and felt safe staff were very...</td>\n",
              "      <td>100.0</td>\n",
              "    </tr>\n",
              "    <tr>\n",
              "      <th>2</th>\n",
              "      <td>The Royal Regency</td>\n",
              "      <td>no worth the rating shown in websites pricing ...</td>\n",
              "      <td>not worth the rating shown service is not good...</td>\n",
              "      <td>71.0</td>\n",
              "    </tr>\n",
              "    <tr>\n",
              "      <th>3</th>\n",
              "      <td>Rivera</td>\n",
              "      <td>good stay</td>\n",
              "      <td>first of all nice courteous staff only one con...</td>\n",
              "      <td>86.0</td>\n",
              "    </tr>\n",
              "    <tr>\n",
              "      <th>4</th>\n",
              "      <td>Park Hyatt</td>\n",
              "      <td>needs improvement</td>\n",
              "      <td>overall ambience of the hotel is very good in ...</td>\n",
              "      <td>86.0</td>\n",
              "    </tr>\n",
              "  </tbody>\n",
              "</table>\n",
              "</div>"
            ],
            "text/plain": [
              "          Hotel_name  ... Rating\n",
              "0         Park Hyatt  ...   80.0\n",
              "1     Hilton Chennai  ...  100.0\n",
              "2  The Royal Regency  ...   71.0\n",
              "3             Rivera  ...   86.0\n",
              "4         Park Hyatt  ...   86.0\n",
              "\n",
              "[5 rows x 4 columns]"
            ]
          },
          "metadata": {
            "tags": []
          },
          "execution_count": 10
        }
      ]
    },
    {
      "cell_type": "markdown",
      "metadata": {
        "id": "ewi1zRIpQ6fZ"
      },
      "source": [
        "### Обработка слов в текстовых признаках."
      ]
    },
    {
      "cell_type": "markdown",
      "metadata": {
        "id": "NCfkDTB9zf5a"
      },
      "source": [
        "Нам предоставлены текстовые признаки на английском языке. С ними хорошо справится лемматизатор."
      ]
    },
    {
      "cell_type": "code",
      "metadata": {
        "id": "rZ0zRF22ZabD"
      },
      "source": [
        "# Позаимствуем функции для лемматизации текста из семинарского ноутбука;)\n",
        "from nltk import wordnet, pos_tag\n",
        "\n",
        "def get_wordnet_pos(treebank_tag):\n",
        "    my_switch = {\n",
        "        'J': wordnet.wordnet.ADJ,\n",
        "        'V': wordnet.wordnet.VERB,\n",
        "        'N': wordnet.wordnet.NOUN,\n",
        "        'R': wordnet.wordnet.ADV,\n",
        "    }\n",
        "    for key, item in my_switch.items():\n",
        "        if treebank_tag.startswith(key):\n",
        "            return item\n",
        "    return wordnet.wordnet.NOUN"
      ],
      "execution_count": 11,
      "outputs": []
    },
    {
      "cell_type": "code",
      "metadata": {
        "colab": {
          "base_uri": "https://localhost:8080/"
        },
        "id": "0EchewVuZeDW",
        "outputId": "62313b35-d598-4515-af67-903b319b78ad"
      },
      "source": [
        "import nltk\n",
        "\n",
        "nltk.download('averaged_perceptron_tagger')\n",
        "nltk.download('wordnet')"
      ],
      "execution_count": 12,
      "outputs": [
        {
          "output_type": "stream",
          "text": [
            "[nltk_data] Downloading package averaged_perceptron_tagger to\n",
            "[nltk_data]     /root/nltk_data...\n",
            "[nltk_data]   Unzipping taggers/averaged_perceptron_tagger.zip.\n",
            "[nltk_data] Downloading package wordnet to /root/nltk_data...\n",
            "[nltk_data]   Unzipping corpora/wordnet.zip.\n"
          ],
          "name": "stdout"
        },
        {
          "output_type": "execute_result",
          "data": {
            "text/plain": [
              "True"
            ]
          },
          "metadata": {
            "tags": []
          },
          "execution_count": 12
        }
      ]
    },
    {
      "cell_type": "code",
      "metadata": {
        "id": "FTRG1qe1Zljw"
      },
      "source": [
        "from nltk import WordNetLemmatizer\n",
        "\n",
        "def my_lemmatizer(sent):\n",
        "    lemmatizer = WordNetLemmatizer()\n",
        "    tokenized_sent = sent.split()\n",
        "    pos_tagged = [(word, get_wordnet_pos(tag))\n",
        "                 for word, tag in pos_tag(tokenized_sent)]\n",
        "    return ' '.join([lemmatizer.lemmatize(word, tag)\n",
        "                    for word, tag in pos_tagged])"
      ],
      "execution_count": 13,
      "outputs": []
    },
    {
      "cell_type": "markdown",
      "metadata": {
        "id": "p4dygt2wRHmH"
      },
      "source": [
        "Лемматизация."
      ]
    },
    {
      "cell_type": "code",
      "metadata": {
        "id": "O2uvHWqkaVwQ"
      },
      "source": [
        "df['Review_Text'] = df['Review_Text'].apply(my_lemmatizer) # лемматизируем и тексты, и заголовки\n",
        "df['Review_Title'] = df['Review_Title'].apply(my_lemmatizer)"
      ],
      "execution_count": 14,
      "outputs": []
    },
    {
      "cell_type": "code",
      "metadata": {
        "colab": {
          "base_uri": "https://localhost:8080/",
          "height": 202
        },
        "id": "DM3LXqCM_nNr",
        "outputId": "87ddc56a-801a-4942-b557-5bfceca75298"
      },
      "source": [
        "df.head()"
      ],
      "execution_count": 15,
      "outputs": [
        {
          "output_type": "execute_result",
          "data": {
            "text/html": [
              "<div>\n",
              "<style scoped>\n",
              "    .dataframe tbody tr th:only-of-type {\n",
              "        vertical-align: middle;\n",
              "    }\n",
              "\n",
              "    .dataframe tbody tr th {\n",
              "        vertical-align: top;\n",
              "    }\n",
              "\n",
              "    .dataframe thead th {\n",
              "        text-align: right;\n",
              "    }\n",
              "</style>\n",
              "<table border=\"1\" class=\"dataframe\">\n",
              "  <thead>\n",
              "    <tr style=\"text-align: right;\">\n",
              "      <th></th>\n",
              "      <th>Hotel_name</th>\n",
              "      <th>Review_Title</th>\n",
              "      <th>Review_Text</th>\n",
              "      <th>Rating</th>\n",
              "    </tr>\n",
              "  </thead>\n",
              "  <tbody>\n",
              "    <tr>\n",
              "      <th>0</th>\n",
              "      <td>Park Hyatt</td>\n",
              "      <td>refuge in chennai</td>\n",
              "      <td>excellent room and exercise facility all aroun...</td>\n",
              "      <td>80.0</td>\n",
              "    </tr>\n",
              "    <tr>\n",
              "      <th>1</th>\n",
              "      <td>Hilton Chennai</td>\n",
              "      <td>hilton chennai</td>\n",
              "      <td>very comfortable and felt safe staff be very h...</td>\n",
              "      <td>100.0</td>\n",
              "    </tr>\n",
              "    <tr>\n",
              "      <th>2</th>\n",
              "      <td>The Royal Regency</td>\n",
              "      <td>no worth the rating show in website price be ok</td>\n",
              "      <td>not worth the rating show service be not good ...</td>\n",
              "      <td>71.0</td>\n",
              "    </tr>\n",
              "    <tr>\n",
              "      <th>3</th>\n",
              "      <td>Rivera</td>\n",
              "      <td>good stay</td>\n",
              "      <td>first of all nice courteous staff only one con...</td>\n",
              "      <td>86.0</td>\n",
              "    </tr>\n",
              "    <tr>\n",
              "      <th>4</th>\n",
              "      <td>Park Hyatt</td>\n",
              "      <td>need improvement</td>\n",
              "      <td>overall ambience of the hotel be very good in ...</td>\n",
              "      <td>86.0</td>\n",
              "    </tr>\n",
              "  </tbody>\n",
              "</table>\n",
              "</div>"
            ],
            "text/plain": [
              "          Hotel_name  ... Rating\n",
              "0         Park Hyatt  ...   80.0\n",
              "1     Hilton Chennai  ...  100.0\n",
              "2  The Royal Regency  ...   71.0\n",
              "3             Rivera  ...   86.0\n",
              "4         Park Hyatt  ...   86.0\n",
              "\n",
              "[5 rows x 4 columns]"
            ]
          },
          "metadata": {
            "tags": []
          },
          "execution_count": 15
        }
      ]
    },
    {
      "cell_type": "markdown",
      "metadata": {
        "id": "NP2K5BEoRPIV"
      },
      "source": [
        "### Очищаем данные от stopwords."
      ]
    },
    {
      "cell_type": "markdown",
      "metadata": {
        "id": "mOb9eMej_xje"
      },
      "source": [
        "Удалим филлерные слова, они не дают нам никакой информации и только мешают."
      ]
    },
    {
      "cell_type": "code",
      "metadata": {
        "colab": {
          "base_uri": "https://localhost:8080/"
        },
        "id": "pSgGc1ZNAKEM",
        "outputId": "0ce240ac-1c6d-4bda-9945-79c6921d328a"
      },
      "source": [
        "import nltk\n",
        "nltk.download('stopwords')"
      ],
      "execution_count": 16,
      "outputs": [
        {
          "output_type": "stream",
          "text": [
            "[nltk_data] Downloading package stopwords to /root/nltk_data...\n",
            "[nltk_data]   Unzipping corpora/stopwords.zip.\n"
          ],
          "name": "stdout"
        },
        {
          "output_type": "execute_result",
          "data": {
            "text/plain": [
              "True"
            ]
          },
          "metadata": {
            "tags": []
          },
          "execution_count": 16
        }
      ]
    },
    {
      "cell_type": "code",
      "metadata": {
        "id": "uHRIlfAWAVNv"
      },
      "source": [
        "from nltk.corpus import stopwords\n",
        "sw_eng = set(stopwords.words('english'))"
      ],
      "execution_count": 17,
      "outputs": []
    },
    {
      "cell_type": "code",
      "metadata": {
        "id": "6_Uy981GAeqz"
      },
      "source": [
        "# выкидываем все филлеры\n",
        "df['Review_Text'] = df['Review_Text'].apply(lambda x: ' '.join([word for word in x.split() if not word in sw_eng]))\n",
        "df['Review_Title'] = df['Review_Title'].apply(lambda x: ' '.join([word for word in x.split() if not word in sw_eng]))"
      ],
      "execution_count": 18,
      "outputs": []
    },
    {
      "cell_type": "code",
      "metadata": {
        "colab": {
          "base_uri": "https://localhost:8080/",
          "height": 202
        },
        "id": "diQMd7lkA0RH",
        "outputId": "006daa83-665d-4169-afe2-3fe7bf24ef75"
      },
      "source": [
        "df.head()"
      ],
      "execution_count": 19,
      "outputs": [
        {
          "output_type": "execute_result",
          "data": {
            "text/html": [
              "<div>\n",
              "<style scoped>\n",
              "    .dataframe tbody tr th:only-of-type {\n",
              "        vertical-align: middle;\n",
              "    }\n",
              "\n",
              "    .dataframe tbody tr th {\n",
              "        vertical-align: top;\n",
              "    }\n",
              "\n",
              "    .dataframe thead th {\n",
              "        text-align: right;\n",
              "    }\n",
              "</style>\n",
              "<table border=\"1\" class=\"dataframe\">\n",
              "  <thead>\n",
              "    <tr style=\"text-align: right;\">\n",
              "      <th></th>\n",
              "      <th>Hotel_name</th>\n",
              "      <th>Review_Title</th>\n",
              "      <th>Review_Text</th>\n",
              "      <th>Rating</th>\n",
              "    </tr>\n",
              "  </thead>\n",
              "  <tbody>\n",
              "    <tr>\n",
              "      <th>0</th>\n",
              "      <td>Park Hyatt</td>\n",
              "      <td>refuge chennai</td>\n",
              "      <td>excellent room exercise facility around atmosp...</td>\n",
              "      <td>80.0</td>\n",
              "    </tr>\n",
              "    <tr>\n",
              "      <th>1</th>\n",
              "      <td>Hilton Chennai</td>\n",
              "      <td>hilton chennai</td>\n",
              "      <td>comfortable felt safe staff helpful respectful...</td>\n",
              "      <td>100.0</td>\n",
              "    </tr>\n",
              "    <tr>\n",
              "      <th>2</th>\n",
              "      <td>The Royal Regency</td>\n",
              "      <td>worth rating show website price ok</td>\n",
              "      <td>worth rating show service good room well maint...</td>\n",
              "      <td>71.0</td>\n",
              "    </tr>\n",
              "    <tr>\n",
              "      <th>3</th>\n",
              "      <td>Rivera</td>\n",
              "      <td>good stay</td>\n",
              "      <td>first nice courteous staff one con stay time c...</td>\n",
              "      <td>86.0</td>\n",
              "    </tr>\n",
              "    <tr>\n",
              "      <th>4</th>\n",
              "      <td>Park Hyatt</td>\n",
              "      <td>need improvement</td>\n",
              "      <td>overall ambience hotel good room facility need...</td>\n",
              "      <td>86.0</td>\n",
              "    </tr>\n",
              "  </tbody>\n",
              "</table>\n",
              "</div>"
            ],
            "text/plain": [
              "          Hotel_name  ... Rating\n",
              "0         Park Hyatt  ...   80.0\n",
              "1     Hilton Chennai  ...  100.0\n",
              "2  The Royal Regency  ...   71.0\n",
              "3             Rivera  ...   86.0\n",
              "4         Park Hyatt  ...   86.0\n",
              "\n",
              "[5 rows x 4 columns]"
            ]
          },
          "metadata": {
            "tags": []
          },
          "execution_count": 19
        }
      ]
    },
    {
      "cell_type": "markdown",
      "metadata": {
        "id": "UkfFH2dRA6LH"
      },
      "source": [
        "Well Done! Наконец-то нормальный читаемый текст!"
      ]
    },
    {
      "cell_type": "markdown",
      "metadata": {
        "id": "tzuxXzKp84_Y"
      },
      "source": [
        "### Подсчет pos/neg слов."
      ]
    },
    {
      "cell_type": "markdown",
      "metadata": {
        "id": "dtvvRnd80I5N"
      },
      "source": [
        "Интересно и полезно было бы посчитать количество слов с позитивной/негативной окраской в каждом тексте и получить новые признаки. Тем более нам предоставлены файлы - словари."
      ]
    },
    {
      "cell_type": "code",
      "metadata": {
        "id": "su-7e6vWepUx"
      },
      "source": [
        "# Напишем функции для подсчета количества положительных и негативных слов\n",
        "# ищем вхождения в предоставленные файлы\n",
        "def count_pos(text):\n",
        "  cnt_pos = 0\n",
        "  for word in re.findall(r'[^,.;\\s]+', text.lower()): # парсим данные регулярными выражениями\n",
        "    with open('/content/drive/MyDrive/Тинькофф.Поколение/positive-words.txt') as f:\n",
        "      if word in f.read().split():\n",
        "        cnt_pos += 1\n",
        "  return cnt_pos\n",
        "\n",
        "def count_neg(text):\n",
        "  cnt_neg = 0\n",
        "  for word in re.findall(r'[^,.;\\s]+', text.lower()):\n",
        "    with open('/content/drive/MyDrive/Тинькофф.Поколение/negative-words.txt', encoding=\"ISO-8859-1\") as g:\n",
        "      if word in g.read().split():\n",
        "        cnt_neg += 1\n",
        "\n",
        "  return cnt_neg"
      ],
      "execution_count": 20,
      "outputs": []
    },
    {
      "cell_type": "code",
      "metadata": {
        "id": "JS6pUseVpPBh"
      },
      "source": [
        "df['Pos_Words'] = df['Review_Text'].apply(count_pos) # Введем новые признаки - количество позитивных и негативных слов\n",
        "df['Neg_Words'] = df['Review_Text'].apply(count_neg)"
      ],
      "execution_count": 21,
      "outputs": []
    },
    {
      "cell_type": "code",
      "metadata": {
        "colab": {
          "base_uri": "https://localhost:8080/",
          "height": 202
        },
        "id": "6perwSDIqhEm",
        "outputId": "055be979-cbe7-494f-f3dc-46c8cdcc4f76"
      },
      "source": [
        "df.head()"
      ],
      "execution_count": 22,
      "outputs": [
        {
          "output_type": "execute_result",
          "data": {
            "text/html": [
              "<div>\n",
              "<style scoped>\n",
              "    .dataframe tbody tr th:only-of-type {\n",
              "        vertical-align: middle;\n",
              "    }\n",
              "\n",
              "    .dataframe tbody tr th {\n",
              "        vertical-align: top;\n",
              "    }\n",
              "\n",
              "    .dataframe thead th {\n",
              "        text-align: right;\n",
              "    }\n",
              "</style>\n",
              "<table border=\"1\" class=\"dataframe\">\n",
              "  <thead>\n",
              "    <tr style=\"text-align: right;\">\n",
              "      <th></th>\n",
              "      <th>Hotel_name</th>\n",
              "      <th>Review_Title</th>\n",
              "      <th>Review_Text</th>\n",
              "      <th>Rating</th>\n",
              "      <th>Pos_Words</th>\n",
              "      <th>Neg_Words</th>\n",
              "    </tr>\n",
              "  </thead>\n",
              "  <tbody>\n",
              "    <tr>\n",
              "      <th>0</th>\n",
              "      <td>Park Hyatt</td>\n",
              "      <td>refuge chennai</td>\n",
              "      <td>excellent room exercise facility around atmosp...</td>\n",
              "      <td>80.0</td>\n",
              "      <td>4</td>\n",
              "      <td>0</td>\n",
              "    </tr>\n",
              "    <tr>\n",
              "      <th>1</th>\n",
              "      <td>Hilton Chennai</td>\n",
              "      <td>hilton chennai</td>\n",
              "      <td>comfortable felt safe staff helpful respectful...</td>\n",
              "      <td>100.0</td>\n",
              "      <td>4</td>\n",
              "      <td>0</td>\n",
              "    </tr>\n",
              "    <tr>\n",
              "      <th>2</th>\n",
              "      <td>The Royal Regency</td>\n",
              "      <td>worth rating show website price ok</td>\n",
              "      <td>worth rating show service good room well maint...</td>\n",
              "      <td>71.0</td>\n",
              "      <td>8</td>\n",
              "      <td>1</td>\n",
              "    </tr>\n",
              "    <tr>\n",
              "      <th>3</th>\n",
              "      <td>Rivera</td>\n",
              "      <td>good stay</td>\n",
              "      <td>first nice courteous staff one con stay time c...</td>\n",
              "      <td>86.0</td>\n",
              "      <td>4</td>\n",
              "      <td>2</td>\n",
              "    </tr>\n",
              "    <tr>\n",
              "      <th>4</th>\n",
              "      <td>Park Hyatt</td>\n",
              "      <td>need improvement</td>\n",
              "      <td>overall ambience hotel good room facility need...</td>\n",
              "      <td>86.0</td>\n",
              "      <td>2</td>\n",
              "      <td>0</td>\n",
              "    </tr>\n",
              "  </tbody>\n",
              "</table>\n",
              "</div>"
            ],
            "text/plain": [
              "          Hotel_name                        Review_Title  ... Pos_Words  Neg_Words\n",
              "0         Park Hyatt                      refuge chennai  ...         4          0\n",
              "1     Hilton Chennai                      hilton chennai  ...         4          0\n",
              "2  The Royal Regency  worth rating show website price ok  ...         8          1\n",
              "3             Rivera                           good stay  ...         4          2\n",
              "4         Park Hyatt                    need improvement  ...         2          0\n",
              "\n",
              "[5 rows x 6 columns]"
            ]
          },
          "metadata": {
            "tags": []
          },
          "execution_count": 22
        }
      ]
    },
    {
      "cell_type": "markdown",
      "metadata": {
        "id": "-eShRUlpBnUI"
      },
      "source": [
        "## Представление текста."
      ]
    },
    {
      "cell_type": "code",
      "metadata": {
        "id": "BXNSQ3AMEZQe"
      },
      "source": [
        "y = df['Rating']"
      ],
      "execution_count": 23,
      "outputs": []
    },
    {
      "cell_type": "markdown",
      "metadata": {
        "id": "uAMLTd2VudgM"
      },
      "source": [
        "### Count Vectorizer."
      ]
    },
    {
      "cell_type": "code",
      "metadata": {
        "id": "HgDh5z07D8HS"
      },
      "source": [
        "from sklearn.feature_extraction.text import CountVectorizer\n",
        "\n",
        "cv = CountVectorizer()\n",
        "text_cv = cv.fit_transform(df['Review_Text'])\n",
        "title_cv = cv.fit_transform(df['Review_Title'])"
      ],
      "execution_count": 24,
      "outputs": []
    },
    {
      "cell_type": "code",
      "metadata": {
        "id": "gW-hqd_bElV4"
      },
      "source": [
        "df_cv = df.drop(['Review_Title', 'Review_Text', 'Rating'], axis=1)"
      ],
      "execution_count": 25,
      "outputs": []
    },
    {
      "cell_type": "code",
      "metadata": {
        "id": "GgSMzp1rFFa1"
      },
      "source": [
        "df_cv = pd.concat([df_cv, pd.DataFrame(text_cv.toarray())], axis=1) # добавляем эмбеддинги в конец датасета\n",
        "df_cv = pd.concat([df_cv, pd.DataFrame(title_cv.toarray())], axis=1)\n",
        "df_cv.columns = np.arange(df_cv.shape[1])"
      ],
      "execution_count": 26,
      "outputs": []
    },
    {
      "cell_type": "code",
      "metadata": {
        "colab": {
          "base_uri": "https://localhost:8080/",
          "height": 338
        },
        "id": "J-emEewHFeZ7",
        "outputId": "3bc72ece-9984-4066-8f96-5d27693a8cb9"
      },
      "source": [
        "df_cv.head()"
      ],
      "execution_count": 27,
      "outputs": [
        {
          "output_type": "execute_result",
          "data": {
            "text/html": [
              "<div>\n",
              "<style scoped>\n",
              "    .dataframe tbody tr th:only-of-type {\n",
              "        vertical-align: middle;\n",
              "    }\n",
              "\n",
              "    .dataframe tbody tr th {\n",
              "        vertical-align: top;\n",
              "    }\n",
              "\n",
              "    .dataframe thead th {\n",
              "        text-align: right;\n",
              "    }\n",
              "</style>\n",
              "<table border=\"1\" class=\"dataframe\">\n",
              "  <thead>\n",
              "    <tr style=\"text-align: right;\">\n",
              "      <th></th>\n",
              "      <th>0</th>\n",
              "      <th>1</th>\n",
              "      <th>2</th>\n",
              "      <th>3</th>\n",
              "      <th>4</th>\n",
              "      <th>5</th>\n",
              "      <th>6</th>\n",
              "      <th>7</th>\n",
              "      <th>8</th>\n",
              "      <th>9</th>\n",
              "      <th>10</th>\n",
              "      <th>11</th>\n",
              "      <th>12</th>\n",
              "      <th>13</th>\n",
              "      <th>14</th>\n",
              "      <th>15</th>\n",
              "      <th>16</th>\n",
              "      <th>17</th>\n",
              "      <th>18</th>\n",
              "      <th>19</th>\n",
              "      <th>20</th>\n",
              "      <th>21</th>\n",
              "      <th>22</th>\n",
              "      <th>23</th>\n",
              "      <th>24</th>\n",
              "      <th>25</th>\n",
              "      <th>26</th>\n",
              "      <th>27</th>\n",
              "      <th>28</th>\n",
              "      <th>29</th>\n",
              "      <th>30</th>\n",
              "      <th>31</th>\n",
              "      <th>32</th>\n",
              "      <th>33</th>\n",
              "      <th>34</th>\n",
              "      <th>35</th>\n",
              "      <th>36</th>\n",
              "      <th>37</th>\n",
              "      <th>38</th>\n",
              "      <th>39</th>\n",
              "      <th>...</th>\n",
              "      <th>4532</th>\n",
              "      <th>4533</th>\n",
              "      <th>4534</th>\n",
              "      <th>4535</th>\n",
              "      <th>4536</th>\n",
              "      <th>4537</th>\n",
              "      <th>4538</th>\n",
              "      <th>4539</th>\n",
              "      <th>4540</th>\n",
              "      <th>4541</th>\n",
              "      <th>4542</th>\n",
              "      <th>4543</th>\n",
              "      <th>4544</th>\n",
              "      <th>4545</th>\n",
              "      <th>4546</th>\n",
              "      <th>4547</th>\n",
              "      <th>4548</th>\n",
              "      <th>4549</th>\n",
              "      <th>4550</th>\n",
              "      <th>4551</th>\n",
              "      <th>4552</th>\n",
              "      <th>4553</th>\n",
              "      <th>4554</th>\n",
              "      <th>4555</th>\n",
              "      <th>4556</th>\n",
              "      <th>4557</th>\n",
              "      <th>4558</th>\n",
              "      <th>4559</th>\n",
              "      <th>4560</th>\n",
              "      <th>4561</th>\n",
              "      <th>4562</th>\n",
              "      <th>4563</th>\n",
              "      <th>4564</th>\n",
              "      <th>4565</th>\n",
              "      <th>4566</th>\n",
              "      <th>4567</th>\n",
              "      <th>4568</th>\n",
              "      <th>4569</th>\n",
              "      <th>4570</th>\n",
              "      <th>4571</th>\n",
              "    </tr>\n",
              "  </thead>\n",
              "  <tbody>\n",
              "    <tr>\n",
              "      <th>0</th>\n",
              "      <td>Park Hyatt</td>\n",
              "      <td>4</td>\n",
              "      <td>0</td>\n",
              "      <td>0</td>\n",
              "      <td>0</td>\n",
              "      <td>0</td>\n",
              "      <td>0</td>\n",
              "      <td>0</td>\n",
              "      <td>0</td>\n",
              "      <td>0</td>\n",
              "      <td>0</td>\n",
              "      <td>0</td>\n",
              "      <td>0</td>\n",
              "      <td>0</td>\n",
              "      <td>0</td>\n",
              "      <td>0</td>\n",
              "      <td>0</td>\n",
              "      <td>0</td>\n",
              "      <td>0</td>\n",
              "      <td>0</td>\n",
              "      <td>0</td>\n",
              "      <td>0</td>\n",
              "      <td>0</td>\n",
              "      <td>0</td>\n",
              "      <td>0</td>\n",
              "      <td>0</td>\n",
              "      <td>0</td>\n",
              "      <td>0</td>\n",
              "      <td>0</td>\n",
              "      <td>0</td>\n",
              "      <td>0</td>\n",
              "      <td>0</td>\n",
              "      <td>0</td>\n",
              "      <td>0</td>\n",
              "      <td>0</td>\n",
              "      <td>0</td>\n",
              "      <td>0</td>\n",
              "      <td>0</td>\n",
              "      <td>0</td>\n",
              "      <td>0</td>\n",
              "      <td>...</td>\n",
              "      <td>0</td>\n",
              "      <td>0</td>\n",
              "      <td>0</td>\n",
              "      <td>0</td>\n",
              "      <td>0</td>\n",
              "      <td>0</td>\n",
              "      <td>0</td>\n",
              "      <td>0</td>\n",
              "      <td>0</td>\n",
              "      <td>0</td>\n",
              "      <td>0</td>\n",
              "      <td>0</td>\n",
              "      <td>0</td>\n",
              "      <td>0</td>\n",
              "      <td>0</td>\n",
              "      <td>0</td>\n",
              "      <td>0</td>\n",
              "      <td>0</td>\n",
              "      <td>0</td>\n",
              "      <td>0</td>\n",
              "      <td>0</td>\n",
              "      <td>0</td>\n",
              "      <td>0</td>\n",
              "      <td>0</td>\n",
              "      <td>0</td>\n",
              "      <td>0</td>\n",
              "      <td>0</td>\n",
              "      <td>0</td>\n",
              "      <td>0</td>\n",
              "      <td>0</td>\n",
              "      <td>0</td>\n",
              "      <td>0</td>\n",
              "      <td>0</td>\n",
              "      <td>0</td>\n",
              "      <td>0</td>\n",
              "      <td>0</td>\n",
              "      <td>0</td>\n",
              "      <td>0</td>\n",
              "      <td>0</td>\n",
              "      <td>0</td>\n",
              "    </tr>\n",
              "    <tr>\n",
              "      <th>1</th>\n",
              "      <td>Hilton Chennai</td>\n",
              "      <td>4</td>\n",
              "      <td>0</td>\n",
              "      <td>0</td>\n",
              "      <td>0</td>\n",
              "      <td>0</td>\n",
              "      <td>0</td>\n",
              "      <td>0</td>\n",
              "      <td>0</td>\n",
              "      <td>0</td>\n",
              "      <td>0</td>\n",
              "      <td>0</td>\n",
              "      <td>0</td>\n",
              "      <td>0</td>\n",
              "      <td>0</td>\n",
              "      <td>0</td>\n",
              "      <td>0</td>\n",
              "      <td>0</td>\n",
              "      <td>0</td>\n",
              "      <td>0</td>\n",
              "      <td>0</td>\n",
              "      <td>0</td>\n",
              "      <td>0</td>\n",
              "      <td>0</td>\n",
              "      <td>0</td>\n",
              "      <td>0</td>\n",
              "      <td>0</td>\n",
              "      <td>0</td>\n",
              "      <td>0</td>\n",
              "      <td>0</td>\n",
              "      <td>0</td>\n",
              "      <td>0</td>\n",
              "      <td>0</td>\n",
              "      <td>0</td>\n",
              "      <td>0</td>\n",
              "      <td>0</td>\n",
              "      <td>0</td>\n",
              "      <td>0</td>\n",
              "      <td>0</td>\n",
              "      <td>0</td>\n",
              "      <td>...</td>\n",
              "      <td>0</td>\n",
              "      <td>0</td>\n",
              "      <td>0</td>\n",
              "      <td>0</td>\n",
              "      <td>0</td>\n",
              "      <td>0</td>\n",
              "      <td>0</td>\n",
              "      <td>0</td>\n",
              "      <td>0</td>\n",
              "      <td>0</td>\n",
              "      <td>0</td>\n",
              "      <td>0</td>\n",
              "      <td>0</td>\n",
              "      <td>0</td>\n",
              "      <td>0</td>\n",
              "      <td>0</td>\n",
              "      <td>0</td>\n",
              "      <td>0</td>\n",
              "      <td>0</td>\n",
              "      <td>0</td>\n",
              "      <td>0</td>\n",
              "      <td>0</td>\n",
              "      <td>0</td>\n",
              "      <td>0</td>\n",
              "      <td>0</td>\n",
              "      <td>0</td>\n",
              "      <td>0</td>\n",
              "      <td>0</td>\n",
              "      <td>0</td>\n",
              "      <td>0</td>\n",
              "      <td>0</td>\n",
              "      <td>0</td>\n",
              "      <td>0</td>\n",
              "      <td>0</td>\n",
              "      <td>0</td>\n",
              "      <td>0</td>\n",
              "      <td>0</td>\n",
              "      <td>0</td>\n",
              "      <td>0</td>\n",
              "      <td>0</td>\n",
              "    </tr>\n",
              "    <tr>\n",
              "      <th>2</th>\n",
              "      <td>The Royal Regency</td>\n",
              "      <td>8</td>\n",
              "      <td>1</td>\n",
              "      <td>0</td>\n",
              "      <td>0</td>\n",
              "      <td>0</td>\n",
              "      <td>0</td>\n",
              "      <td>0</td>\n",
              "      <td>0</td>\n",
              "      <td>0</td>\n",
              "      <td>0</td>\n",
              "      <td>0</td>\n",
              "      <td>0</td>\n",
              "      <td>0</td>\n",
              "      <td>0</td>\n",
              "      <td>0</td>\n",
              "      <td>0</td>\n",
              "      <td>0</td>\n",
              "      <td>0</td>\n",
              "      <td>0</td>\n",
              "      <td>0</td>\n",
              "      <td>0</td>\n",
              "      <td>0</td>\n",
              "      <td>0</td>\n",
              "      <td>0</td>\n",
              "      <td>0</td>\n",
              "      <td>0</td>\n",
              "      <td>0</td>\n",
              "      <td>0</td>\n",
              "      <td>0</td>\n",
              "      <td>0</td>\n",
              "      <td>0</td>\n",
              "      <td>0</td>\n",
              "      <td>0</td>\n",
              "      <td>0</td>\n",
              "      <td>0</td>\n",
              "      <td>0</td>\n",
              "      <td>0</td>\n",
              "      <td>0</td>\n",
              "      <td>0</td>\n",
              "      <td>...</td>\n",
              "      <td>0</td>\n",
              "      <td>0</td>\n",
              "      <td>0</td>\n",
              "      <td>0</td>\n",
              "      <td>0</td>\n",
              "      <td>0</td>\n",
              "      <td>0</td>\n",
              "      <td>0</td>\n",
              "      <td>0</td>\n",
              "      <td>0</td>\n",
              "      <td>0</td>\n",
              "      <td>0</td>\n",
              "      <td>0</td>\n",
              "      <td>1</td>\n",
              "      <td>0</td>\n",
              "      <td>0</td>\n",
              "      <td>0</td>\n",
              "      <td>0</td>\n",
              "      <td>0</td>\n",
              "      <td>0</td>\n",
              "      <td>0</td>\n",
              "      <td>0</td>\n",
              "      <td>0</td>\n",
              "      <td>0</td>\n",
              "      <td>0</td>\n",
              "      <td>0</td>\n",
              "      <td>0</td>\n",
              "      <td>0</td>\n",
              "      <td>0</td>\n",
              "      <td>0</td>\n",
              "      <td>0</td>\n",
              "      <td>1</td>\n",
              "      <td>0</td>\n",
              "      <td>0</td>\n",
              "      <td>0</td>\n",
              "      <td>0</td>\n",
              "      <td>0</td>\n",
              "      <td>0</td>\n",
              "      <td>0</td>\n",
              "      <td>0</td>\n",
              "    </tr>\n",
              "    <tr>\n",
              "      <th>3</th>\n",
              "      <td>Rivera</td>\n",
              "      <td>4</td>\n",
              "      <td>2</td>\n",
              "      <td>0</td>\n",
              "      <td>0</td>\n",
              "      <td>0</td>\n",
              "      <td>0</td>\n",
              "      <td>0</td>\n",
              "      <td>0</td>\n",
              "      <td>0</td>\n",
              "      <td>0</td>\n",
              "      <td>0</td>\n",
              "      <td>0</td>\n",
              "      <td>0</td>\n",
              "      <td>0</td>\n",
              "      <td>0</td>\n",
              "      <td>0</td>\n",
              "      <td>0</td>\n",
              "      <td>0</td>\n",
              "      <td>0</td>\n",
              "      <td>0</td>\n",
              "      <td>0</td>\n",
              "      <td>0</td>\n",
              "      <td>0</td>\n",
              "      <td>0</td>\n",
              "      <td>0</td>\n",
              "      <td>0</td>\n",
              "      <td>0</td>\n",
              "      <td>0</td>\n",
              "      <td>0</td>\n",
              "      <td>0</td>\n",
              "      <td>0</td>\n",
              "      <td>0</td>\n",
              "      <td>0</td>\n",
              "      <td>0</td>\n",
              "      <td>0</td>\n",
              "      <td>0</td>\n",
              "      <td>0</td>\n",
              "      <td>0</td>\n",
              "      <td>0</td>\n",
              "      <td>...</td>\n",
              "      <td>0</td>\n",
              "      <td>0</td>\n",
              "      <td>0</td>\n",
              "      <td>0</td>\n",
              "      <td>0</td>\n",
              "      <td>0</td>\n",
              "      <td>0</td>\n",
              "      <td>0</td>\n",
              "      <td>0</td>\n",
              "      <td>0</td>\n",
              "      <td>0</td>\n",
              "      <td>0</td>\n",
              "      <td>0</td>\n",
              "      <td>0</td>\n",
              "      <td>0</td>\n",
              "      <td>0</td>\n",
              "      <td>0</td>\n",
              "      <td>0</td>\n",
              "      <td>0</td>\n",
              "      <td>0</td>\n",
              "      <td>0</td>\n",
              "      <td>0</td>\n",
              "      <td>0</td>\n",
              "      <td>0</td>\n",
              "      <td>0</td>\n",
              "      <td>0</td>\n",
              "      <td>0</td>\n",
              "      <td>0</td>\n",
              "      <td>0</td>\n",
              "      <td>0</td>\n",
              "      <td>0</td>\n",
              "      <td>0</td>\n",
              "      <td>0</td>\n",
              "      <td>0</td>\n",
              "      <td>0</td>\n",
              "      <td>0</td>\n",
              "      <td>0</td>\n",
              "      <td>0</td>\n",
              "      <td>0</td>\n",
              "      <td>0</td>\n",
              "    </tr>\n",
              "    <tr>\n",
              "      <th>4</th>\n",
              "      <td>Park Hyatt</td>\n",
              "      <td>2</td>\n",
              "      <td>0</td>\n",
              "      <td>0</td>\n",
              "      <td>0</td>\n",
              "      <td>0</td>\n",
              "      <td>0</td>\n",
              "      <td>0</td>\n",
              "      <td>0</td>\n",
              "      <td>0</td>\n",
              "      <td>0</td>\n",
              "      <td>0</td>\n",
              "      <td>0</td>\n",
              "      <td>0</td>\n",
              "      <td>0</td>\n",
              "      <td>0</td>\n",
              "      <td>0</td>\n",
              "      <td>0</td>\n",
              "      <td>0</td>\n",
              "      <td>0</td>\n",
              "      <td>0</td>\n",
              "      <td>0</td>\n",
              "      <td>0</td>\n",
              "      <td>0</td>\n",
              "      <td>0</td>\n",
              "      <td>0</td>\n",
              "      <td>0</td>\n",
              "      <td>0</td>\n",
              "      <td>0</td>\n",
              "      <td>0</td>\n",
              "      <td>0</td>\n",
              "      <td>0</td>\n",
              "      <td>0</td>\n",
              "      <td>0</td>\n",
              "      <td>0</td>\n",
              "      <td>0</td>\n",
              "      <td>0</td>\n",
              "      <td>0</td>\n",
              "      <td>0</td>\n",
              "      <td>0</td>\n",
              "      <td>...</td>\n",
              "      <td>0</td>\n",
              "      <td>0</td>\n",
              "      <td>0</td>\n",
              "      <td>0</td>\n",
              "      <td>0</td>\n",
              "      <td>0</td>\n",
              "      <td>0</td>\n",
              "      <td>0</td>\n",
              "      <td>0</td>\n",
              "      <td>0</td>\n",
              "      <td>0</td>\n",
              "      <td>0</td>\n",
              "      <td>0</td>\n",
              "      <td>0</td>\n",
              "      <td>0</td>\n",
              "      <td>0</td>\n",
              "      <td>0</td>\n",
              "      <td>0</td>\n",
              "      <td>0</td>\n",
              "      <td>0</td>\n",
              "      <td>0</td>\n",
              "      <td>0</td>\n",
              "      <td>0</td>\n",
              "      <td>0</td>\n",
              "      <td>0</td>\n",
              "      <td>0</td>\n",
              "      <td>0</td>\n",
              "      <td>0</td>\n",
              "      <td>0</td>\n",
              "      <td>0</td>\n",
              "      <td>0</td>\n",
              "      <td>0</td>\n",
              "      <td>0</td>\n",
              "      <td>0</td>\n",
              "      <td>0</td>\n",
              "      <td>0</td>\n",
              "      <td>0</td>\n",
              "      <td>0</td>\n",
              "      <td>0</td>\n",
              "      <td>0</td>\n",
              "    </tr>\n",
              "  </tbody>\n",
              "</table>\n",
              "<p>5 rows × 4572 columns</p>\n",
              "</div>"
            ],
            "text/plain": [
              "                0     1     2     3     4     ...  4567  4568  4569  4570  4571\n",
              "0         Park Hyatt     4     0     0     0  ...     0     0     0     0     0\n",
              "1     Hilton Chennai     4     0     0     0  ...     0     0     0     0     0\n",
              "2  The Royal Regency     8     1     0     0  ...     0     0     0     0     0\n",
              "3             Rivera     4     2     0     0  ...     0     0     0     0     0\n",
              "4         Park Hyatt     2     0     0     0  ...     0     0     0     0     0\n",
              "\n",
              "[5 rows x 4572 columns]"
            ]
          },
          "metadata": {
            "tags": []
          },
          "execution_count": 27
        }
      ]
    },
    {
      "cell_type": "markdown",
      "metadata": {
        "id": "ZMPi1NUXD8mF"
      },
      "source": [
        "### TF-IDF."
      ]
    },
    {
      "cell_type": "code",
      "metadata": {
        "id": "9ZLlvF8ET8xI"
      },
      "source": [
        "from sklearn.feature_extraction.text import TfidfVectorizer\n",
        "\n",
        "tfidf = TfidfVectorizer()\n",
        "text_tf = tfidf.fit_transform(df['Review_Text'])\n",
        "title_tf = tfidf.fit_transform(df['Review_Title'])"
      ],
      "execution_count": 28,
      "outputs": []
    },
    {
      "cell_type": "code",
      "metadata": {
        "id": "g8aHyXZMdBmV"
      },
      "source": [
        "df_tf = df.drop(['Review_Title', 'Review_Text', 'Rating'], axis=1)"
      ],
      "execution_count": 29,
      "outputs": []
    },
    {
      "cell_type": "code",
      "metadata": {
        "id": "xkTRprq9cBJr"
      },
      "source": [
        "df_tf = pd.concat([df_tf, pd.DataFrame(text_tf.toarray())], axis=1) # добавляем эмбеддинги в конец датасета\n",
        "df_tf = pd.concat([df_tf, pd.DataFrame(title_tf.toarray())], axis=1)\n",
        "df_tf.columns = np.arange(df_tf.shape[1])"
      ],
      "execution_count": 30,
      "outputs": []
    },
    {
      "cell_type": "code",
      "metadata": {
        "colab": {
          "base_uri": "https://localhost:8080/",
          "height": 338
        },
        "id": "iGJYFCqAc7U3",
        "outputId": "ef0593ba-8dba-4cd2-c437-7fc7413ff997"
      },
      "source": [
        "df_tf.head()"
      ],
      "execution_count": 31,
      "outputs": [
        {
          "output_type": "execute_result",
          "data": {
            "text/html": [
              "<div>\n",
              "<style scoped>\n",
              "    .dataframe tbody tr th:only-of-type {\n",
              "        vertical-align: middle;\n",
              "    }\n",
              "\n",
              "    .dataframe tbody tr th {\n",
              "        vertical-align: top;\n",
              "    }\n",
              "\n",
              "    .dataframe thead th {\n",
              "        text-align: right;\n",
              "    }\n",
              "</style>\n",
              "<table border=\"1\" class=\"dataframe\">\n",
              "  <thead>\n",
              "    <tr style=\"text-align: right;\">\n",
              "      <th></th>\n",
              "      <th>0</th>\n",
              "      <th>1</th>\n",
              "      <th>2</th>\n",
              "      <th>3</th>\n",
              "      <th>4</th>\n",
              "      <th>5</th>\n",
              "      <th>6</th>\n",
              "      <th>7</th>\n",
              "      <th>8</th>\n",
              "      <th>9</th>\n",
              "      <th>10</th>\n",
              "      <th>11</th>\n",
              "      <th>12</th>\n",
              "      <th>13</th>\n",
              "      <th>14</th>\n",
              "      <th>15</th>\n",
              "      <th>16</th>\n",
              "      <th>17</th>\n",
              "      <th>18</th>\n",
              "      <th>19</th>\n",
              "      <th>20</th>\n",
              "      <th>21</th>\n",
              "      <th>22</th>\n",
              "      <th>23</th>\n",
              "      <th>24</th>\n",
              "      <th>25</th>\n",
              "      <th>26</th>\n",
              "      <th>27</th>\n",
              "      <th>28</th>\n",
              "      <th>29</th>\n",
              "      <th>30</th>\n",
              "      <th>31</th>\n",
              "      <th>32</th>\n",
              "      <th>33</th>\n",
              "      <th>34</th>\n",
              "      <th>35</th>\n",
              "      <th>36</th>\n",
              "      <th>37</th>\n",
              "      <th>38</th>\n",
              "      <th>39</th>\n",
              "      <th>...</th>\n",
              "      <th>4532</th>\n",
              "      <th>4533</th>\n",
              "      <th>4534</th>\n",
              "      <th>4535</th>\n",
              "      <th>4536</th>\n",
              "      <th>4537</th>\n",
              "      <th>4538</th>\n",
              "      <th>4539</th>\n",
              "      <th>4540</th>\n",
              "      <th>4541</th>\n",
              "      <th>4542</th>\n",
              "      <th>4543</th>\n",
              "      <th>4544</th>\n",
              "      <th>4545</th>\n",
              "      <th>4546</th>\n",
              "      <th>4547</th>\n",
              "      <th>4548</th>\n",
              "      <th>4549</th>\n",
              "      <th>4550</th>\n",
              "      <th>4551</th>\n",
              "      <th>4552</th>\n",
              "      <th>4553</th>\n",
              "      <th>4554</th>\n",
              "      <th>4555</th>\n",
              "      <th>4556</th>\n",
              "      <th>4557</th>\n",
              "      <th>4558</th>\n",
              "      <th>4559</th>\n",
              "      <th>4560</th>\n",
              "      <th>4561</th>\n",
              "      <th>4562</th>\n",
              "      <th>4563</th>\n",
              "      <th>4564</th>\n",
              "      <th>4565</th>\n",
              "      <th>4566</th>\n",
              "      <th>4567</th>\n",
              "      <th>4568</th>\n",
              "      <th>4569</th>\n",
              "      <th>4570</th>\n",
              "      <th>4571</th>\n",
              "    </tr>\n",
              "  </thead>\n",
              "  <tbody>\n",
              "    <tr>\n",
              "      <th>0</th>\n",
              "      <td>Park Hyatt</td>\n",
              "      <td>4</td>\n",
              "      <td>0</td>\n",
              "      <td>0.0</td>\n",
              "      <td>0.0</td>\n",
              "      <td>0.0</td>\n",
              "      <td>0.0</td>\n",
              "      <td>0.0</td>\n",
              "      <td>0.0</td>\n",
              "      <td>0.0</td>\n",
              "      <td>0.0</td>\n",
              "      <td>0.0</td>\n",
              "      <td>0.0</td>\n",
              "      <td>0.0</td>\n",
              "      <td>0.0</td>\n",
              "      <td>0.0</td>\n",
              "      <td>0.0</td>\n",
              "      <td>0.0</td>\n",
              "      <td>0.0</td>\n",
              "      <td>0.0</td>\n",
              "      <td>0.0</td>\n",
              "      <td>0.0</td>\n",
              "      <td>0.0</td>\n",
              "      <td>0.0</td>\n",
              "      <td>0.0</td>\n",
              "      <td>0.0</td>\n",
              "      <td>0.0</td>\n",
              "      <td>0.0</td>\n",
              "      <td>0.0</td>\n",
              "      <td>0.0</td>\n",
              "      <td>0.0</td>\n",
              "      <td>0.0</td>\n",
              "      <td>0.0</td>\n",
              "      <td>0.0</td>\n",
              "      <td>0.0</td>\n",
              "      <td>0.0</td>\n",
              "      <td>0.0</td>\n",
              "      <td>0.0</td>\n",
              "      <td>0.0</td>\n",
              "      <td>0.0</td>\n",
              "      <td>...</td>\n",
              "      <td>0.0</td>\n",
              "      <td>0.0</td>\n",
              "      <td>0.0</td>\n",
              "      <td>0.0</td>\n",
              "      <td>0.0</td>\n",
              "      <td>0.0</td>\n",
              "      <td>0.0</td>\n",
              "      <td>0.0</td>\n",
              "      <td>0.0</td>\n",
              "      <td>0.0</td>\n",
              "      <td>0.0</td>\n",
              "      <td>0.0</td>\n",
              "      <td>0.0</td>\n",
              "      <td>0.000000</td>\n",
              "      <td>0.0</td>\n",
              "      <td>0.0</td>\n",
              "      <td>0.0</td>\n",
              "      <td>0.0</td>\n",
              "      <td>0.0</td>\n",
              "      <td>0.0</td>\n",
              "      <td>0.0</td>\n",
              "      <td>0.0</td>\n",
              "      <td>0.0</td>\n",
              "      <td>0.0</td>\n",
              "      <td>0.0</td>\n",
              "      <td>0.0</td>\n",
              "      <td>0.0</td>\n",
              "      <td>0.0</td>\n",
              "      <td>0.0</td>\n",
              "      <td>0.0</td>\n",
              "      <td>0.0</td>\n",
              "      <td>0.000000</td>\n",
              "      <td>0.0</td>\n",
              "      <td>0.0</td>\n",
              "      <td>0.0</td>\n",
              "      <td>0.0</td>\n",
              "      <td>0.0</td>\n",
              "      <td>0.0</td>\n",
              "      <td>0.0</td>\n",
              "      <td>0.0</td>\n",
              "    </tr>\n",
              "    <tr>\n",
              "      <th>1</th>\n",
              "      <td>Hilton Chennai</td>\n",
              "      <td>4</td>\n",
              "      <td>0</td>\n",
              "      <td>0.0</td>\n",
              "      <td>0.0</td>\n",
              "      <td>0.0</td>\n",
              "      <td>0.0</td>\n",
              "      <td>0.0</td>\n",
              "      <td>0.0</td>\n",
              "      <td>0.0</td>\n",
              "      <td>0.0</td>\n",
              "      <td>0.0</td>\n",
              "      <td>0.0</td>\n",
              "      <td>0.0</td>\n",
              "      <td>0.0</td>\n",
              "      <td>0.0</td>\n",
              "      <td>0.0</td>\n",
              "      <td>0.0</td>\n",
              "      <td>0.0</td>\n",
              "      <td>0.0</td>\n",
              "      <td>0.0</td>\n",
              "      <td>0.0</td>\n",
              "      <td>0.0</td>\n",
              "      <td>0.0</td>\n",
              "      <td>0.0</td>\n",
              "      <td>0.0</td>\n",
              "      <td>0.0</td>\n",
              "      <td>0.0</td>\n",
              "      <td>0.0</td>\n",
              "      <td>0.0</td>\n",
              "      <td>0.0</td>\n",
              "      <td>0.0</td>\n",
              "      <td>0.0</td>\n",
              "      <td>0.0</td>\n",
              "      <td>0.0</td>\n",
              "      <td>0.0</td>\n",
              "      <td>0.0</td>\n",
              "      <td>0.0</td>\n",
              "      <td>0.0</td>\n",
              "      <td>0.0</td>\n",
              "      <td>...</td>\n",
              "      <td>0.0</td>\n",
              "      <td>0.0</td>\n",
              "      <td>0.0</td>\n",
              "      <td>0.0</td>\n",
              "      <td>0.0</td>\n",
              "      <td>0.0</td>\n",
              "      <td>0.0</td>\n",
              "      <td>0.0</td>\n",
              "      <td>0.0</td>\n",
              "      <td>0.0</td>\n",
              "      <td>0.0</td>\n",
              "      <td>0.0</td>\n",
              "      <td>0.0</td>\n",
              "      <td>0.000000</td>\n",
              "      <td>0.0</td>\n",
              "      <td>0.0</td>\n",
              "      <td>0.0</td>\n",
              "      <td>0.0</td>\n",
              "      <td>0.0</td>\n",
              "      <td>0.0</td>\n",
              "      <td>0.0</td>\n",
              "      <td>0.0</td>\n",
              "      <td>0.0</td>\n",
              "      <td>0.0</td>\n",
              "      <td>0.0</td>\n",
              "      <td>0.0</td>\n",
              "      <td>0.0</td>\n",
              "      <td>0.0</td>\n",
              "      <td>0.0</td>\n",
              "      <td>0.0</td>\n",
              "      <td>0.0</td>\n",
              "      <td>0.000000</td>\n",
              "      <td>0.0</td>\n",
              "      <td>0.0</td>\n",
              "      <td>0.0</td>\n",
              "      <td>0.0</td>\n",
              "      <td>0.0</td>\n",
              "      <td>0.0</td>\n",
              "      <td>0.0</td>\n",
              "      <td>0.0</td>\n",
              "    </tr>\n",
              "    <tr>\n",
              "      <th>2</th>\n",
              "      <td>The Royal Regency</td>\n",
              "      <td>8</td>\n",
              "      <td>1</td>\n",
              "      <td>0.0</td>\n",
              "      <td>0.0</td>\n",
              "      <td>0.0</td>\n",
              "      <td>0.0</td>\n",
              "      <td>0.0</td>\n",
              "      <td>0.0</td>\n",
              "      <td>0.0</td>\n",
              "      <td>0.0</td>\n",
              "      <td>0.0</td>\n",
              "      <td>0.0</td>\n",
              "      <td>0.0</td>\n",
              "      <td>0.0</td>\n",
              "      <td>0.0</td>\n",
              "      <td>0.0</td>\n",
              "      <td>0.0</td>\n",
              "      <td>0.0</td>\n",
              "      <td>0.0</td>\n",
              "      <td>0.0</td>\n",
              "      <td>0.0</td>\n",
              "      <td>0.0</td>\n",
              "      <td>0.0</td>\n",
              "      <td>0.0</td>\n",
              "      <td>0.0</td>\n",
              "      <td>0.0</td>\n",
              "      <td>0.0</td>\n",
              "      <td>0.0</td>\n",
              "      <td>0.0</td>\n",
              "      <td>0.0</td>\n",
              "      <td>0.0</td>\n",
              "      <td>0.0</td>\n",
              "      <td>0.0</td>\n",
              "      <td>0.0</td>\n",
              "      <td>0.0</td>\n",
              "      <td>0.0</td>\n",
              "      <td>0.0</td>\n",
              "      <td>0.0</td>\n",
              "      <td>0.0</td>\n",
              "      <td>...</td>\n",
              "      <td>0.0</td>\n",
              "      <td>0.0</td>\n",
              "      <td>0.0</td>\n",
              "      <td>0.0</td>\n",
              "      <td>0.0</td>\n",
              "      <td>0.0</td>\n",
              "      <td>0.0</td>\n",
              "      <td>0.0</td>\n",
              "      <td>0.0</td>\n",
              "      <td>0.0</td>\n",
              "      <td>0.0</td>\n",
              "      <td>0.0</td>\n",
              "      <td>0.0</td>\n",
              "      <td>0.478205</td>\n",
              "      <td>0.0</td>\n",
              "      <td>0.0</td>\n",
              "      <td>0.0</td>\n",
              "      <td>0.0</td>\n",
              "      <td>0.0</td>\n",
              "      <td>0.0</td>\n",
              "      <td>0.0</td>\n",
              "      <td>0.0</td>\n",
              "      <td>0.0</td>\n",
              "      <td>0.0</td>\n",
              "      <td>0.0</td>\n",
              "      <td>0.0</td>\n",
              "      <td>0.0</td>\n",
              "      <td>0.0</td>\n",
              "      <td>0.0</td>\n",
              "      <td>0.0</td>\n",
              "      <td>0.0</td>\n",
              "      <td>0.324922</td>\n",
              "      <td>0.0</td>\n",
              "      <td>0.0</td>\n",
              "      <td>0.0</td>\n",
              "      <td>0.0</td>\n",
              "      <td>0.0</td>\n",
              "      <td>0.0</td>\n",
              "      <td>0.0</td>\n",
              "      <td>0.0</td>\n",
              "    </tr>\n",
              "    <tr>\n",
              "      <th>3</th>\n",
              "      <td>Rivera</td>\n",
              "      <td>4</td>\n",
              "      <td>2</td>\n",
              "      <td>0.0</td>\n",
              "      <td>0.0</td>\n",
              "      <td>0.0</td>\n",
              "      <td>0.0</td>\n",
              "      <td>0.0</td>\n",
              "      <td>0.0</td>\n",
              "      <td>0.0</td>\n",
              "      <td>0.0</td>\n",
              "      <td>0.0</td>\n",
              "      <td>0.0</td>\n",
              "      <td>0.0</td>\n",
              "      <td>0.0</td>\n",
              "      <td>0.0</td>\n",
              "      <td>0.0</td>\n",
              "      <td>0.0</td>\n",
              "      <td>0.0</td>\n",
              "      <td>0.0</td>\n",
              "      <td>0.0</td>\n",
              "      <td>0.0</td>\n",
              "      <td>0.0</td>\n",
              "      <td>0.0</td>\n",
              "      <td>0.0</td>\n",
              "      <td>0.0</td>\n",
              "      <td>0.0</td>\n",
              "      <td>0.0</td>\n",
              "      <td>0.0</td>\n",
              "      <td>0.0</td>\n",
              "      <td>0.0</td>\n",
              "      <td>0.0</td>\n",
              "      <td>0.0</td>\n",
              "      <td>0.0</td>\n",
              "      <td>0.0</td>\n",
              "      <td>0.0</td>\n",
              "      <td>0.0</td>\n",
              "      <td>0.0</td>\n",
              "      <td>0.0</td>\n",
              "      <td>0.0</td>\n",
              "      <td>...</td>\n",
              "      <td>0.0</td>\n",
              "      <td>0.0</td>\n",
              "      <td>0.0</td>\n",
              "      <td>0.0</td>\n",
              "      <td>0.0</td>\n",
              "      <td>0.0</td>\n",
              "      <td>0.0</td>\n",
              "      <td>0.0</td>\n",
              "      <td>0.0</td>\n",
              "      <td>0.0</td>\n",
              "      <td>0.0</td>\n",
              "      <td>0.0</td>\n",
              "      <td>0.0</td>\n",
              "      <td>0.000000</td>\n",
              "      <td>0.0</td>\n",
              "      <td>0.0</td>\n",
              "      <td>0.0</td>\n",
              "      <td>0.0</td>\n",
              "      <td>0.0</td>\n",
              "      <td>0.0</td>\n",
              "      <td>0.0</td>\n",
              "      <td>0.0</td>\n",
              "      <td>0.0</td>\n",
              "      <td>0.0</td>\n",
              "      <td>0.0</td>\n",
              "      <td>0.0</td>\n",
              "      <td>0.0</td>\n",
              "      <td>0.0</td>\n",
              "      <td>0.0</td>\n",
              "      <td>0.0</td>\n",
              "      <td>0.0</td>\n",
              "      <td>0.000000</td>\n",
              "      <td>0.0</td>\n",
              "      <td>0.0</td>\n",
              "      <td>0.0</td>\n",
              "      <td>0.0</td>\n",
              "      <td>0.0</td>\n",
              "      <td>0.0</td>\n",
              "      <td>0.0</td>\n",
              "      <td>0.0</td>\n",
              "    </tr>\n",
              "    <tr>\n",
              "      <th>4</th>\n",
              "      <td>Park Hyatt</td>\n",
              "      <td>2</td>\n",
              "      <td>0</td>\n",
              "      <td>0.0</td>\n",
              "      <td>0.0</td>\n",
              "      <td>0.0</td>\n",
              "      <td>0.0</td>\n",
              "      <td>0.0</td>\n",
              "      <td>0.0</td>\n",
              "      <td>0.0</td>\n",
              "      <td>0.0</td>\n",
              "      <td>0.0</td>\n",
              "      <td>0.0</td>\n",
              "      <td>0.0</td>\n",
              "      <td>0.0</td>\n",
              "      <td>0.0</td>\n",
              "      <td>0.0</td>\n",
              "      <td>0.0</td>\n",
              "      <td>0.0</td>\n",
              "      <td>0.0</td>\n",
              "      <td>0.0</td>\n",
              "      <td>0.0</td>\n",
              "      <td>0.0</td>\n",
              "      <td>0.0</td>\n",
              "      <td>0.0</td>\n",
              "      <td>0.0</td>\n",
              "      <td>0.0</td>\n",
              "      <td>0.0</td>\n",
              "      <td>0.0</td>\n",
              "      <td>0.0</td>\n",
              "      <td>0.0</td>\n",
              "      <td>0.0</td>\n",
              "      <td>0.0</td>\n",
              "      <td>0.0</td>\n",
              "      <td>0.0</td>\n",
              "      <td>0.0</td>\n",
              "      <td>0.0</td>\n",
              "      <td>0.0</td>\n",
              "      <td>0.0</td>\n",
              "      <td>0.0</td>\n",
              "      <td>...</td>\n",
              "      <td>0.0</td>\n",
              "      <td>0.0</td>\n",
              "      <td>0.0</td>\n",
              "      <td>0.0</td>\n",
              "      <td>0.0</td>\n",
              "      <td>0.0</td>\n",
              "      <td>0.0</td>\n",
              "      <td>0.0</td>\n",
              "      <td>0.0</td>\n",
              "      <td>0.0</td>\n",
              "      <td>0.0</td>\n",
              "      <td>0.0</td>\n",
              "      <td>0.0</td>\n",
              "      <td>0.000000</td>\n",
              "      <td>0.0</td>\n",
              "      <td>0.0</td>\n",
              "      <td>0.0</td>\n",
              "      <td>0.0</td>\n",
              "      <td>0.0</td>\n",
              "      <td>0.0</td>\n",
              "      <td>0.0</td>\n",
              "      <td>0.0</td>\n",
              "      <td>0.0</td>\n",
              "      <td>0.0</td>\n",
              "      <td>0.0</td>\n",
              "      <td>0.0</td>\n",
              "      <td>0.0</td>\n",
              "      <td>0.0</td>\n",
              "      <td>0.0</td>\n",
              "      <td>0.0</td>\n",
              "      <td>0.0</td>\n",
              "      <td>0.000000</td>\n",
              "      <td>0.0</td>\n",
              "      <td>0.0</td>\n",
              "      <td>0.0</td>\n",
              "      <td>0.0</td>\n",
              "      <td>0.0</td>\n",
              "      <td>0.0</td>\n",
              "      <td>0.0</td>\n",
              "      <td>0.0</td>\n",
              "    </tr>\n",
              "  </tbody>\n",
              "</table>\n",
              "<p>5 rows × 4572 columns</p>\n",
              "</div>"
            ],
            "text/plain": [
              "                0     1     2     3     4     ...  4567  4568  4569  4570  4571\n",
              "0         Park Hyatt     4     0   0.0   0.0  ...   0.0   0.0   0.0   0.0   0.0\n",
              "1     Hilton Chennai     4     0   0.0   0.0  ...   0.0   0.0   0.0   0.0   0.0\n",
              "2  The Royal Regency     8     1   0.0   0.0  ...   0.0   0.0   0.0   0.0   0.0\n",
              "3             Rivera     4     2   0.0   0.0  ...   0.0   0.0   0.0   0.0   0.0\n",
              "4         Park Hyatt     2     0   0.0   0.0  ...   0.0   0.0   0.0   0.0   0.0\n",
              "\n",
              "[5 rows x 4572 columns]"
            ]
          },
          "metadata": {
            "tags": []
          },
          "execution_count": 31
        }
      ]
    },
    {
      "cell_type": "markdown",
      "metadata": {
        "id": "Kbc9DvHXJhJf"
      },
      "source": [
        "### Word2Vec"
      ]
    },
    {
      "cell_type": "code",
      "metadata": {
        "id": "OZcDEZPpBwHO"
      },
      "source": [
        "import io\n",
        "from tqdm import tqdm\n",
        "from itertools import islice\n",
        "\n",
        "def load_vectors(fname, limit): # воспользуемся функциями из конспектов:)\n",
        "    fin = io.open(fname, 'r', encoding='utf-8', newline='\\n', errors='ignore')\n",
        "    n, d = map(int, fin.readline().split())\n",
        "    data = {}\n",
        "    for line in tqdm(islice(fin, limit), total=limit):\n",
        "        tokens = line.rstrip().split(' ')\n",
        "        data[tokens[0]] = np.array(list(map(float, tokens[1:])))\n",
        "    return data"
      ],
      "execution_count": 32,
      "outputs": []
    },
    {
      "cell_type": "code",
      "metadata": {
        "id": "e0ijwdI2BxER"
      },
      "source": [
        "def text2vec(text):\n",
        "    words = text.split()\n",
        "    if len(words) == 0:\n",
        "      words = ['no', 'description']\n",
        "      \n",
        "    return sum(list(map(lambda w: np.array(list(vecs.get(w, zero))), words))) / len(words)"
      ],
      "execution_count": 33,
      "outputs": []
    },
    {
      "cell_type": "code",
      "metadata": {
        "colab": {
          "base_uri": "https://localhost:8080/"
        },
        "id": "PkuvK_wZB5L5",
        "outputId": "5fe27194-8aba-477b-c969-98fd249e7e77"
      },
      "source": [
        "vecs = load_vectors('/content/drive/MyDrive/Тинькофф.Поколение/crawl-300d-2M.vec', 2000000)\n",
        "zero = sum(vecs.values()) / len(vecs)"
      ],
      "execution_count": 34,
      "outputs": [
        {
          "output_type": "stream",
          "text": [
            "100%|█████████▉| 1999995/2000000 [03:39<00:00, 9094.39it/s] \n"
          ],
          "name": "stderr"
        }
      ]
    },
    {
      "cell_type": "code",
      "metadata": {
        "id": "Lujta9bRIbjG"
      },
      "source": [
        "text_w = np.array([list(text2vec(row[1]['Review_Text'])) for row in df.iterrows()]) # получаем массив эмбеддингов\n",
        "title_w = np.array([list(text2vec(row[1]['Review_Title'])) for row in df.iterrows()])"
      ],
      "execution_count": 93,
      "outputs": []
    },
    {
      "cell_type": "code",
      "metadata": {
        "id": "iLA-ncrROpM2"
      },
      "source": [
        "df_w = df.drop(['Review_Title', 'Review_Text', 'Rating'], axis=1)"
      ],
      "execution_count": 94,
      "outputs": []
    },
    {
      "cell_type": "code",
      "metadata": {
        "id": "qAnJPamfOrFN"
      },
      "source": [
        "df_w = pd.concat([df_w, pd.DataFrame(text_w)], axis=1) # добавляем эмбеддинги в конец датасета\n",
        "df_w = pd.concat([df_w, pd.DataFrame(title_w)], axis=1)\n",
        "df_w.columns = np.arange(df_w.shape[1])"
      ],
      "execution_count": 95,
      "outputs": []
    },
    {
      "cell_type": "code",
      "metadata": {
        "colab": {
          "base_uri": "https://localhost:8080/",
          "height": 338
        },
        "id": "FoDH9o-dO8-k",
        "outputId": "df98fc68-37ae-4be7-bf9b-33eda2a4a20d"
      },
      "source": [
        "df_w.head()"
      ],
      "execution_count": 38,
      "outputs": [
        {
          "output_type": "execute_result",
          "data": {
            "text/html": [
              "<div>\n",
              "<style scoped>\n",
              "    .dataframe tbody tr th:only-of-type {\n",
              "        vertical-align: middle;\n",
              "    }\n",
              "\n",
              "    .dataframe tbody tr th {\n",
              "        vertical-align: top;\n",
              "    }\n",
              "\n",
              "    .dataframe thead th {\n",
              "        text-align: right;\n",
              "    }\n",
              "</style>\n",
              "<table border=\"1\" class=\"dataframe\">\n",
              "  <thead>\n",
              "    <tr style=\"text-align: right;\">\n",
              "      <th></th>\n",
              "      <th>0</th>\n",
              "      <th>1</th>\n",
              "      <th>2</th>\n",
              "      <th>3</th>\n",
              "      <th>4</th>\n",
              "      <th>5</th>\n",
              "      <th>6</th>\n",
              "      <th>7</th>\n",
              "      <th>8</th>\n",
              "      <th>9</th>\n",
              "      <th>10</th>\n",
              "      <th>11</th>\n",
              "      <th>12</th>\n",
              "      <th>13</th>\n",
              "      <th>14</th>\n",
              "      <th>15</th>\n",
              "      <th>16</th>\n",
              "      <th>17</th>\n",
              "      <th>18</th>\n",
              "      <th>19</th>\n",
              "      <th>20</th>\n",
              "      <th>21</th>\n",
              "      <th>22</th>\n",
              "      <th>23</th>\n",
              "      <th>24</th>\n",
              "      <th>25</th>\n",
              "      <th>26</th>\n",
              "      <th>27</th>\n",
              "      <th>28</th>\n",
              "      <th>29</th>\n",
              "      <th>30</th>\n",
              "      <th>31</th>\n",
              "      <th>32</th>\n",
              "      <th>33</th>\n",
              "      <th>34</th>\n",
              "      <th>35</th>\n",
              "      <th>36</th>\n",
              "      <th>37</th>\n",
              "      <th>38</th>\n",
              "      <th>39</th>\n",
              "      <th>...</th>\n",
              "      <th>563</th>\n",
              "      <th>564</th>\n",
              "      <th>565</th>\n",
              "      <th>566</th>\n",
              "      <th>567</th>\n",
              "      <th>568</th>\n",
              "      <th>569</th>\n",
              "      <th>570</th>\n",
              "      <th>571</th>\n",
              "      <th>572</th>\n",
              "      <th>573</th>\n",
              "      <th>574</th>\n",
              "      <th>575</th>\n",
              "      <th>576</th>\n",
              "      <th>577</th>\n",
              "      <th>578</th>\n",
              "      <th>579</th>\n",
              "      <th>580</th>\n",
              "      <th>581</th>\n",
              "      <th>582</th>\n",
              "      <th>583</th>\n",
              "      <th>584</th>\n",
              "      <th>585</th>\n",
              "      <th>586</th>\n",
              "      <th>587</th>\n",
              "      <th>588</th>\n",
              "      <th>589</th>\n",
              "      <th>590</th>\n",
              "      <th>591</th>\n",
              "      <th>592</th>\n",
              "      <th>593</th>\n",
              "      <th>594</th>\n",
              "      <th>595</th>\n",
              "      <th>596</th>\n",
              "      <th>597</th>\n",
              "      <th>598</th>\n",
              "      <th>599</th>\n",
              "      <th>600</th>\n",
              "      <th>601</th>\n",
              "      <th>602</th>\n",
              "    </tr>\n",
              "  </thead>\n",
              "  <tbody>\n",
              "    <tr>\n",
              "      <th>0</th>\n",
              "      <td>Park Hyatt</td>\n",
              "      <td>4</td>\n",
              "      <td>0</td>\n",
              "      <td>-0.014004</td>\n",
              "      <td>-0.101965</td>\n",
              "      <td>-0.026465</td>\n",
              "      <td>0.025152</td>\n",
              "      <td>-0.127600</td>\n",
              "      <td>-0.007117</td>\n",
              "      <td>-0.062278</td>\n",
              "      <td>0.057674</td>\n",
              "      <td>0.085130</td>\n",
              "      <td>0.009630</td>\n",
              "      <td>-0.090717</td>\n",
              "      <td>0.185596</td>\n",
              "      <td>-0.148783</td>\n",
              "      <td>0.021091</td>\n",
              "      <td>-0.070617</td>\n",
              "      <td>-0.038048</td>\n",
              "      <td>0.154661</td>\n",
              "      <td>-0.024004</td>\n",
              "      <td>-0.103322</td>\n",
              "      <td>0.060804</td>\n",
              "      <td>0.052730</td>\n",
              "      <td>-0.003935</td>\n",
              "      <td>-0.063787</td>\n",
              "      <td>-0.030743</td>\n",
              "      <td>-0.046135</td>\n",
              "      <td>-0.121448</td>\n",
              "      <td>0.058326</td>\n",
              "      <td>0.062170</td>\n",
              "      <td>-0.018583</td>\n",
              "      <td>-0.030626</td>\n",
              "      <td>-0.034652</td>\n",
              "      <td>0.027430</td>\n",
              "      <td>0.009557</td>\n",
              "      <td>-0.206370</td>\n",
              "      <td>0.112361</td>\n",
              "      <td>-0.051543</td>\n",
              "      <td>0.091639</td>\n",
              "      <td>...</td>\n",
              "      <td>0.102400</td>\n",
              "      <td>-0.00390</td>\n",
              "      <td>0.140650</td>\n",
              "      <td>0.213050</td>\n",
              "      <td>0.079500</td>\n",
              "      <td>0.23150</td>\n",
              "      <td>-0.078550</td>\n",
              "      <td>-0.13705</td>\n",
              "      <td>-0.15135</td>\n",
              "      <td>-0.38280</td>\n",
              "      <td>-0.191550</td>\n",
              "      <td>0.311850</td>\n",
              "      <td>-0.06515</td>\n",
              "      <td>0.36125</td>\n",
              "      <td>-0.23885</td>\n",
              "      <td>0.240300</td>\n",
              "      <td>0.040100</td>\n",
              "      <td>0.040800</td>\n",
              "      <td>-0.468650</td>\n",
              "      <td>0.083050</td>\n",
              "      <td>0.205200</td>\n",
              "      <td>0.32855</td>\n",
              "      <td>0.151400</td>\n",
              "      <td>0.231850</td>\n",
              "      <td>-0.280100</td>\n",
              "      <td>-0.029500</td>\n",
              "      <td>-0.284900</td>\n",
              "      <td>0.024500</td>\n",
              "      <td>-0.308200</td>\n",
              "      <td>-0.246650</td>\n",
              "      <td>-0.05605</td>\n",
              "      <td>0.132400</td>\n",
              "      <td>0.054200</td>\n",
              "      <td>0.072850</td>\n",
              "      <td>0.30670</td>\n",
              "      <td>0.115000</td>\n",
              "      <td>-0.205800</td>\n",
              "      <td>-0.28315</td>\n",
              "      <td>-0.043350</td>\n",
              "      <td>-0.003450</td>\n",
              "    </tr>\n",
              "    <tr>\n",
              "      <th>1</th>\n",
              "      <td>Hilton Chennai</td>\n",
              "      <td>4</td>\n",
              "      <td>0</td>\n",
              "      <td>0.017690</td>\n",
              "      <td>-0.055755</td>\n",
              "      <td>-0.011997</td>\n",
              "      <td>0.011497</td>\n",
              "      <td>-0.171596</td>\n",
              "      <td>-0.016755</td>\n",
              "      <td>-0.165510</td>\n",
              "      <td>0.013907</td>\n",
              "      <td>0.047523</td>\n",
              "      <td>0.052247</td>\n",
              "      <td>-0.025587</td>\n",
              "      <td>0.189842</td>\n",
              "      <td>-0.014791</td>\n",
              "      <td>-0.023137</td>\n",
              "      <td>-0.028009</td>\n",
              "      <td>-0.014579</td>\n",
              "      <td>0.070435</td>\n",
              "      <td>-0.014351</td>\n",
              "      <td>0.056497</td>\n",
              "      <td>0.019177</td>\n",
              "      <td>-0.020679</td>\n",
              "      <td>-0.004656</td>\n",
              "      <td>0.027301</td>\n",
              "      <td>-0.018829</td>\n",
              "      <td>-0.152059</td>\n",
              "      <td>-0.139388</td>\n",
              "      <td>0.047258</td>\n",
              "      <td>-0.056679</td>\n",
              "      <td>-0.044086</td>\n",
              "      <td>0.085676</td>\n",
              "      <td>-0.081306</td>\n",
              "      <td>-0.069479</td>\n",
              "      <td>0.008501</td>\n",
              "      <td>-0.189087</td>\n",
              "      <td>0.079137</td>\n",
              "      <td>-0.056556</td>\n",
              "      <td>0.113930</td>\n",
              "      <td>...</td>\n",
              "      <td>-0.097850</td>\n",
              "      <td>-0.34500</td>\n",
              "      <td>-0.019900</td>\n",
              "      <td>-0.051100</td>\n",
              "      <td>-0.274250</td>\n",
              "      <td>0.17775</td>\n",
              "      <td>-0.092250</td>\n",
              "      <td>-0.35230</td>\n",
              "      <td>-0.42230</td>\n",
              "      <td>-0.36325</td>\n",
              "      <td>-0.048450</td>\n",
              "      <td>0.163400</td>\n",
              "      <td>0.23500</td>\n",
              "      <td>0.48345</td>\n",
              "      <td>-0.01305</td>\n",
              "      <td>0.337600</td>\n",
              "      <td>0.023250</td>\n",
              "      <td>-0.029000</td>\n",
              "      <td>-0.068050</td>\n",
              "      <td>0.539300</td>\n",
              "      <td>0.243200</td>\n",
              "      <td>-0.00640</td>\n",
              "      <td>-0.280600</td>\n",
              "      <td>0.125950</td>\n",
              "      <td>-0.302550</td>\n",
              "      <td>0.002300</td>\n",
              "      <td>-0.007400</td>\n",
              "      <td>0.366800</td>\n",
              "      <td>-0.023100</td>\n",
              "      <td>-0.229550</td>\n",
              "      <td>0.01370</td>\n",
              "      <td>0.507150</td>\n",
              "      <td>-0.057950</td>\n",
              "      <td>0.311300</td>\n",
              "      <td>0.23315</td>\n",
              "      <td>0.155350</td>\n",
              "      <td>-0.179050</td>\n",
              "      <td>-0.10455</td>\n",
              "      <td>-0.100100</td>\n",
              "      <td>-0.102750</td>\n",
              "    </tr>\n",
              "    <tr>\n",
              "      <th>2</th>\n",
              "      <td>The Royal Regency</td>\n",
              "      <td>8</td>\n",
              "      <td>1</td>\n",
              "      <td>-0.072474</td>\n",
              "      <td>0.006027</td>\n",
              "      <td>-0.053873</td>\n",
              "      <td>0.043570</td>\n",
              "      <td>-0.162497</td>\n",
              "      <td>-0.028737</td>\n",
              "      <td>-0.089817</td>\n",
              "      <td>0.041387</td>\n",
              "      <td>0.113736</td>\n",
              "      <td>-0.078925</td>\n",
              "      <td>0.014329</td>\n",
              "      <td>0.227682</td>\n",
              "      <td>-0.072712</td>\n",
              "      <td>-0.009276</td>\n",
              "      <td>-0.091727</td>\n",
              "      <td>-0.038962</td>\n",
              "      <td>0.023661</td>\n",
              "      <td>0.010412</td>\n",
              "      <td>0.014744</td>\n",
              "      <td>0.023122</td>\n",
              "      <td>0.060427</td>\n",
              "      <td>-0.047627</td>\n",
              "      <td>0.031286</td>\n",
              "      <td>-0.009167</td>\n",
              "      <td>-0.073775</td>\n",
              "      <td>-0.114346</td>\n",
              "      <td>0.002885</td>\n",
              "      <td>0.088048</td>\n",
              "      <td>-0.006570</td>\n",
              "      <td>-0.026839</td>\n",
              "      <td>-0.074125</td>\n",
              "      <td>0.025820</td>\n",
              "      <td>-0.014724</td>\n",
              "      <td>-0.237949</td>\n",
              "      <td>0.077551</td>\n",
              "      <td>-0.060752</td>\n",
              "      <td>0.108247</td>\n",
              "      <td>...</td>\n",
              "      <td>0.085533</td>\n",
              "      <td>-0.07090</td>\n",
              "      <td>0.063233</td>\n",
              "      <td>-0.059183</td>\n",
              "      <td>0.002367</td>\n",
              "      <td>0.08790</td>\n",
              "      <td>0.058017</td>\n",
              "      <td>0.01970</td>\n",
              "      <td>-0.01965</td>\n",
              "      <td>-0.01725</td>\n",
              "      <td>0.121867</td>\n",
              "      <td>-0.117567</td>\n",
              "      <td>-0.00200</td>\n",
              "      <td>-0.12610</td>\n",
              "      <td>0.05495</td>\n",
              "      <td>0.076383</td>\n",
              "      <td>-0.037017</td>\n",
              "      <td>0.011233</td>\n",
              "      <td>0.173283</td>\n",
              "      <td>0.103167</td>\n",
              "      <td>0.067983</td>\n",
              "      <td>-0.00745</td>\n",
              "      <td>-0.041783</td>\n",
              "      <td>-0.106767</td>\n",
              "      <td>-0.094167</td>\n",
              "      <td>-0.073083</td>\n",
              "      <td>0.025517</td>\n",
              "      <td>0.153117</td>\n",
              "      <td>-0.125917</td>\n",
              "      <td>-0.020883</td>\n",
              "      <td>-0.10090</td>\n",
              "      <td>0.017083</td>\n",
              "      <td>-0.107033</td>\n",
              "      <td>-0.015367</td>\n",
              "      <td>-0.16900</td>\n",
              "      <td>0.034017</td>\n",
              "      <td>-0.076383</td>\n",
              "      <td>0.07920</td>\n",
              "      <td>-0.042883</td>\n",
              "      <td>0.001283</td>\n",
              "    </tr>\n",
              "    <tr>\n",
              "      <th>3</th>\n",
              "      <td>Rivera</td>\n",
              "      <td>4</td>\n",
              "      <td>2</td>\n",
              "      <td>-0.010500</td>\n",
              "      <td>-0.111319</td>\n",
              "      <td>-0.029138</td>\n",
              "      <td>0.028310</td>\n",
              "      <td>-0.136190</td>\n",
              "      <td>-0.000314</td>\n",
              "      <td>-0.045262</td>\n",
              "      <td>0.117424</td>\n",
              "      <td>0.008257</td>\n",
              "      <td>-0.076786</td>\n",
              "      <td>-0.049867</td>\n",
              "      <td>0.170467</td>\n",
              "      <td>-0.032414</td>\n",
              "      <td>0.013138</td>\n",
              "      <td>-0.085476</td>\n",
              "      <td>-0.025219</td>\n",
              "      <td>0.108910</td>\n",
              "      <td>-0.047490</td>\n",
              "      <td>0.024938</td>\n",
              "      <td>0.053090</td>\n",
              "      <td>0.100224</td>\n",
              "      <td>0.037019</td>\n",
              "      <td>-0.041071</td>\n",
              "      <td>-0.109467</td>\n",
              "      <td>-0.104995</td>\n",
              "      <td>-0.090395</td>\n",
              "      <td>0.072790</td>\n",
              "      <td>-0.018248</td>\n",
              "      <td>-0.016167</td>\n",
              "      <td>0.107676</td>\n",
              "      <td>-0.021324</td>\n",
              "      <td>-0.012443</td>\n",
              "      <td>0.050124</td>\n",
              "      <td>-0.207795</td>\n",
              "      <td>0.101719</td>\n",
              "      <td>-0.102695</td>\n",
              "      <td>0.057981</td>\n",
              "      <td>...</td>\n",
              "      <td>0.049050</td>\n",
              "      <td>-0.04435</td>\n",
              "      <td>-0.019150</td>\n",
              "      <td>0.009850</td>\n",
              "      <td>-0.156600</td>\n",
              "      <td>0.02740</td>\n",
              "      <td>-0.117200</td>\n",
              "      <td>-0.08470</td>\n",
              "      <td>-0.00435</td>\n",
              "      <td>-0.06110</td>\n",
              "      <td>0.015700</td>\n",
              "      <td>-0.120600</td>\n",
              "      <td>-0.08115</td>\n",
              "      <td>0.01595</td>\n",
              "      <td>0.08765</td>\n",
              "      <td>0.060550</td>\n",
              "      <td>0.163700</td>\n",
              "      <td>-0.120600</td>\n",
              "      <td>-0.102750</td>\n",
              "      <td>-0.061150</td>\n",
              "      <td>0.142400</td>\n",
              "      <td>0.07835</td>\n",
              "      <td>-0.007200</td>\n",
              "      <td>0.103900</td>\n",
              "      <td>-0.195500</td>\n",
              "      <td>-0.055100</td>\n",
              "      <td>0.078600</td>\n",
              "      <td>0.091350</td>\n",
              "      <td>0.177800</td>\n",
              "      <td>-0.124850</td>\n",
              "      <td>0.04830</td>\n",
              "      <td>0.026200</td>\n",
              "      <td>-0.084800</td>\n",
              "      <td>-0.068600</td>\n",
              "      <td>0.09405</td>\n",
              "      <td>-0.152750</td>\n",
              "      <td>0.016700</td>\n",
              "      <td>0.08585</td>\n",
              "      <td>-0.145850</td>\n",
              "      <td>0.025300</td>\n",
              "    </tr>\n",
              "    <tr>\n",
              "      <th>4</th>\n",
              "      <td>Park Hyatt</td>\n",
              "      <td>2</td>\n",
              "      <td>0</td>\n",
              "      <td>0.001365</td>\n",
              "      <td>0.005165</td>\n",
              "      <td>-0.023358</td>\n",
              "      <td>0.081638</td>\n",
              "      <td>-0.091715</td>\n",
              "      <td>-0.025708</td>\n",
              "      <td>-0.125777</td>\n",
              "      <td>0.028123</td>\n",
              "      <td>0.106769</td>\n",
              "      <td>0.014408</td>\n",
              "      <td>-0.079131</td>\n",
              "      <td>0.178465</td>\n",
              "      <td>-0.087431</td>\n",
              "      <td>-0.004258</td>\n",
              "      <td>-0.051412</td>\n",
              "      <td>-0.012996</td>\n",
              "      <td>0.074431</td>\n",
              "      <td>-0.002158</td>\n",
              "      <td>-0.055008</td>\n",
              "      <td>0.068381</td>\n",
              "      <td>0.044135</td>\n",
              "      <td>-0.039885</td>\n",
              "      <td>-0.000215</td>\n",
              "      <td>-0.014677</td>\n",
              "      <td>-0.081842</td>\n",
              "      <td>-0.034381</td>\n",
              "      <td>0.000346</td>\n",
              "      <td>0.073688</td>\n",
              "      <td>0.012531</td>\n",
              "      <td>-0.079831</td>\n",
              "      <td>-0.080938</td>\n",
              "      <td>-0.076450</td>\n",
              "      <td>-0.076227</td>\n",
              "      <td>-0.145415</td>\n",
              "      <td>0.048608</td>\n",
              "      <td>-0.025023</td>\n",
              "      <td>0.015785</td>\n",
              "      <td>...</td>\n",
              "      <td>0.063250</td>\n",
              "      <td>-0.13450</td>\n",
              "      <td>0.291900</td>\n",
              "      <td>-0.025650</td>\n",
              "      <td>0.118300</td>\n",
              "      <td>-0.20855</td>\n",
              "      <td>-0.101500</td>\n",
              "      <td>-0.07290</td>\n",
              "      <td>-0.00645</td>\n",
              "      <td>0.08020</td>\n",
              "      <td>0.032150</td>\n",
              "      <td>-0.220800</td>\n",
              "      <td>-0.05015</td>\n",
              "      <td>0.27655</td>\n",
              "      <td>0.15090</td>\n",
              "      <td>0.041500</td>\n",
              "      <td>-0.107300</td>\n",
              "      <td>0.257300</td>\n",
              "      <td>-0.023150</td>\n",
              "      <td>0.168700</td>\n",
              "      <td>-0.025200</td>\n",
              "      <td>-0.01365</td>\n",
              "      <td>-0.079000</td>\n",
              "      <td>-0.220700</td>\n",
              "      <td>0.153400</td>\n",
              "      <td>0.014600</td>\n",
              "      <td>0.005700</td>\n",
              "      <td>0.249450</td>\n",
              "      <td>0.050450</td>\n",
              "      <td>-0.083950</td>\n",
              "      <td>-0.04050</td>\n",
              "      <td>0.024100</td>\n",
              "      <td>0.007600</td>\n",
              "      <td>-0.137750</td>\n",
              "      <td>-0.08510</td>\n",
              "      <td>-0.143900</td>\n",
              "      <td>-0.042850</td>\n",
              "      <td>-0.19565</td>\n",
              "      <td>0.194100</td>\n",
              "      <td>-0.185250</td>\n",
              "    </tr>\n",
              "  </tbody>\n",
              "</table>\n",
              "<p>5 rows × 603 columns</p>\n",
              "</div>"
            ],
            "text/plain": [
              "                 0    1    2         3    ...       599      600       601       602\n",
              "0         Park Hyatt    4    0 -0.014004  ... -0.205800 -0.28315 -0.043350 -0.003450\n",
              "1     Hilton Chennai    4    0  0.017690  ... -0.179050 -0.10455 -0.100100 -0.102750\n",
              "2  The Royal Regency    8    1 -0.072474  ... -0.076383  0.07920 -0.042883  0.001283\n",
              "3             Rivera    4    2 -0.010500  ...  0.016700  0.08585 -0.145850  0.025300\n",
              "4         Park Hyatt    2    0  0.001365  ... -0.042850 -0.19565  0.194100 -0.185250\n",
              "\n",
              "[5 rows x 603 columns]"
            ]
          },
          "metadata": {
            "tags": []
          },
          "execution_count": 38
        }
      ]
    },
    {
      "cell_type": "markdown",
      "metadata": {
        "id": "Xm0ZjIIrvoBe"
      },
      "source": [
        "# Модель, обучение и предсказание."
      ]
    },
    {
      "cell_type": "code",
      "metadata": {
        "id": "E8qIKTFoa91X",
        "colab": {
          "base_uri": "https://localhost:8080/"
        },
        "outputId": "4b1f38ef-3bfc-4f42-970f-d07c5fe2190b"
      },
      "source": [
        "!pip install catboost # установим катбуст"
      ],
      "execution_count": 39,
      "outputs": [
        {
          "output_type": "stream",
          "text": [
            "Collecting catboost\n",
            "\u001b[?25l  Downloading https://files.pythonhosted.org/packages/47/80/8e9c57ec32dfed6ba2922bc5c96462cbf8596ce1a6f5de532ad1e43e53fe/catboost-0.25.1-cp37-none-manylinux1_x86_64.whl (67.3MB)\n",
            "\u001b[K     |████████████████████████████████| 67.3MB 101kB/s \n",
            "\u001b[?25hRequirement already satisfied: graphviz in /usr/local/lib/python3.7/dist-packages (from catboost) (0.10.1)\n",
            "Requirement already satisfied: pandas>=0.24.0 in /usr/local/lib/python3.7/dist-packages (from catboost) (1.1.5)\n",
            "Requirement already satisfied: numpy>=1.16.0 in /usr/local/lib/python3.7/dist-packages (from catboost) (1.19.5)\n",
            "Requirement already satisfied: plotly in /usr/local/lib/python3.7/dist-packages (from catboost) (4.4.1)\n",
            "Requirement already satisfied: matplotlib in /usr/local/lib/python3.7/dist-packages (from catboost) (3.2.2)\n",
            "Requirement already satisfied: six in /usr/local/lib/python3.7/dist-packages (from catboost) (1.15.0)\n",
            "Requirement already satisfied: scipy in /usr/local/lib/python3.7/dist-packages (from catboost) (1.4.1)\n",
            "Requirement already satisfied: python-dateutil>=2.7.3 in /usr/local/lib/python3.7/dist-packages (from pandas>=0.24.0->catboost) (2.8.1)\n",
            "Requirement already satisfied: pytz>=2017.2 in /usr/local/lib/python3.7/dist-packages (from pandas>=0.24.0->catboost) (2018.9)\n",
            "Requirement already satisfied: retrying>=1.3.3 in /usr/local/lib/python3.7/dist-packages (from plotly->catboost) (1.3.3)\n",
            "Requirement already satisfied: cycler>=0.10 in /usr/local/lib/python3.7/dist-packages (from matplotlib->catboost) (0.10.0)\n",
            "Requirement already satisfied: kiwisolver>=1.0.1 in /usr/local/lib/python3.7/dist-packages (from matplotlib->catboost) (1.3.1)\n",
            "Requirement already satisfied: pyparsing!=2.0.4,!=2.1.2,!=2.1.6,>=2.0.1 in /usr/local/lib/python3.7/dist-packages (from matplotlib->catboost) (2.4.7)\n",
            "Installing collected packages: catboost\n",
            "Successfully installed catboost-0.25.1\n"
          ],
          "name": "stdout"
        }
      ]
    },
    {
      "cell_type": "code",
      "metadata": {
        "id": "3ZHfK5RpV8bW"
      },
      "source": [
        "from sklearn.model_selection import train_test_split\n",
        " # все 3 полученных (для каждого представления текстов) датасета сплитим\n",
        "X_train_cv, X_test_cv, y_train_cv, y_test_cv = train_test_split(df_cv, y, test_size=0.2, random_state=42)\n",
        "X_train_tf, X_test_tf, y_train_tf, y_test_tf = train_test_split(df_tf, y, test_size=0.2, random_state=42)\n",
        "X_train_w, X_test_w, y_train_w, y_test_w = train_test_split(df_w, y, test_size=0.2, random_state=42)"
      ],
      "execution_count": 40,
      "outputs": []
    },
    {
      "cell_type": "markdown",
      "metadata": {
        "id": "z-6baiRuv5Cq"
      },
      "source": [
        "## CatBoost."
      ]
    },
    {
      "cell_type": "markdown",
      "metadata": {
        "id": "608osytAGI0y"
      },
      "source": [
        "Count Vectorizer."
      ]
    },
    {
      "cell_type": "code",
      "metadata": {
        "id": "0XflxvR5a7Uu",
        "colab": {
          "base_uri": "https://localhost:8080/"
        },
        "outputId": "8f9405f1-6eae-4c2d-f5b2-e4a87dd86dfb"
      },
      "source": [
        "from catboost import CatBoostRegressor\n",
        "from sklearn.metrics import mean_squared_error\n",
        "\n",
        "cbr = CatBoostRegressor(cat_features=[0], random_seed=42, verbose=False)\n",
        "cbr.fit(X_train_cv, y_train_cv)\n",
        "y_pred_cv = cbr.predict(X_test_cv)\n",
        "print('MSE: {}'.format(mean_squared_error(y_test_cv, y_pred_cv)))\n",
        "print('RMSE: {}'.format(mean_squared_error(y_test_cv, y_pred_cv, squared=False)))"
      ],
      "execution_count": 41,
      "outputs": [
        {
          "output_type": "stream",
          "text": [
            "MSE: 199.21628520848265\n",
            "RMSE: 14.114399923782896\n"
          ],
          "name": "stdout"
        }
      ]
    },
    {
      "cell_type": "markdown",
      "metadata": {
        "id": "U4AnrHZCGfIY"
      },
      "source": [
        "TF-IDF."
      ]
    },
    {
      "cell_type": "code",
      "metadata": {
        "colab": {
          "base_uri": "https://localhost:8080/"
        },
        "id": "tfjY3d5PGSKx",
        "outputId": "7ec50898-56e0-40a6-ceea-84602d3f18a6"
      },
      "source": [
        "cbr = CatBoostRegressor(cat_features=[0], random_seed=42, verbose=False)\n",
        "cbr.fit(X_train_tf, y_train_tf)\n",
        "y_pred_tf = cbr.predict(X_test_tf)\n",
        "print('MSE: {}'.format(mean_squared_error(y_test_tf, y_pred_tf)))\n",
        "print('RMSE: {}'.format(mean_squared_error(y_test_tf, y_pred_tf, squared=False)))"
      ],
      "execution_count": 42,
      "outputs": [
        {
          "output_type": "stream",
          "text": [
            "MSE: 183.27807499645013\n",
            "RMSE: 13.538023304620587\n"
          ],
          "name": "stdout"
        }
      ]
    },
    {
      "cell_type": "markdown",
      "metadata": {
        "id": "Qzrkc4jePA9i"
      },
      "source": [
        "Word2Vec."
      ]
    },
    {
      "cell_type": "code",
      "metadata": {
        "colab": {
          "base_uri": "https://localhost:8080/"
        },
        "id": "vb0nf9J9PDpa",
        "outputId": "edb9fe2b-2ad1-4f8d-c15a-b2310c0ebd1f"
      },
      "source": [
        "cbr = CatBoostRegressor(cat_features=[0], random_seed=42, verbose=False)\n",
        "cbr.fit(X_train_w, y_train_w)\n",
        "y_pred_w = cbr.predict(X_test_w)\n",
        "print('MSE: {}'.format(mean_squared_error(y_test_w, y_pred_w)))\n",
        "print('RMSE: {}'.format(mean_squared_error(y_test_w, y_pred_w, squared=False)))"
      ],
      "execution_count": 43,
      "outputs": [
        {
          "output_type": "stream",
          "text": [
            "MSE: 175.51253614423837\n",
            "RMSE: 13.24811443731667\n"
          ],
          "name": "stdout"
        }
      ]
    },
    {
      "cell_type": "markdown",
      "metadata": {
        "id": "Vp2_WyJyqLPJ"
      },
      "source": [
        "В статьях на Медиуме (например, в [этой](https://medium.com/@bedigunjit/simple-guide-to-text-classification-nlp-using-svm-and-naive-bayes-with-python-421db3a72d34)) для nlp classification активно используются такие модели, как Naive Bayes и SVM. Попробуем для задачи регрессии использовать соответствующие регрессоры."
      ]
    },
    {
      "cell_type": "code",
      "metadata": {
        "id": "dYKvlA22syH3"
      },
      "source": [
        "df_cv_enc = pd.get_dummies(df_cv)\n",
        "df_tf_enc = pd.get_dummies(df_tf)\n",
        "df_w_enc = pd.get_dummies(df_w)"
      ],
      "execution_count": 45,
      "outputs": []
    },
    {
      "cell_type": "code",
      "metadata": {
        "id": "xXVGGSHFsbGQ"
      },
      "source": [
        "X_train_cv_enc, X_test_cv_enc, y_train_cv_enc, y_test_cv_enc = train_test_split(df_cv_enc, y, test_size=0.2, random_state=42)\n",
        "X_train_tf_enc, X_test_tf_enc, y_train_tf_enc, y_test_tf_enc = train_test_split(df_tf_enc, y, test_size=0.2, random_state=42)\n",
        "X_train_w_enc, X_test_w_enc, y_train_w_enc, y_test_w_enc = train_test_split(df_w_enc, y, test_size=0.2, random_state=42)"
      ],
      "execution_count": 46,
      "outputs": []
    },
    {
      "cell_type": "markdown",
      "metadata": {
        "id": "z4vSiLrurqID"
      },
      "source": [
        "## Bayesian Ridge, Support Vector Regression, SGD Classifier."
      ]
    },
    {
      "cell_type": "markdown",
      "metadata": {
        "id": "AxAiHA632jS6"
      },
      "source": [
        "Count Vectorizer."
      ]
    },
    {
      "cell_type": "code",
      "metadata": {
        "colab": {
          "base_uri": "https://localhost:8080/"
        },
        "id": "okRoQzqHrsUT",
        "outputId": "1e1f2834-b7a6-400d-927a-fb502d9e5702"
      },
      "source": [
        "from sklearn.linear_model import BayesianRidge\n",
        "from sklearn.svm import SVR\n",
        "from sklearn.linear_model import SGDClassifier\n",
        "\n",
        "for name in [BayesianRidge, SVR, SGDClassifier]:\n",
        "  model = name()\n",
        "  print(model)\n",
        "  model.fit(X_train_cv_enc, y_train_cv_enc)\n",
        "  y_pred_cv_enc = model.predict(X_test_cv_enc)\n",
        "  print('\\nMSE: {}'.format(mean_squared_error(y_test_cv_enc, y_pred_cv_enc)))\n",
        "  print('RMSE: {}\\n'.format(mean_squared_error(y_test_cv_enc, y_pred_cv_enc, squared=False)))"
      ],
      "execution_count": 56,
      "outputs": [
        {
          "output_type": "stream",
          "text": [
            "BayesianRidge(alpha_1=1e-06, alpha_2=1e-06, alpha_init=None,\n",
            "              compute_score=False, copy_X=True, fit_intercept=True,\n",
            "              lambda_1=1e-06, lambda_2=1e-06, lambda_init=None, n_iter=300,\n",
            "              normalize=False, tol=0.001, verbose=False)\n",
            "\n",
            "MSE: 216.89620894870026\n",
            "RMSE: 14.727396543472993\n",
            "\n",
            "SVR(C=1.0, cache_size=200, coef0=0.0, degree=3, epsilon=0.1, gamma='scale',\n",
            "    kernel='rbf', max_iter=-1, shrinking=True, tol=0.001, verbose=False)\n",
            "\n",
            "MSE: 314.76528867742667\n",
            "RMSE: 17.741625874688786\n",
            "\n",
            "SGDClassifier(alpha=0.0001, average=False, class_weight=None,\n",
            "              early_stopping=False, epsilon=0.1, eta0=0.0, fit_intercept=True,\n",
            "              l1_ratio=0.15, learning_rate='optimal', loss='hinge',\n",
            "              max_iter=1000, n_iter_no_change=5, n_jobs=None, penalty='l2',\n",
            "              power_t=0.5, random_state=None, shuffle=True, tol=0.001,\n",
            "              validation_fraction=0.1, verbose=0, warm_start=False)\n",
            "\n",
            "MSE: 279.86411889596604\n",
            "RMSE: 16.729139813390468\n",
            "\n"
          ],
          "name": "stdout"
        }
      ]
    },
    {
      "cell_type": "markdown",
      "metadata": {
        "id": "Un4RO2C42sh0"
      },
      "source": [
        "TF-IDF."
      ]
    },
    {
      "cell_type": "code",
      "metadata": {
        "colab": {
          "base_uri": "https://localhost:8080/"
        },
        "id": "sHziUGjCtwb0",
        "outputId": "bebc4e75-4391-4832-c748-b8fec606140f"
      },
      "source": [
        "for name in [BayesianRidge, SVR, SGDClassifier]:\n",
        "  model = name()\n",
        "  print(model)\n",
        "  model.fit(X_train_tf_enc, y_train_tf_enc)\n",
        "  y_pred_tf_enc = model.predict(X_test_tf_enc)\n",
        "  print('\\nMSE: {}'.format(mean_squared_error(y_test_tf_enc, y_pred_tf_enc)))\n",
        "  print('RMSE: {}\\n'.format(mean_squared_error(y_test_tf_enc, y_pred_tf_enc, squared=False)))"
      ],
      "execution_count": 54,
      "outputs": [
        {
          "output_type": "stream",
          "text": [
            "BayesianRidge(alpha_1=1e-06, alpha_2=1e-06, alpha_init=None,\n",
            "              compute_score=False, copy_X=True, fit_intercept=True,\n",
            "              lambda_1=1e-06, lambda_2=1e-06, lambda_init=None, n_iter=300,\n",
            "              normalize=False, tol=0.001, verbose=False)\n",
            "\n",
            "MSE: 196.209815868169\n",
            "RMSE: 14.007491419528659\n",
            "\n",
            "SVR(C=1.0, cache_size=200, coef0=0.0, degree=3, epsilon=0.1, gamma='scale',\n",
            "    kernel='rbf', max_iter=-1, shrinking=True, tol=0.001, verbose=False)\n",
            "\n",
            "MSE: 324.92088437047005\n",
            "RMSE: 18.025561971003015\n",
            "\n",
            "SGDClassifier(alpha=0.0001, average=False, class_weight=None,\n",
            "              early_stopping=False, epsilon=0.1, eta0=0.0, fit_intercept=True,\n",
            "              l1_ratio=0.15, learning_rate='optimal', loss='hinge',\n",
            "              max_iter=1000, n_iter_no_change=5, n_jobs=None, penalty='l2',\n",
            "              power_t=0.5, random_state=None, shuffle=True, tol=0.001,\n",
            "              validation_fraction=0.1, verbose=0, warm_start=False)\n",
            "\n",
            "MSE: 270.7515923566879\n",
            "RMSE: 16.454531058547\n",
            "\n"
          ],
          "name": "stdout"
        }
      ]
    },
    {
      "cell_type": "markdown",
      "metadata": {
        "id": "hwZ6iQZW21q8"
      },
      "source": [
        "Word2Vec."
      ]
    },
    {
      "cell_type": "code",
      "metadata": {
        "colab": {
          "base_uri": "https://localhost:8080/"
        },
        "id": "mO-TOChw0OvM",
        "outputId": "934d2ef6-1852-480b-d366-5a83a203067f"
      },
      "source": [
        "for name in [BayesianRidge, SVR, SGDClassifier]:\n",
        "  model = name()\n",
        "  print(model)\n",
        "  model.fit(X_train_w_enc, y_train_w_enc)\n",
        "  y_pred_w_enc = model.predict(X_test_w_enc)\n",
        "  print('\\nMSE: {}'.format(mean_squared_error(y_test_w_enc, y_pred_w_enc)))\n",
        "  print('RMSE: {}\\n'.format(mean_squared_error(y_test_w_enc, y_pred_w_enc, squared=False)))"
      ],
      "execution_count": 57,
      "outputs": [
        {
          "output_type": "stream",
          "text": [
            "BayesianRidge(alpha_1=1e-06, alpha_2=1e-06, alpha_init=None,\n",
            "              compute_score=False, copy_X=True, fit_intercept=True,\n",
            "              lambda_1=1e-06, lambda_2=1e-06, lambda_init=None, n_iter=300,\n",
            "              normalize=False, tol=0.001, verbose=False)\n",
            "\n",
            "MSE: 223.71053429252595\n",
            "RMSE: 14.95695605036419\n",
            "\n",
            "SVR(C=1.0, cache_size=200, coef0=0.0, degree=3, epsilon=0.1, gamma='scale',\n",
            "    kernel='rbf', max_iter=-1, shrinking=True, tol=0.001, verbose=False)\n",
            "\n",
            "MSE: 309.2319401542456\n",
            "RMSE: 17.58499190088655\n",
            "\n",
            "SGDClassifier(alpha=0.0001, average=False, class_weight=None,\n",
            "              early_stopping=False, epsilon=0.1, eta0=0.0, fit_intercept=True,\n",
            "              l1_ratio=0.15, learning_rate='optimal', loss='hinge',\n",
            "              max_iter=1000, n_iter_no_change=5, n_jobs=None, penalty='l2',\n",
            "              power_t=0.5, random_state=None, shuffle=True, tol=0.001,\n",
            "              validation_fraction=0.1, verbose=0, warm_start=False)\n",
            "\n",
            "MSE: 315.9447983014862\n",
            "RMSE: 17.774836097739023\n",
            "\n"
          ],
          "name": "stdout"
        }
      ]
    },
    {
      "cell_type": "markdown",
      "metadata": {
        "id": "cmHEReRM3PBo"
      },
      "source": [
        "# Заключительная часть."
      ]
    },
    {
      "cell_type": "markdown",
      "metadata": {
        "id": "aaTMSp584ZqV"
      },
      "source": [
        "## Модель."
      ]
    },
    {
      "cell_type": "markdown",
      "metadata": {
        "id": "QivgjZRB3WjM"
      },
      "source": [
        "После всех проведенных испытаний стало ясно, что лучше всех справилась модель `CatBoostRegressor` со всеми видами представления данных. Немного хуже сработал `BayesianRidge`, о `SVR` и `SGDClassifier` лучше умолчать:)"
      ]
    },
    {
      "cell_type": "markdown",
      "metadata": {
        "id": "ol-LzD-54g_X"
      },
      "source": [
        "## Представление текстовых данных."
      ]
    },
    {
      "cell_type": "markdown",
      "metadata": {
        "id": "o4_ThUzd4r9b"
      },
      "source": [
        "`CatBoostRegressor` показал лучший результат при работе с `Word2Vec`. `BayesianRidge` лучше всего сработал, наоборот, с `TF-IDF`, а с `Word2Vec` показал худший результат. Остальные модели далеко позади."
      ]
    },
    {
      "cell_type": "markdown",
      "metadata": {
        "id": "1SEEKXU262hI"
      },
      "source": [
        "## Вывод."
      ]
    },
    {
      "cell_type": "markdown",
      "metadata": {
        "id": "5k_CwVVZ6eOq"
      },
      "source": [
        "Таким образом, фаворит сегодняшнего вечера - `CatBoostRegressor` с представлением текстовых данных с помощью `Word2Vec`.\n",
        "\n",
        "Результат:\n",
        "\n",
        "MSE: 175.51253614423837\n",
        "\n",
        "RMSE: 13.24811443731667"
      ]
    },
    {
      "cell_type": "markdown",
      "metadata": {
        "id": "X4e6_JhE66rd"
      },
      "source": [
        "## Предсказание на тестовой части."
      ]
    },
    {
      "cell_type": "code",
      "metadata": {
        "id": "YRXqQotE7mOi"
      },
      "source": [
        "df_test = pd.read_csv('/content/drive/MyDrive/Тинькофф.Поколение/test.csv', encoding='ISO-8859-1')"
      ],
      "execution_count": 103,
      "outputs": []
    },
    {
      "cell_type": "code",
      "metadata": {
        "id": "7g-Zse5HFL3J"
      },
      "source": [
        "id_col = df_test['Id']"
      ],
      "execution_count": 104,
      "outputs": []
    },
    {
      "cell_type": "code",
      "metadata": {
        "colab": {
          "base_uri": "https://localhost:8080/"
        },
        "id": "c6dboYnY7-mY",
        "outputId": "fd8e9ebf-0a9b-4226-efb4-30e2cc9a5ca3"
      },
      "source": [
        "df_test.isna().sum() # проверим на Nan'ы"
      ],
      "execution_count": 105,
      "outputs": [
        {
          "output_type": "execute_result",
          "data": {
            "text/plain": [
              "Id                0\n",
              "Hotel_name        0\n",
              "Review_Title    209\n",
              "Review_Text       0\n",
              "dtype: int64"
            ]
          },
          "metadata": {
            "tags": []
          },
          "execution_count": 105
        }
      ]
    },
    {
      "cell_type": "code",
      "metadata": {
        "id": "mFVxSirb7-mZ"
      },
      "source": [
        "df_test['Review_Title'].fillna('no description', inplace=True) # заполним Nan'ы"
      ],
      "execution_count": 78,
      "outputs": []
    },
    {
      "cell_type": "code",
      "metadata": {
        "id": "Acpk6wtI8OE6"
      },
      "source": [
        "df_test['Review_Text'] = df_test['Review_Text'].apply(lambda x: ' '.join(re.findall(r'\\w+', x.lower()))) # lower-case, очищаем от знаков\n",
        "df_test['Review_Title'] = df_test['Review_Title'].apply(lambda x: ' '.join(re.findall(r'\\w+', x.lower())))"
      ],
      "execution_count": 79,
      "outputs": []
    },
    {
      "cell_type": "code",
      "metadata": {
        "id": "xqojfRL_8ulX"
      },
      "source": [
        "df_test['Review_Text'] = df_test['Review_Text'].apply(my_lemmatizer) # лемматизируем и тексты, и заголовки\n",
        "df_test['Review_Title'] = df_test['Review_Title'].apply(my_lemmatizer)"
      ],
      "execution_count": 80,
      "outputs": []
    },
    {
      "cell_type": "code",
      "metadata": {
        "id": "3cQZgV4D9XZB"
      },
      "source": [
        "# выкидываем все филлеры\n",
        "df_test['Review_Text'] = df_test['Review_Text'].apply(lambda x: ' '.join([word for word in x.split() if not word in sw_eng]))\n",
        "df_test['Review_Title'] = df_test['Review_Title'].apply(lambda x: ' '.join([word for word in x.split() if not word in sw_eng]))"
      ],
      "execution_count": 81,
      "outputs": []
    },
    {
      "cell_type": "code",
      "metadata": {
        "id": "6LBJhm9U9hlf"
      },
      "source": [
        "df_test['Pos_Words'] = df_test['Review_Text'].apply(count_pos) # Введем новые признаки - количество позитивных и негативных слов\n",
        "df_test['Neg_Words'] = df_test['Review_Text'].apply(count_neg)"
      ],
      "execution_count": 82,
      "outputs": []
    },
    {
      "cell_type": "code",
      "metadata": {
        "id": "rmCnkh5Z92uV"
      },
      "source": [
        "text_w = np.array([list(text2vec(row[1]['Review_Text'])) for row in df_test.iterrows()]) # получаем массив эмбеддингов\n",
        "title_w = np.array([list(text2vec(row[1]['Review_Title'])) for row in df_test.iterrows()])"
      ],
      "execution_count": 83,
      "outputs": []
    },
    {
      "cell_type": "code",
      "metadata": {
        "id": "e50fyIFs92uV"
      },
      "source": [
        "df_test = df_test.drop(['Review_Title', 'Review_Text', 'Id', 'Hotel_name'], axis=1) # названия отелей нам, впринципе, и не нужны\n",
        "df_w = df_w.drop([0], axis=1)"
      ],
      "execution_count": 84,
      "outputs": []
    },
    {
      "cell_type": "code",
      "metadata": {
        "id": "L9wPjHLg92uV"
      },
      "source": [
        "df_test = pd.concat([df_test, pd.DataFrame(text_w)], axis=1) # добавляем эмбеддинги в конец датасета\n",
        "df_test = pd.concat([df_test, pd.DataFrame(title_w)], axis=1)\n",
        "df_test.columns = np.arange(df_test.shape[1])\n",
        "df_w.columns = np.arange(df_w.shape[1])"
      ],
      "execution_count": 85,
      "outputs": []
    },
    {
      "cell_type": "code",
      "metadata": {
        "colab": {
          "base_uri": "https://localhost:8080/",
          "height": 251
        },
        "id": "9iFXto_V-QeE",
        "outputId": "2af407d5-dcca-4c19-c960-9fa65c63a852"
      },
      "source": [
        "df_test.head()"
      ],
      "execution_count": 86,
      "outputs": [
        {
          "output_type": "execute_result",
          "data": {
            "text/html": [
              "<div>\n",
              "<style scoped>\n",
              "    .dataframe tbody tr th:only-of-type {\n",
              "        vertical-align: middle;\n",
              "    }\n",
              "\n",
              "    .dataframe tbody tr th {\n",
              "        vertical-align: top;\n",
              "    }\n",
              "\n",
              "    .dataframe thead th {\n",
              "        text-align: right;\n",
              "    }\n",
              "</style>\n",
              "<table border=\"1\" class=\"dataframe\">\n",
              "  <thead>\n",
              "    <tr style=\"text-align: right;\">\n",
              "      <th></th>\n",
              "      <th>0</th>\n",
              "      <th>1</th>\n",
              "      <th>2</th>\n",
              "      <th>3</th>\n",
              "      <th>4</th>\n",
              "      <th>5</th>\n",
              "      <th>6</th>\n",
              "      <th>7</th>\n",
              "      <th>8</th>\n",
              "      <th>9</th>\n",
              "      <th>10</th>\n",
              "      <th>11</th>\n",
              "      <th>12</th>\n",
              "      <th>13</th>\n",
              "      <th>14</th>\n",
              "      <th>15</th>\n",
              "      <th>16</th>\n",
              "      <th>17</th>\n",
              "      <th>18</th>\n",
              "      <th>19</th>\n",
              "      <th>20</th>\n",
              "      <th>21</th>\n",
              "      <th>22</th>\n",
              "      <th>23</th>\n",
              "      <th>24</th>\n",
              "      <th>25</th>\n",
              "      <th>26</th>\n",
              "      <th>27</th>\n",
              "      <th>28</th>\n",
              "      <th>29</th>\n",
              "      <th>30</th>\n",
              "      <th>31</th>\n",
              "      <th>32</th>\n",
              "      <th>33</th>\n",
              "      <th>34</th>\n",
              "      <th>35</th>\n",
              "      <th>36</th>\n",
              "      <th>37</th>\n",
              "      <th>38</th>\n",
              "      <th>39</th>\n",
              "      <th>...</th>\n",
              "      <th>562</th>\n",
              "      <th>563</th>\n",
              "      <th>564</th>\n",
              "      <th>565</th>\n",
              "      <th>566</th>\n",
              "      <th>567</th>\n",
              "      <th>568</th>\n",
              "      <th>569</th>\n",
              "      <th>570</th>\n",
              "      <th>571</th>\n",
              "      <th>572</th>\n",
              "      <th>573</th>\n",
              "      <th>574</th>\n",
              "      <th>575</th>\n",
              "      <th>576</th>\n",
              "      <th>577</th>\n",
              "      <th>578</th>\n",
              "      <th>579</th>\n",
              "      <th>580</th>\n",
              "      <th>581</th>\n",
              "      <th>582</th>\n",
              "      <th>583</th>\n",
              "      <th>584</th>\n",
              "      <th>585</th>\n",
              "      <th>586</th>\n",
              "      <th>587</th>\n",
              "      <th>588</th>\n",
              "      <th>589</th>\n",
              "      <th>590</th>\n",
              "      <th>591</th>\n",
              "      <th>592</th>\n",
              "      <th>593</th>\n",
              "      <th>594</th>\n",
              "      <th>595</th>\n",
              "      <th>596</th>\n",
              "      <th>597</th>\n",
              "      <th>598</th>\n",
              "      <th>599</th>\n",
              "      <th>600</th>\n",
              "      <th>601</th>\n",
              "    </tr>\n",
              "  </thead>\n",
              "  <tbody>\n",
              "    <tr>\n",
              "      <th>0</th>\n",
              "      <td>5</td>\n",
              "      <td>3</td>\n",
              "      <td>-0.085957</td>\n",
              "      <td>-0.088300</td>\n",
              "      <td>-0.025782</td>\n",
              "      <td>-0.018600</td>\n",
              "      <td>-0.057546</td>\n",
              "      <td>0.032532</td>\n",
              "      <td>-0.029811</td>\n",
              "      <td>-0.013036</td>\n",
              "      <td>-0.093857</td>\n",
              "      <td>-0.064461</td>\n",
              "      <td>-0.029739</td>\n",
              "      <td>0.226093</td>\n",
              "      <td>-0.046457</td>\n",
              "      <td>-0.030007</td>\n",
              "      <td>-0.046825</td>\n",
              "      <td>-0.050961</td>\n",
              "      <td>0.049625</td>\n",
              "      <td>-0.001243</td>\n",
              "      <td>0.006089</td>\n",
              "      <td>0.002250</td>\n",
              "      <td>0.002264</td>\n",
              "      <td>-0.041511</td>\n",
              "      <td>-0.014182</td>\n",
              "      <td>-0.053882</td>\n",
              "      <td>-0.089282</td>\n",
              "      <td>-0.036746</td>\n",
              "      <td>0.045082</td>\n",
              "      <td>0.121554</td>\n",
              "      <td>-0.025454</td>\n",
              "      <td>0.085254</td>\n",
              "      <td>-0.059668</td>\n",
              "      <td>-0.008289</td>\n",
              "      <td>0.018918</td>\n",
              "      <td>-0.101136</td>\n",
              "      <td>0.029146</td>\n",
              "      <td>-0.053250</td>\n",
              "      <td>0.072996</td>\n",
              "      <td>-0.119446</td>\n",
              "      <td>...</td>\n",
              "      <td>-0.23405</td>\n",
              "      <td>-0.225250</td>\n",
              "      <td>0.088850</td>\n",
              "      <td>-0.228450</td>\n",
              "      <td>-0.20435</td>\n",
              "      <td>-0.26395</td>\n",
              "      <td>-0.048500</td>\n",
              "      <td>0.062100</td>\n",
              "      <td>-0.48410</td>\n",
              "      <td>0.10095</td>\n",
              "      <td>0.217750</td>\n",
              "      <td>0.17640</td>\n",
              "      <td>0.14145</td>\n",
              "      <td>0.397950</td>\n",
              "      <td>0.06685</td>\n",
              "      <td>0.08050</td>\n",
              "      <td>-0.257600</td>\n",
              "      <td>0.447500</td>\n",
              "      <td>-0.264600</td>\n",
              "      <td>0.29980</td>\n",
              "      <td>0.11120</td>\n",
              "      <td>-0.11115</td>\n",
              "      <td>0.134500</td>\n",
              "      <td>-0.058000</td>\n",
              "      <td>-0.10480</td>\n",
              "      <td>0.080500</td>\n",
              "      <td>0.030300</td>\n",
              "      <td>0.203500</td>\n",
              "      <td>0.14840</td>\n",
              "      <td>0.130400</td>\n",
              "      <td>0.09835</td>\n",
              "      <td>0.37660</td>\n",
              "      <td>-0.28645</td>\n",
              "      <td>0.281950</td>\n",
              "      <td>0.197450</td>\n",
              "      <td>0.12610</td>\n",
              "      <td>-0.10710</td>\n",
              "      <td>-0.21510</td>\n",
              "      <td>-0.24780</td>\n",
              "      <td>0.419850</td>\n",
              "    </tr>\n",
              "    <tr>\n",
              "      <th>1</th>\n",
              "      <td>2</td>\n",
              "      <td>0</td>\n",
              "      <td>0.021571</td>\n",
              "      <td>0.018029</td>\n",
              "      <td>-0.092800</td>\n",
              "      <td>-0.125529</td>\n",
              "      <td>-0.138771</td>\n",
              "      <td>-0.042043</td>\n",
              "      <td>-0.226329</td>\n",
              "      <td>0.222857</td>\n",
              "      <td>0.120986</td>\n",
              "      <td>-0.099057</td>\n",
              "      <td>0.011271</td>\n",
              "      <td>0.066971</td>\n",
              "      <td>0.115329</td>\n",
              "      <td>0.003014</td>\n",
              "      <td>-0.056357</td>\n",
              "      <td>0.013529</td>\n",
              "      <td>0.094714</td>\n",
              "      <td>-0.054971</td>\n",
              "      <td>0.106500</td>\n",
              "      <td>0.098829</td>\n",
              "      <td>0.012086</td>\n",
              "      <td>-0.015700</td>\n",
              "      <td>0.109914</td>\n",
              "      <td>0.018757</td>\n",
              "      <td>-0.035286</td>\n",
              "      <td>-0.140814</td>\n",
              "      <td>0.097057</td>\n",
              "      <td>0.037371</td>\n",
              "      <td>-0.050657</td>\n",
              "      <td>0.103271</td>\n",
              "      <td>-0.118914</td>\n",
              "      <td>0.049114</td>\n",
              "      <td>0.055314</td>\n",
              "      <td>-0.240100</td>\n",
              "      <td>0.119286</td>\n",
              "      <td>-0.125043</td>\n",
              "      <td>0.114043</td>\n",
              "      <td>0.019057</td>\n",
              "      <td>...</td>\n",
              "      <td>-0.14830</td>\n",
              "      <td>0.041800</td>\n",
              "      <td>-0.166400</td>\n",
              "      <td>0.134600</td>\n",
              "      <td>0.60860</td>\n",
              "      <td>0.19880</td>\n",
              "      <td>-0.040400</td>\n",
              "      <td>-0.107300</td>\n",
              "      <td>0.17190</td>\n",
              "      <td>0.19040</td>\n",
              "      <td>0.003400</td>\n",
              "      <td>-0.11690</td>\n",
              "      <td>0.07770</td>\n",
              "      <td>0.008800</td>\n",
              "      <td>0.10790</td>\n",
              "      <td>0.10310</td>\n",
              "      <td>0.041900</td>\n",
              "      <td>0.360900</td>\n",
              "      <td>0.082100</td>\n",
              "      <td>0.09570</td>\n",
              "      <td>-0.59450</td>\n",
              "      <td>0.12010</td>\n",
              "      <td>-0.060000</td>\n",
              "      <td>0.121700</td>\n",
              "      <td>-0.01580</td>\n",
              "      <td>-0.219300</td>\n",
              "      <td>0.172000</td>\n",
              "      <td>-0.202900</td>\n",
              "      <td>0.02870</td>\n",
              "      <td>-0.259300</td>\n",
              "      <td>0.02520</td>\n",
              "      <td>-0.16890</td>\n",
              "      <td>-0.13660</td>\n",
              "      <td>-0.418200</td>\n",
              "      <td>0.168000</td>\n",
              "      <td>0.02670</td>\n",
              "      <td>-0.02170</td>\n",
              "      <td>0.33580</td>\n",
              "      <td>-0.06960</td>\n",
              "      <td>0.149900</td>\n",
              "    </tr>\n",
              "    <tr>\n",
              "      <th>2</th>\n",
              "      <td>5</td>\n",
              "      <td>0</td>\n",
              "      <td>-0.015844</td>\n",
              "      <td>-0.110565</td>\n",
              "      <td>-0.022041</td>\n",
              "      <td>0.040091</td>\n",
              "      <td>-0.148826</td>\n",
              "      <td>-0.008109</td>\n",
              "      <td>-0.026632</td>\n",
              "      <td>0.080856</td>\n",
              "      <td>0.131488</td>\n",
              "      <td>0.017588</td>\n",
              "      <td>0.048562</td>\n",
              "      <td>0.171194</td>\n",
              "      <td>0.018112</td>\n",
              "      <td>-0.034329</td>\n",
              "      <td>-0.022200</td>\n",
              "      <td>-0.028235</td>\n",
              "      <td>0.042747</td>\n",
              "      <td>0.050412</td>\n",
              "      <td>-0.039671</td>\n",
              "      <td>-0.005576</td>\n",
              "      <td>0.046241</td>\n",
              "      <td>-0.032721</td>\n",
              "      <td>0.030553</td>\n",
              "      <td>-0.008741</td>\n",
              "      <td>-0.087935</td>\n",
              "      <td>-0.058018</td>\n",
              "      <td>0.064259</td>\n",
              "      <td>0.038982</td>\n",
              "      <td>-0.011335</td>\n",
              "      <td>-0.003462</td>\n",
              "      <td>-0.094050</td>\n",
              "      <td>-0.019882</td>\n",
              "      <td>0.037409</td>\n",
              "      <td>-0.162844</td>\n",
              "      <td>0.046691</td>\n",
              "      <td>-0.062844</td>\n",
              "      <td>0.027715</td>\n",
              "      <td>0.024765</td>\n",
              "      <td>...</td>\n",
              "      <td>0.02060</td>\n",
              "      <td>-0.018075</td>\n",
              "      <td>0.026825</td>\n",
              "      <td>-0.019525</td>\n",
              "      <td>-0.05940</td>\n",
              "      <td>-0.06910</td>\n",
              "      <td>-0.036675</td>\n",
              "      <td>-0.158275</td>\n",
              "      <td>-0.11285</td>\n",
              "      <td>-0.05705</td>\n",
              "      <td>0.011175</td>\n",
              "      <td>0.17250</td>\n",
              "      <td>-0.09070</td>\n",
              "      <td>0.047425</td>\n",
              "      <td>0.16610</td>\n",
              "      <td>0.08165</td>\n",
              "      <td>0.030775</td>\n",
              "      <td>-0.028175</td>\n",
              "      <td>-0.099975</td>\n",
              "      <td>-0.07075</td>\n",
              "      <td>0.02080</td>\n",
              "      <td>0.10385</td>\n",
              "      <td>-0.018875</td>\n",
              "      <td>0.013925</td>\n",
              "      <td>-0.08930</td>\n",
              "      <td>-0.084075</td>\n",
              "      <td>-0.078525</td>\n",
              "      <td>-0.028075</td>\n",
              "      <td>0.01565</td>\n",
              "      <td>-0.070775</td>\n",
              "      <td>-0.10315</td>\n",
              "      <td>-0.04415</td>\n",
              "      <td>0.03955</td>\n",
              "      <td>0.054175</td>\n",
              "      <td>0.087875</td>\n",
              "      <td>-0.12390</td>\n",
              "      <td>-0.08835</td>\n",
              "      <td>0.02435</td>\n",
              "      <td>-0.08605</td>\n",
              "      <td>0.037475</td>\n",
              "    </tr>\n",
              "    <tr>\n",
              "      <th>3</th>\n",
              "      <td>1</td>\n",
              "      <td>1</td>\n",
              "      <td>0.071125</td>\n",
              "      <td>0.078262</td>\n",
              "      <td>-0.075513</td>\n",
              "      <td>-0.091050</td>\n",
              "      <td>-0.248125</td>\n",
              "      <td>-0.016412</td>\n",
              "      <td>-0.138887</td>\n",
              "      <td>0.279375</td>\n",
              "      <td>0.205263</td>\n",
              "      <td>-0.207600</td>\n",
              "      <td>-0.027463</td>\n",
              "      <td>0.195462</td>\n",
              "      <td>-0.008175</td>\n",
              "      <td>-0.118462</td>\n",
              "      <td>0.028563</td>\n",
              "      <td>-0.052725</td>\n",
              "      <td>0.007550</td>\n",
              "      <td>-0.086525</td>\n",
              "      <td>0.069250</td>\n",
              "      <td>-0.008213</td>\n",
              "      <td>0.039675</td>\n",
              "      <td>-0.072413</td>\n",
              "      <td>0.019575</td>\n",
              "      <td>-0.059987</td>\n",
              "      <td>-0.039337</td>\n",
              "      <td>-0.000525</td>\n",
              "      <td>0.001637</td>\n",
              "      <td>0.055962</td>\n",
              "      <td>-0.072337</td>\n",
              "      <td>0.143375</td>\n",
              "      <td>-0.017675</td>\n",
              "      <td>0.004963</td>\n",
              "      <td>-0.034438</td>\n",
              "      <td>-0.273525</td>\n",
              "      <td>0.087038</td>\n",
              "      <td>0.029075</td>\n",
              "      <td>-0.038300</td>\n",
              "      <td>-0.067575</td>\n",
              "      <td>...</td>\n",
              "      <td>0.10410</td>\n",
              "      <td>-0.153850</td>\n",
              "      <td>-0.006700</td>\n",
              "      <td>-0.126100</td>\n",
              "      <td>-0.07365</td>\n",
              "      <td>0.03085</td>\n",
              "      <td>-0.032000</td>\n",
              "      <td>-0.187850</td>\n",
              "      <td>-0.05725</td>\n",
              "      <td>0.02760</td>\n",
              "      <td>0.228350</td>\n",
              "      <td>0.24125</td>\n",
              "      <td>0.17575</td>\n",
              "      <td>0.194350</td>\n",
              "      <td>0.14865</td>\n",
              "      <td>0.12770</td>\n",
              "      <td>-0.063800</td>\n",
              "      <td>0.058700</td>\n",
              "      <td>0.097450</td>\n",
              "      <td>0.16105</td>\n",
              "      <td>0.35305</td>\n",
              "      <td>0.04360</td>\n",
              "      <td>-0.191350</td>\n",
              "      <td>-0.281350</td>\n",
              "      <td>-0.00200</td>\n",
              "      <td>0.061900</td>\n",
              "      <td>0.156250</td>\n",
              "      <td>0.081150</td>\n",
              "      <td>-0.22435</td>\n",
              "      <td>-0.198850</td>\n",
              "      <td>-0.13305</td>\n",
              "      <td>0.18075</td>\n",
              "      <td>-0.08995</td>\n",
              "      <td>-0.025000</td>\n",
              "      <td>-0.189950</td>\n",
              "      <td>0.16465</td>\n",
              "      <td>0.04670</td>\n",
              "      <td>0.59165</td>\n",
              "      <td>-0.10840</td>\n",
              "      <td>0.038400</td>\n",
              "    </tr>\n",
              "    <tr>\n",
              "      <th>4</th>\n",
              "      <td>10</td>\n",
              "      <td>0</td>\n",
              "      <td>0.022224</td>\n",
              "      <td>0.019510</td>\n",
              "      <td>-0.002221</td>\n",
              "      <td>0.010510</td>\n",
              "      <td>-0.140479</td>\n",
              "      <td>-0.003862</td>\n",
              "      <td>-0.135876</td>\n",
              "      <td>0.070652</td>\n",
              "      <td>0.059483</td>\n",
              "      <td>-0.047155</td>\n",
              "      <td>-0.059648</td>\n",
              "      <td>0.213624</td>\n",
              "      <td>-0.032821</td>\n",
              "      <td>0.027679</td>\n",
              "      <td>-0.044538</td>\n",
              "      <td>-0.009407</td>\n",
              "      <td>0.014397</td>\n",
              "      <td>-0.035172</td>\n",
              "      <td>-0.011345</td>\n",
              "      <td>0.057462</td>\n",
              "      <td>0.066017</td>\n",
              "      <td>-0.033655</td>\n",
              "      <td>-0.018583</td>\n",
              "      <td>0.009924</td>\n",
              "      <td>-0.140310</td>\n",
              "      <td>-0.155038</td>\n",
              "      <td>0.071472</td>\n",
              "      <td>0.058821</td>\n",
              "      <td>-0.025510</td>\n",
              "      <td>-0.010383</td>\n",
              "      <td>-0.134469</td>\n",
              "      <td>-0.014331</td>\n",
              "      <td>0.048431</td>\n",
              "      <td>-0.187793</td>\n",
              "      <td>0.026666</td>\n",
              "      <td>-0.129172</td>\n",
              "      <td>0.062845</td>\n",
              "      <td>-0.097545</td>\n",
              "      <td>...</td>\n",
              "      <td>0.01902</td>\n",
              "      <td>-0.262280</td>\n",
              "      <td>-0.010840</td>\n",
              "      <td>0.075940</td>\n",
              "      <td>-0.04174</td>\n",
              "      <td>0.03624</td>\n",
              "      <td>0.049120</td>\n",
              "      <td>-0.019800</td>\n",
              "      <td>-0.20410</td>\n",
              "      <td>0.02510</td>\n",
              "      <td>-0.080640</td>\n",
              "      <td>0.14792</td>\n",
              "      <td>-0.03300</td>\n",
              "      <td>0.057460</td>\n",
              "      <td>0.11130</td>\n",
              "      <td>0.02492</td>\n",
              "      <td>-0.178080</td>\n",
              "      <td>-0.045040</td>\n",
              "      <td>-0.001660</td>\n",
              "      <td>0.05520</td>\n",
              "      <td>0.06596</td>\n",
              "      <td>0.18246</td>\n",
              "      <td>0.054260</td>\n",
              "      <td>-0.048360</td>\n",
              "      <td>0.01518</td>\n",
              "      <td>-0.116240</td>\n",
              "      <td>-0.079980</td>\n",
              "      <td>0.012420</td>\n",
              "      <td>-0.16728</td>\n",
              "      <td>0.002340</td>\n",
              "      <td>0.00236</td>\n",
              "      <td>0.15584</td>\n",
              "      <td>-0.10580</td>\n",
              "      <td>-0.038820</td>\n",
              "      <td>-0.119840</td>\n",
              "      <td>0.06764</td>\n",
              "      <td>-0.10144</td>\n",
              "      <td>0.21420</td>\n",
              "      <td>-0.06212</td>\n",
              "      <td>-0.039280</td>\n",
              "    </tr>\n",
              "  </tbody>\n",
              "</table>\n",
              "<p>5 rows × 602 columns</p>\n",
              "</div>"
            ],
            "text/plain": [
              "   0    1         2         3    ...      598      599      600       601\n",
              "0    5    3 -0.085957 -0.088300  ... -0.10710 -0.21510 -0.24780  0.419850\n",
              "1    2    0  0.021571  0.018029  ... -0.02170  0.33580 -0.06960  0.149900\n",
              "2    5    0 -0.015844 -0.110565  ... -0.08835  0.02435 -0.08605  0.037475\n",
              "3    1    1  0.071125  0.078262  ...  0.04670  0.59165 -0.10840  0.038400\n",
              "4   10    0  0.022224  0.019510  ... -0.10144  0.21420 -0.06212 -0.039280\n",
              "\n",
              "[5 rows x 602 columns]"
            ]
          },
          "metadata": {
            "tags": []
          },
          "execution_count": 86
        }
      ]
    },
    {
      "cell_type": "code",
      "metadata": {
        "id": "Jt3oxNTI-hvz"
      },
      "source": [
        "cbr = CatBoostRegressor(random_seed=42, verbose=False) # обучение на лучшей модели\n",
        "cbr.fit(df_w, y)\n",
        "y_pred = cbr.predict(df_test)"
      ],
      "execution_count": 102,
      "outputs": []
    },
    {
      "cell_type": "code",
      "metadata": {
        "id": "1mMkaA4UFAsW"
      },
      "source": [
        "submit = pd.DataFrame() # предсказание на тесте\n",
        "submit['Id'] = id_col\n",
        "submit['Rating'] = y_pred\n",
        "submit.to_csv('submit.csv', index = False)"
      ],
      "execution_count": 106,
      "outputs": []
    }
  ]
}