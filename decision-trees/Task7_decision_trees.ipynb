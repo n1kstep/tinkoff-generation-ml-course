{
  "nbformat": 4,
  "nbformat_minor": 0,
  "metadata": {
    "colab": {
      "name": "Task 7.ipynb",
      "provenance": [],
      "collapsed_sections": []
    },
    "kernelspec": {
      "display_name": "Python 3",
      "name": "python3"
    }
  },
  "cells": [
    {
      "cell_type": "markdown",
      "metadata": {
        "id": "EADmNKm_ucFI"
      },
      "source": [
        "## Homework"
      ]
    },
    {
      "cell_type": "code",
      "metadata": {
        "colab": {
          "base_uri": "https://localhost:8080/"
        },
        "id": "wjurpt4KJmCh",
        "outputId": "7b67a6dc-d03d-48a1-fa1e-513df06e64df"
      },
      "source": [
        "!wget --no-check-certificate 'https://docs.google.com/uc?export=download&id=1OKFSv2GpuUFDphO0r8LdM7bl6MAWwBfX' -O data.csv"
      ],
      "execution_count": 1,
      "outputs": [
        {
          "output_type": "stream",
          "text": [
            "--2021-04-11 20:13:35--  https://docs.google.com/uc?export=download&id=1OKFSv2GpuUFDphO0r8LdM7bl6MAWwBfX\n",
            "Resolving docs.google.com (docs.google.com)... 142.250.65.78, 2607:f8b0:4004:832::200e\n",
            "Connecting to docs.google.com (docs.google.com)|142.250.65.78|:443... connected.\n",
            "HTTP request sent, awaiting response... 302 Moved Temporarily\n",
            "Location: https://doc-04-ak-docs.googleusercontent.com/docs/securesc/ha0ro937gcuc7l7deffksulhg5h7mbp1/4kob34rn87q89363eprotjq184fo7528/1618171950000/03856158561714992485/*/1OKFSv2GpuUFDphO0r8LdM7bl6MAWwBfX?e=download [following]\n",
            "Warning: wildcards not supported in HTTP.\n",
            "--2021-04-11 20:13:37--  https://doc-04-ak-docs.googleusercontent.com/docs/securesc/ha0ro937gcuc7l7deffksulhg5h7mbp1/4kob34rn87q89363eprotjq184fo7528/1618171950000/03856158561714992485/*/1OKFSv2GpuUFDphO0r8LdM7bl6MAWwBfX?e=download\n",
            "Resolving doc-04-ak-docs.googleusercontent.com (doc-04-ak-docs.googleusercontent.com)... 172.217.2.97, 2607:f8b0:4004:80a::2001\n",
            "Connecting to doc-04-ak-docs.googleusercontent.com (doc-04-ak-docs.googleusercontent.com)|172.217.2.97|:443... connected.\n",
            "HTTP request sent, awaiting response... 200 OK\n",
            "Length: unspecified [text/csv]\n",
            "Saving to: ‘data.csv’\n",
            "\n",
            "data.csv                [  <=>               ]  31.78M  51.3MB/s    in 0.6s    \n",
            "\n",
            "2021-04-11 20:13:38 (51.3 MB/s) - ‘data.csv’ saved [33322228]\n",
            "\n"
          ],
          "name": "stdout"
        }
      ]
    },
    {
      "cell_type": "markdown",
      "metadata": {
        "id": "UBAI5LS2xBSm"
      },
      "source": [
        "В этой домашней работе вы будете предсказывать стоимость домов по их характеристикам.\n",
        "\n",
        "Метрика качества: `RMSE`\n",
        "\n",
        "Оценивание:\n",
        "* Baseline - 2 балла\n",
        "* Feature Engineering - 2 балла\n",
        "* Model Selection - 3 балла\n",
        "* Ensemble v.1 - 3 балла\n",
        "* (*) Ensemble v.2 - дополнительно, 2 балла"
      ]
    },
    {
      "cell_type": "markdown",
      "metadata": {
        "id": "aBZhr_dw6HAn"
      },
      "source": [
        "### Описание датасета\n",
        "\n",
        "Короткое описание данных:\n",
        "```\n",
        "price: sale price (this is the target variable)\n",
        "id: transaction id\n",
        "timestamp: date of transaction\n",
        "full_sq: total area in square meters, including loggias, balconies and other non-residential areas\n",
        "life_sq: living area in square meters, excluding loggias, balconies and other non-residential areas\n",
        "floor: for apartments, floor of the building\n",
        "max_floor: number of floors in the building\n",
        "material: wall material\n",
        "build_year: year built\n",
        "num_room: number of living rooms\n",
        "kitch_sq: kitchen area\n",
        "state: apartment condition\n",
        "product_type: owner-occupier purchase or investment\n",
        "sub_area: name of the district\n",
        "\n",
        "The dataset also includes a collection of features about each property's surrounding neighbourhood, and some features that are constant across each sub area (known as a Raion). Most of the feature names are self explanatory, with the following notes. See below for a complete list.\n",
        "\n",
        "full_all: subarea population\n",
        "male_f, female_f: subarea population by gender\n",
        "young_*: population younger than working age\n",
        "work_*: working-age population\n",
        "ekder_*: retirement-age population\n",
        "n_m_{all|male|female}: population between n and m years old\n",
        "build_count_*: buildings in the subarea by construction type or year\n",
        "x_count_500: the number of x within 500m of the property\n",
        "x_part_500: the share of x within 500m of the property\n",
        "_sqm_: square meters\n",
        "cafe_count_d_price_p: number of cafes within d meters of the property that have an average bill under p RUB\n",
        "trc_: shopping malls\n",
        "prom_: industrial zones\n",
        "green_: green zones\n",
        "metro_: subway\n",
        "_avto_: distances by car\n",
        "mkad_: Moscow Circle Auto Road\n",
        "ttk_: Third Transport Ring\n",
        "sadovoe_: Garden Ring\n",
        "bulvar_ring_: Boulevard Ring\n",
        "kremlin_: City center\n",
        "zd_vokzaly_: Train station\n",
        "oil_chemistry_: Dirty industry\n",
        "ts_: Power plant\n",
        "```"
      ]
    },
    {
      "cell_type": "markdown",
      "metadata": {
        "id": "TOPtM_06uyqv"
      },
      "source": [
        "### Setup"
      ]
    },
    {
      "cell_type": "code",
      "metadata": {
        "id": "9TpHMcn3u0MV"
      },
      "source": [
        "import pandas as pd\n",
        "import numpy as np\n",
        "from matplotlib import pyplot as plt\n",
        "import seaborn as sns\n",
        "\n",
        "sns.set_theme()"
      ],
      "execution_count": 2,
      "outputs": []
    },
    {
      "cell_type": "code",
      "metadata": {
        "id": "-TLkVG3EwJzj"
      },
      "source": [
        "df = pd.read_csv(\"data.csv\", parse_dates=[\"timestamp\"])"
      ],
      "execution_count": 3,
      "outputs": []
    },
    {
      "cell_type": "code",
      "metadata": {
        "colab": {
          "base_uri": "https://localhost:8080/",
          "height": 338
        },
        "id": "554TZ8pd8__G",
        "outputId": "09442dd8-4f74-460e-b75a-856b032ee2ec"
      },
      "source": [
        "df.head(5)"
      ],
      "execution_count": 4,
      "outputs": [
        {
          "output_type": "execute_result",
          "data": {
            "text/html": [
              "<div>\n",
              "<style scoped>\n",
              "    .dataframe tbody tr th:only-of-type {\n",
              "        vertical-align: middle;\n",
              "    }\n",
              "\n",
              "    .dataframe tbody tr th {\n",
              "        vertical-align: top;\n",
              "    }\n",
              "\n",
              "    .dataframe thead th {\n",
              "        text-align: right;\n",
              "    }\n",
              "</style>\n",
              "<table border=\"1\" class=\"dataframe\">\n",
              "  <thead>\n",
              "    <tr style=\"text-align: right;\">\n",
              "      <th></th>\n",
              "      <th>id</th>\n",
              "      <th>timestamp</th>\n",
              "      <th>full_sq</th>\n",
              "      <th>life_sq</th>\n",
              "      <th>floor</th>\n",
              "      <th>max_floor</th>\n",
              "      <th>material</th>\n",
              "      <th>build_year</th>\n",
              "      <th>num_room</th>\n",
              "      <th>kitch_sq</th>\n",
              "      <th>state</th>\n",
              "      <th>product_type</th>\n",
              "      <th>sub_area</th>\n",
              "      <th>area_m</th>\n",
              "      <th>raion_popul</th>\n",
              "      <th>green_zone_part</th>\n",
              "      <th>indust_part</th>\n",
              "      <th>children_preschool</th>\n",
              "      <th>preschool_quota</th>\n",
              "      <th>preschool_education_centers_raion</th>\n",
              "      <th>children_school</th>\n",
              "      <th>school_quota</th>\n",
              "      <th>school_education_centers_raion</th>\n",
              "      <th>school_education_centers_top_20_raion</th>\n",
              "      <th>hospital_beds_raion</th>\n",
              "      <th>healthcare_centers_raion</th>\n",
              "      <th>university_top_20_raion</th>\n",
              "      <th>sport_objects_raion</th>\n",
              "      <th>additional_education_raion</th>\n",
              "      <th>culture_objects_top_25</th>\n",
              "      <th>culture_objects_top_25_raion</th>\n",
              "      <th>shopping_centers_raion</th>\n",
              "      <th>office_raion</th>\n",
              "      <th>thermal_power_plant_raion</th>\n",
              "      <th>incineration_raion</th>\n",
              "      <th>oil_chemistry_raion</th>\n",
              "      <th>radiation_raion</th>\n",
              "      <th>railroad_terminal_raion</th>\n",
              "      <th>big_market_raion</th>\n",
              "      <th>nuclear_reactor_raion</th>\n",
              "      <th>...</th>\n",
              "      <th>cafe_sum_3000_min_price_avg</th>\n",
              "      <th>cafe_sum_3000_max_price_avg</th>\n",
              "      <th>cafe_avg_price_3000</th>\n",
              "      <th>cafe_count_3000_na_price</th>\n",
              "      <th>cafe_count_3000_price_500</th>\n",
              "      <th>cafe_count_3000_price_1000</th>\n",
              "      <th>cafe_count_3000_price_1500</th>\n",
              "      <th>cafe_count_3000_price_2500</th>\n",
              "      <th>cafe_count_3000_price_4000</th>\n",
              "      <th>cafe_count_3000_price_high</th>\n",
              "      <th>big_church_count_3000</th>\n",
              "      <th>church_count_3000</th>\n",
              "      <th>mosque_count_3000</th>\n",
              "      <th>leisure_count_3000</th>\n",
              "      <th>sport_count_3000</th>\n",
              "      <th>market_count_3000</th>\n",
              "      <th>green_part_5000</th>\n",
              "      <th>prom_part_5000</th>\n",
              "      <th>office_count_5000</th>\n",
              "      <th>office_sqm_5000</th>\n",
              "      <th>trc_count_5000</th>\n",
              "      <th>trc_sqm_5000</th>\n",
              "      <th>cafe_count_5000</th>\n",
              "      <th>cafe_sum_5000_min_price_avg</th>\n",
              "      <th>cafe_sum_5000_max_price_avg</th>\n",
              "      <th>cafe_avg_price_5000</th>\n",
              "      <th>cafe_count_5000_na_price</th>\n",
              "      <th>cafe_count_5000_price_500</th>\n",
              "      <th>cafe_count_5000_price_1000</th>\n",
              "      <th>cafe_count_5000_price_1500</th>\n",
              "      <th>cafe_count_5000_price_2500</th>\n",
              "      <th>cafe_count_5000_price_4000</th>\n",
              "      <th>cafe_count_5000_price_high</th>\n",
              "      <th>big_church_count_5000</th>\n",
              "      <th>church_count_5000</th>\n",
              "      <th>mosque_count_5000</th>\n",
              "      <th>leisure_count_5000</th>\n",
              "      <th>sport_count_5000</th>\n",
              "      <th>market_count_5000</th>\n",
              "      <th>price</th>\n",
              "    </tr>\n",
              "  </thead>\n",
              "  <tbody>\n",
              "    <tr>\n",
              "      <th>0</th>\n",
              "      <td>0</td>\n",
              "      <td>2014-12-26</td>\n",
              "      <td>1</td>\n",
              "      <td>1.0</td>\n",
              "      <td>1.0</td>\n",
              "      <td>1.0</td>\n",
              "      <td>1.0</td>\n",
              "      <td>1.0</td>\n",
              "      <td>1.0</td>\n",
              "      <td>1.0</td>\n",
              "      <td>1.0</td>\n",
              "      <td>OwnerOccupier</td>\n",
              "      <td>Nagornoe</td>\n",
              "      <td>5.293465e+06</td>\n",
              "      <td>77878</td>\n",
              "      <td>0.023464</td>\n",
              "      <td>0.195781</td>\n",
              "      <td>4713</td>\n",
              "      <td>2279.0</td>\n",
              "      <td>4</td>\n",
              "      <td>5212</td>\n",
              "      <td>10027.0</td>\n",
              "      <td>8</td>\n",
              "      <td>1</td>\n",
              "      <td>NaN</td>\n",
              "      <td>3</td>\n",
              "      <td>0</td>\n",
              "      <td>2</td>\n",
              "      <td>2</td>\n",
              "      <td>no</td>\n",
              "      <td>0</td>\n",
              "      <td>2</td>\n",
              "      <td>6</td>\n",
              "      <td>no</td>\n",
              "      <td>no</td>\n",
              "      <td>no</td>\n",
              "      <td>no</td>\n",
              "      <td>no</td>\n",
              "      <td>no</td>\n",
              "      <td>no</td>\n",
              "      <td>...</td>\n",
              "      <td>705.32</td>\n",
              "      <td>1186.17</td>\n",
              "      <td>945.74</td>\n",
              "      <td>6</td>\n",
              "      <td>26</td>\n",
              "      <td>32</td>\n",
              "      <td>25</td>\n",
              "      <td>10</td>\n",
              "      <td>1</td>\n",
              "      <td>0</td>\n",
              "      <td>4</td>\n",
              "      <td>12</td>\n",
              "      <td>1</td>\n",
              "      <td>4</td>\n",
              "      <td>31</td>\n",
              "      <td>8</td>\n",
              "      <td>15.19</td>\n",
              "      <td>19.83</td>\n",
              "      <td>92</td>\n",
              "      <td>3478168</td>\n",
              "      <td>49</td>\n",
              "      <td>2235425</td>\n",
              "      <td>348</td>\n",
              "      <td>755.99</td>\n",
              "      <td>1263.47</td>\n",
              "      <td>1009.73</td>\n",
              "      <td>14</td>\n",
              "      <td>85</td>\n",
              "      <td>113</td>\n",
              "      <td>91</td>\n",
              "      <td>36</td>\n",
              "      <td>7</td>\n",
              "      <td>2</td>\n",
              "      <td>15</td>\n",
              "      <td>33</td>\n",
              "      <td>1</td>\n",
              "      <td>12</td>\n",
              "      <td>75</td>\n",
              "      <td>10</td>\n",
              "      <td>15318960</td>\n",
              "    </tr>\n",
              "    <tr>\n",
              "      <th>1</th>\n",
              "      <td>1</td>\n",
              "      <td>2012-10-04</td>\n",
              "      <td>64</td>\n",
              "      <td>64.0</td>\n",
              "      <td>16.0</td>\n",
              "      <td>NaN</td>\n",
              "      <td>NaN</td>\n",
              "      <td>NaN</td>\n",
              "      <td>NaN</td>\n",
              "      <td>NaN</td>\n",
              "      <td>NaN</td>\n",
              "      <td>OwnerOccupier</td>\n",
              "      <td>Poselenie Sosenskoe</td>\n",
              "      <td>6.677245e+07</td>\n",
              "      <td>9553</td>\n",
              "      <td>0.336177</td>\n",
              "      <td>0.072158</td>\n",
              "      <td>656</td>\n",
              "      <td>NaN</td>\n",
              "      <td>0</td>\n",
              "      <td>629</td>\n",
              "      <td>NaN</td>\n",
              "      <td>0</td>\n",
              "      <td>0</td>\n",
              "      <td>NaN</td>\n",
              "      <td>0</td>\n",
              "      <td>0</td>\n",
              "      <td>1</td>\n",
              "      <td>0</td>\n",
              "      <td>no</td>\n",
              "      <td>0</td>\n",
              "      <td>0</td>\n",
              "      <td>1</td>\n",
              "      <td>no</td>\n",
              "      <td>no</td>\n",
              "      <td>no</td>\n",
              "      <td>no</td>\n",
              "      <td>no</td>\n",
              "      <td>yes</td>\n",
              "      <td>no</td>\n",
              "      <td>...</td>\n",
              "      <td>1750.00</td>\n",
              "      <td>2875.00</td>\n",
              "      <td>2312.50</td>\n",
              "      <td>0</td>\n",
              "      <td>0</td>\n",
              "      <td>1</td>\n",
              "      <td>0</td>\n",
              "      <td>1</td>\n",
              "      <td>2</td>\n",
              "      <td>0</td>\n",
              "      <td>0</td>\n",
              "      <td>4</td>\n",
              "      <td>0</td>\n",
              "      <td>0</td>\n",
              "      <td>1</td>\n",
              "      <td>0</td>\n",
              "      <td>34.01</td>\n",
              "      <td>8.70</td>\n",
              "      <td>1</td>\n",
              "      <td>85159</td>\n",
              "      <td>1</td>\n",
              "      <td>189076</td>\n",
              "      <td>14</td>\n",
              "      <td>1108.33</td>\n",
              "      <td>1833.33</td>\n",
              "      <td>1470.83</td>\n",
              "      <td>2</td>\n",
              "      <td>1</td>\n",
              "      <td>4</td>\n",
              "      <td>3</td>\n",
              "      <td>2</td>\n",
              "      <td>2</td>\n",
              "      <td>0</td>\n",
              "      <td>0</td>\n",
              "      <td>13</td>\n",
              "      <td>1</td>\n",
              "      <td>0</td>\n",
              "      <td>6</td>\n",
              "      <td>1</td>\n",
              "      <td>6080000</td>\n",
              "    </tr>\n",
              "    <tr>\n",
              "      <th>2</th>\n",
              "      <td>2</td>\n",
              "      <td>2014-02-05</td>\n",
              "      <td>83</td>\n",
              "      <td>44.0</td>\n",
              "      <td>9.0</td>\n",
              "      <td>17.0</td>\n",
              "      <td>1.0</td>\n",
              "      <td>1985.0</td>\n",
              "      <td>3.0</td>\n",
              "      <td>10.0</td>\n",
              "      <td>3.0</td>\n",
              "      <td>Investment</td>\n",
              "      <td>Krylatskoe</td>\n",
              "      <td>1.216448e+07</td>\n",
              "      <td>78507</td>\n",
              "      <td>0.297166</td>\n",
              "      <td>0.000000</td>\n",
              "      <td>4611</td>\n",
              "      <td>3092.0</td>\n",
              "      <td>7</td>\n",
              "      <td>5067</td>\n",
              "      <td>7478.0</td>\n",
              "      <td>7</td>\n",
              "      <td>0</td>\n",
              "      <td>NaN</td>\n",
              "      <td>2</td>\n",
              "      <td>0</td>\n",
              "      <td>14</td>\n",
              "      <td>1</td>\n",
              "      <td>no</td>\n",
              "      <td>0</td>\n",
              "      <td>6</td>\n",
              "      <td>4</td>\n",
              "      <td>no</td>\n",
              "      <td>no</td>\n",
              "      <td>no</td>\n",
              "      <td>no</td>\n",
              "      <td>no</td>\n",
              "      <td>no</td>\n",
              "      <td>no</td>\n",
              "      <td>...</td>\n",
              "      <td>987.50</td>\n",
              "      <td>1645.83</td>\n",
              "      <td>1316.67</td>\n",
              "      <td>7</td>\n",
              "      <td>8</td>\n",
              "      <td>18</td>\n",
              "      <td>9</td>\n",
              "      <td>7</td>\n",
              "      <td>5</td>\n",
              "      <td>1</td>\n",
              "      <td>2</td>\n",
              "      <td>8</td>\n",
              "      <td>0</td>\n",
              "      <td>0</td>\n",
              "      <td>17</td>\n",
              "      <td>0</td>\n",
              "      <td>35.23</td>\n",
              "      <td>4.58</td>\n",
              "      <td>19</td>\n",
              "      <td>755824</td>\n",
              "      <td>19</td>\n",
              "      <td>1015107</td>\n",
              "      <td>95</td>\n",
              "      <td>923.26</td>\n",
              "      <td>1523.26</td>\n",
              "      <td>1223.26</td>\n",
              "      <td>9</td>\n",
              "      <td>18</td>\n",
              "      <td>25</td>\n",
              "      <td>23</td>\n",
              "      <td>13</td>\n",
              "      <td>6</td>\n",
              "      <td>1</td>\n",
              "      <td>8</td>\n",
              "      <td>18</td>\n",
              "      <td>0</td>\n",
              "      <td>1</td>\n",
              "      <td>52</td>\n",
              "      <td>0</td>\n",
              "      <td>17000000</td>\n",
              "    </tr>\n",
              "    <tr>\n",
              "      <th>3</th>\n",
              "      <td>3</td>\n",
              "      <td>2012-07-26</td>\n",
              "      <td>71</td>\n",
              "      <td>49.0</td>\n",
              "      <td>2.0</td>\n",
              "      <td>NaN</td>\n",
              "      <td>NaN</td>\n",
              "      <td>NaN</td>\n",
              "      <td>NaN</td>\n",
              "      <td>NaN</td>\n",
              "      <td>NaN</td>\n",
              "      <td>Investment</td>\n",
              "      <td>Matushkino</td>\n",
              "      <td>4.708040e+06</td>\n",
              "      <td>38075</td>\n",
              "      <td>0.271702</td>\n",
              "      <td>0.310199</td>\n",
              "      <td>2448</td>\n",
              "      <td>2080.0</td>\n",
              "      <td>3</td>\n",
              "      <td>2748</td>\n",
              "      <td>3885.0</td>\n",
              "      <td>4</td>\n",
              "      <td>0</td>\n",
              "      <td>NaN</td>\n",
              "      <td>0</td>\n",
              "      <td>0</td>\n",
              "      <td>0</td>\n",
              "      <td>0</td>\n",
              "      <td>no</td>\n",
              "      <td>0</td>\n",
              "      <td>0</td>\n",
              "      <td>1</td>\n",
              "      <td>no</td>\n",
              "      <td>no</td>\n",
              "      <td>no</td>\n",
              "      <td>no</td>\n",
              "      <td>no</td>\n",
              "      <td>no</td>\n",
              "      <td>no</td>\n",
              "      <td>...</td>\n",
              "      <td>500.00</td>\n",
              "      <td>850.00</td>\n",
              "      <td>675.00</td>\n",
              "      <td>0</td>\n",
              "      <td>5</td>\n",
              "      <td>3</td>\n",
              "      <td>2</td>\n",
              "      <td>0</td>\n",
              "      <td>0</td>\n",
              "      <td>0</td>\n",
              "      <td>1</td>\n",
              "      <td>2</td>\n",
              "      <td>0</td>\n",
              "      <td>1</td>\n",
              "      <td>4</td>\n",
              "      <td>1</td>\n",
              "      <td>20.84</td>\n",
              "      <td>7.28</td>\n",
              "      <td>3</td>\n",
              "      <td>51038</td>\n",
              "      <td>7</td>\n",
              "      <td>49700</td>\n",
              "      <td>14</td>\n",
              "      <td>507.14</td>\n",
              "      <td>857.14</td>\n",
              "      <td>682.14</td>\n",
              "      <td>0</td>\n",
              "      <td>7</td>\n",
              "      <td>4</td>\n",
              "      <td>3</td>\n",
              "      <td>0</td>\n",
              "      <td>0</td>\n",
              "      <td>0</td>\n",
              "      <td>1</td>\n",
              "      <td>3</td>\n",
              "      <td>0</td>\n",
              "      <td>2</td>\n",
              "      <td>8</td>\n",
              "      <td>2</td>\n",
              "      <td>990000</td>\n",
              "    </tr>\n",
              "    <tr>\n",
              "      <th>4</th>\n",
              "      <td>4</td>\n",
              "      <td>2014-10-29</td>\n",
              "      <td>60</td>\n",
              "      <td>42.0</td>\n",
              "      <td>9.0</td>\n",
              "      <td>9.0</td>\n",
              "      <td>1.0</td>\n",
              "      <td>1970.0</td>\n",
              "      <td>3.0</td>\n",
              "      <td>6.0</td>\n",
              "      <td>2.0</td>\n",
              "      <td>Investment</td>\n",
              "      <td>Gol'janovo</td>\n",
              "      <td>1.428699e+07</td>\n",
              "      <td>157010</td>\n",
              "      <td>0.389354</td>\n",
              "      <td>0.194489</td>\n",
              "      <td>7751</td>\n",
              "      <td>5041.0</td>\n",
              "      <td>6</td>\n",
              "      <td>8004</td>\n",
              "      <td>11081.0</td>\n",
              "      <td>7</td>\n",
              "      <td>0</td>\n",
              "      <td>125.0</td>\n",
              "      <td>3</td>\n",
              "      <td>0</td>\n",
              "      <td>5</td>\n",
              "      <td>3</td>\n",
              "      <td>no</td>\n",
              "      <td>0</td>\n",
              "      <td>5</td>\n",
              "      <td>3</td>\n",
              "      <td>no</td>\n",
              "      <td>no</td>\n",
              "      <td>no</td>\n",
              "      <td>yes</td>\n",
              "      <td>no</td>\n",
              "      <td>no</td>\n",
              "      <td>no</td>\n",
              "      <td>...</td>\n",
              "      <td>608.33</td>\n",
              "      <td>1020.83</td>\n",
              "      <td>814.58</td>\n",
              "      <td>2</td>\n",
              "      <td>7</td>\n",
              "      <td>9</td>\n",
              "      <td>8</td>\n",
              "      <td>0</td>\n",
              "      <td>0</td>\n",
              "      <td>0</td>\n",
              "      <td>3</td>\n",
              "      <td>3</td>\n",
              "      <td>0</td>\n",
              "      <td>0</td>\n",
              "      <td>13</td>\n",
              "      <td>2</td>\n",
              "      <td>36.40</td>\n",
              "      <td>9.08</td>\n",
              "      <td>11</td>\n",
              "      <td>300476</td>\n",
              "      <td>16</td>\n",
              "      <td>509176</td>\n",
              "      <td>54</td>\n",
              "      <td>656.00</td>\n",
              "      <td>1110.00</td>\n",
              "      <td>883.00</td>\n",
              "      <td>4</td>\n",
              "      <td>16</td>\n",
              "      <td>18</td>\n",
              "      <td>12</td>\n",
              "      <td>3</td>\n",
              "      <td>1</td>\n",
              "      <td>0</td>\n",
              "      <td>5</td>\n",
              "      <td>8</td>\n",
              "      <td>0</td>\n",
              "      <td>1</td>\n",
              "      <td>34</td>\n",
              "      <td>5</td>\n",
              "      <td>7900000</td>\n",
              "    </tr>\n",
              "  </tbody>\n",
              "</table>\n",
              "<p>5 rows × 292 columns</p>\n",
              "</div>"
            ],
            "text/plain": [
              "   id  timestamp  full_sq  ...  sport_count_5000  market_count_5000     price\n",
              "0   0 2014-12-26        1  ...                75                 10  15318960\n",
              "1   1 2012-10-04       64  ...                 6                  1   6080000\n",
              "2   2 2014-02-05       83  ...                52                  0  17000000\n",
              "3   3 2012-07-26       71  ...                 8                  2    990000\n",
              "4   4 2014-10-29       60  ...                34                  5   7900000\n",
              "\n",
              "[5 rows x 292 columns]"
            ]
          },
          "metadata": {
            "tags": []
          },
          "execution_count": 4
        }
      ]
    },
    {
      "cell_type": "markdown",
      "metadata": {
        "id": "znjwH9_mx3fZ"
      },
      "source": [
        "Разделите имеющиеся у вас данные на обучающую и тестовую выборки. В качестве обучающей выборки возьмите первые 80% данных, последние 20% - тестовая выборка."
      ]
    },
    {
      "cell_type": "code",
      "metadata": {
        "id": "hwfNR565wMKN"
      },
      "source": [
        "from sklearn.model_selection import train_test_split\n",
        "\n",
        "df_ohe = pd.get_dummies(df) # сделаем копию датасета с закодированными кат. признаками\n",
        "X_train, X_test, y_train, y_test = train_test_split(df_ohe.drop(['price'], axis=1), df_ohe['price'], random_state=42)"
      ],
      "execution_count": 5,
      "outputs": []
    },
    {
      "cell_type": "markdown",
      "metadata": {
        "id": "pL4dJJwZP86w"
      },
      "source": [
        "Возможно в ваших моделях вам придется указывать, какие колонки являются категориальными (например, в бустингах). Для упрощения предлагается разделить колонки по следующему принципу:\n",
        "```\n",
        "drop_columns = [\n",
        "    'id',           # May leak information\n",
        "    'timestamp',    # May leak information\n",
        "]\n",
        "cat_columns = [\n",
        "    'product_type',              #\n",
        "    'material',                  # Material of the wall\n",
        "    'state',                     # Satisfaction level\n",
        "    'sub_area',                  # District name\n",
        "    'culture_objects_top_25',    #\n",
        "    'thermal_power_plant_raion', #\n",
        "    'incineration_raion',        #\n",
        "    'oil_chemistry_raion',       #\n",
        "    'radiation_raion',           #\n",
        "    'railroad_terminal_raion',   #\n",
        "    'big_market_raion',          #\n",
        "    'nuclear_reactor_raion',     #\n",
        "    'detention_facility_raion',  #\n",
        "    'ID_metro',                  #\n",
        "    'ID_railroad_station_walk',  #\n",
        "    'ID_railroad_station_avto',  #\n",
        "    'water_1line',               #\n",
        "    'ID_big_road1',              #\n",
        "    'big_road1_1line',           #\n",
        "    'ID_big_road2',              #\n",
        "    'railroad_1line',            #\n",
        "    'ID_railroad_terminal',      #\n",
        "    'ID_bus_terminal',           #\n",
        "    'ecology',                   #\n",
        "]\n",
        "num_columns = list(set(df.columns).difference(set(cat_columns + drop_columns)))\n",
        "```"
      ]
    },
    {
      "cell_type": "markdown",
      "metadata": {
        "id": "oiOby6hNu92W"
      },
      "source": [
        "### Baseline (2 балла)\n",
        "\n",
        "В качестве Baseline обучите `DecisionTreeRegressor` из `sklearn`."
      ]
    },
    {
      "cell_type": "code",
      "metadata": {
        "colab": {
          "base_uri": "https://localhost:8080/"
        },
        "id": "5XheUoJpQtGs",
        "outputId": "bdebed01-3e31-44fc-f529-63288d53b6ba"
      },
      "source": [
        "X_train = X_train.fillna(X_train.mean()) # заполним пропущенные значения\n",
        "X_test = X_test.fillna(X_test.mean())\n",
        "\n",
        "X_train = X_train.drop(['id', 'timestamp'], axis=1) # уберем id (бесполезен) и timestamp (позднее преобразуем его)\n",
        "X_test = X_test.drop(['id', 'timestamp'], axis=1)"
      ],
      "execution_count": 6,
      "outputs": [
        {
          "output_type": "stream",
          "text": [
            "/usr/local/lib/python3.7/dist-packages/ipykernel_launcher.py:1: FutureWarning: DataFrame.mean and DataFrame.median with numeric_only=None will include datetime64 and datetime64tz columns in a future version.\n",
            "  \"\"\"Entry point for launching an IPython kernel.\n",
            "/usr/local/lib/python3.7/dist-packages/ipykernel_launcher.py:2: FutureWarning: DataFrame.mean and DataFrame.median with numeric_only=None will include datetime64 and datetime64tz columns in a future version.\n",
            "  \n"
          ],
          "name": "stderr"
        }
      ]
    },
    {
      "cell_type": "code",
      "metadata": {
        "colab": {
          "base_uri": "https://localhost:8080/"
        },
        "id": "Z8T6dssSoGB4",
        "outputId": "fcdc9127-c9c4-44f7-ea1b-e71b6dd6deca"
      },
      "source": [
        "X_train.shape, X_test.shape"
      ],
      "execution_count": 7,
      "outputs": [
        {
          "output_type": "execute_result",
          "data": {
            "text/plain": [
              "((15000, 451), (5000, 451))"
            ]
          },
          "metadata": {
            "tags": []
          },
          "execution_count": 7
        }
      ]
    },
    {
      "cell_type": "code",
      "metadata": {
        "colab": {
          "base_uri": "https://localhost:8080/"
        },
        "id": "gJIDf3kn1Wfv",
        "outputId": "745bc8bc-bc23-4187-f4ae-d782dda0f8f9"
      },
      "source": [
        "from sklearn.tree import DecisionTreeRegressor\n",
        "\n",
        "reg = DecisionTreeRegressor(random_state=42)\n",
        "reg.fit(X_train, y_train)"
      ],
      "execution_count": 8,
      "outputs": [
        {
          "output_type": "execute_result",
          "data": {
            "text/plain": [
              "DecisionTreeRegressor(ccp_alpha=0.0, criterion='mse', max_depth=None,\n",
              "                      max_features=None, max_leaf_nodes=None,\n",
              "                      min_impurity_decrease=0.0, min_impurity_split=None,\n",
              "                      min_samples_leaf=1, min_samples_split=2,\n",
              "                      min_weight_fraction_leaf=0.0, presort='deprecated',\n",
              "                      random_state=42, splitter='best')"
            ]
          },
          "metadata": {
            "tags": []
          },
          "execution_count": 8
        }
      ]
    },
    {
      "cell_type": "markdown",
      "metadata": {
        "id": "XUC7NFhw1X41"
      },
      "source": [
        "Проверьте качество на отложенной выборке."
      ]
    },
    {
      "cell_type": "code",
      "metadata": {
        "colab": {
          "base_uri": "https://localhost:8080/"
        },
        "id": "hMQNQxxDhHoJ",
        "outputId": "f586517e-66c6-435e-ece3-137c22515219"
      },
      "source": [
        "from sklearn.metrics import mean_squared_error\n",
        "\n",
        "y_pred = reg.predict(X_test)\n",
        "mean_squared_error(y_test, y_pred, squared=False)"
      ],
      "execution_count": 9,
      "outputs": [
        {
          "output_type": "execute_result",
          "data": {
            "text/plain": [
              "3904446.6366896927"
            ]
          },
          "metadata": {
            "tags": []
          },
          "execution_count": 9
        }
      ]
    },
    {
      "cell_type": "markdown",
      "metadata": {
        "id": "3bezBBI7u_oF"
      },
      "source": [
        "### Feature Engineering (2 балла)\n",
        "\n",
        "Часто улучшить модель можно с помощью аккуратного Feature Engineering.\n",
        "\n",
        "Добавим в модель дополнительные признаки:\n",
        "* \"Как часто в этот год и этот месяц появлились объявления\"\n",
        "* \"Как часто в этот год и эту неделю появлялись объявления\""
      ]
    },
    {
      "cell_type": "code",
      "metadata": {
        "colab": {
          "base_uri": "https://localhost:8080/"
        },
        "id": "_cJ6SBqUKC4C",
        "outputId": "02da929e-f61d-4861-d096-b36ad5240acb"
      },
      "source": [
        "month_year = (df.timestamp.dt.month + df.timestamp.dt.year * 100)\n",
        "month_year_cnt_map = month_year.value_counts().to_dict()\n",
        "df[\"month_year_cnt\"] = month_year.map(month_year_cnt_map)\n",
        "\n",
        "week_year = (df.timestamp.dt.weekofyear + df.timestamp.dt.year * 100)\n",
        "week_year_cnt_map = week_year.value_counts().to_dict()\n",
        "df[\"week_year_cnt\"] = week_year.map(week_year_cnt_map)"
      ],
      "execution_count": 10,
      "outputs": [
        {
          "output_type": "stream",
          "text": [
            "/usr/local/lib/python3.7/dist-packages/ipykernel_launcher.py:5: FutureWarning: Series.dt.weekofyear and Series.dt.week have been deprecated.  Please use Series.dt.isocalendar().week instead.\n",
            "  \"\"\"\n"
          ],
          "name": "stderr"
        }
      ]
    },
    {
      "cell_type": "markdown",
      "metadata": {
        "id": "pCajk45_KDSz"
      },
      "source": [
        "Добавьте следюущие дополнительные признаки:\n",
        "* Месяц (из колонки `timestamp`)\n",
        "* День недели (из колонки `timestamp`)\n",
        "* Отношение \"этаж / максимальный этаж в здании\" (колонки `floor` и `max_floor`)\n",
        "* Отношение \"площадь кухни / площадь квартиры\" (колонки `kitchen_sq` и `full_sq`)\n",
        "\n",
        "По желанию можно добавить и другие признаки."
      ]
    },
    {
      "cell_type": "code",
      "metadata": {
        "id": "dXZkoUL8Kve6",
        "colab": {
          "base_uri": "https://localhost:8080/"
        },
        "outputId": "9f774790-e65e-4f3e-f9f8-55cca6312989"
      },
      "source": [
        "df['month'] = df['timestamp'].dt.month\n",
        "df['week_day'] = df['timestamp'].dt.dayofweek\n",
        "df['rel_floor_max'] = np.nan\n",
        "df['rel_floor_max'][df['max_floor'] != 0] = df['floor'][df['max_floor'] != 0] / df['max_floor'][df['max_floor'] != 0]\n",
        "df['rel_kit_flat'] = np.nan\n",
        "df['rel_kit_flat'][df['full_sq'] != 0] = df['kitch_sq'][df['full_sq'] != 0] / df['full_sq'][df['full_sq'] != 0]"
      ],
      "execution_count": 11,
      "outputs": [
        {
          "output_type": "stream",
          "text": [
            "/usr/local/lib/python3.7/dist-packages/ipykernel_launcher.py:4: SettingWithCopyWarning: \n",
            "A value is trying to be set on a copy of a slice from a DataFrame\n",
            "\n",
            "See the caveats in the documentation: https://pandas.pydata.org/pandas-docs/stable/user_guide/indexing.html#returning-a-view-versus-a-copy\n",
            "  after removing the cwd from sys.path.\n",
            "/usr/local/lib/python3.7/dist-packages/ipykernel_launcher.py:6: SettingWithCopyWarning: \n",
            "A value is trying to be set on a copy of a slice from a DataFrame\n",
            "\n",
            "See the caveats in the documentation: https://pandas.pydata.org/pandas-docs/stable/user_guide/indexing.html#returning-a-view-versus-a-copy\n",
            "  \n"
          ],
          "name": "stderr"
        }
      ]
    },
    {
      "cell_type": "markdown",
      "metadata": {
        "id": "_-jCowvWLiXZ"
      },
      "source": [
        "Разделите выборку на обучающую и тестовую еще раз (потому что дополнительные признаки созданы для исходной выборки)."
      ]
    },
    {
      "cell_type": "code",
      "metadata": {
        "id": "0f-vO3LcLhdf"
      },
      "source": [
        "df_ohe = pd.get_dummies(df) # сделаем 2 версии датасета: обычную и с закодированными кат. признаками, делить будем оба\n",
        "X_train_ohe, X_test_ohe, y_train_ohe, y_test_ohe = train_test_split(df_ohe.drop(['price'], axis=1), df_ohe['price'], random_state=42)\n",
        "X_train, X_test, y_train, y_test = train_test_split(df.drop(['price'], axis=1), df['price'], random_state=42)"
      ],
      "execution_count": 12,
      "outputs": []
    },
    {
      "cell_type": "markdown",
      "metadata": {
        "id": "CPtzkpFEvBw9"
      },
      "source": [
        "### Model Selection (3 балла)\n",
        "\n",
        "Посмотрите, какого качества можно добиться если использовать разные модели:\n",
        "* `DecisionTreeRegressor` из `sklearn`\n",
        "* `RandomForestRegressor` из `sklearn`\n",
        "* `CatBoostRegressor`\n",
        "\n",
        "Также вы можете попробовать линейные модели, другие бустинги (`LigthGBM` и `XGBoost`).\n",
        "\n",
        "Почти все библиотеки поддерживают удобный способ подбора гиперпараметров: посмотрите как это делать в [sklearn](https://scikit-learn.org/stable/modules/generated/sklearn.model_selection.GridSearchCV.html) или в [catboost](https://catboost.ai/docs/concepts/python-reference_catboostregressor_grid_search.html).\n",
        "\n",
        "Проверяйте качество каждой модели на тестовой выборке и выберите наилучшую."
      ]
    },
    {
      "cell_type": "code",
      "metadata": {
        "id": "PZstXx6uNRfE"
      },
      "source": [
        "X_train = X_train.drop(['id', 'timestamp'], axis=1) # заполним пропущенные значения\n",
        "X_test = X_test.drop(['id', 'timestamp'], axis=1)\n",
        "X_train_ohe = X_train_ohe.drop(['id', 'timestamp'], axis=1)\n",
        "X_test_ohe = X_test_ohe.drop(['id', 'timestamp'], axis=1)\n",
        "\n",
        "X_train = X_train.fillna(X_train.mean()) # уберем id (бесполезен) и timestamp (уже получили новые признаки)\n",
        "X_test = X_test.fillna(X_test.mean())\n",
        "X_train_ohe = X_train_ohe.fillna(X_train_ohe.mean())\n",
        "X_test_ohe = X_test_ohe.fillna(X_test_ohe.mean())"
      ],
      "execution_count": 13,
      "outputs": []
    },
    {
      "cell_type": "code",
      "metadata": {
        "id": "LaFVI0H3Ap7F"
      },
      "source": [
        "from sklearn.ensemble import RandomForestRegressor\n",
        "from xgboost import XGBRegressor\n",
        "from lightgbm import LGBMRegressor\n",
        "from sklearn.model_selection import GridSearchCV"
      ],
      "execution_count": 14,
      "outputs": []
    },
    {
      "cell_type": "markdown",
      "metadata": {
        "id": "gZHFgWe0j31U"
      },
      "source": [
        "DecisionTreeRegressor."
      ]
    },
    {
      "cell_type": "code",
      "metadata": {
        "colab": {
          "base_uri": "https://localhost:8080/"
        },
        "id": "EEdP-bt1FP3d",
        "outputId": "20ba2eb6-b1c8-4099-8635-2f5bbdead61f"
      },
      "source": [
        "dtr = DecisionTreeRegressor(random_state=42)\n",
        "dtr.fit(X_train_ohe, y_train_ohe)\n",
        "y_pred = dtr.predict(X_test_ohe)\n",
        "mean_squared_error(y_test, y_pred, squared=False)"
      ],
      "execution_count": 15,
      "outputs": [
        {
          "output_type": "execute_result",
          "data": {
            "text/plain": [
              "3817814.6413202197"
            ]
          },
          "metadata": {
            "tags": []
          },
          "execution_count": 15
        }
      ]
    },
    {
      "cell_type": "markdown",
      "metadata": {
        "id": "d1yBNTSTjxFy"
      },
      "source": [
        "RandomForestRegressor."
      ]
    },
    {
      "cell_type": "code",
      "metadata": {
        "id": "-RjMePiOTIoQ"
      },
      "source": [
        "rfr = RandomForestRegressor(random_state=42)\n",
        "rfr.fit(X_train_ohe, y_train_ohe)\n",
        "y_pred = rfr.predict(X_test_ohe)\n",
        "mean_squared_error(y_test, y_pred, squared=False)"
      ],
      "execution_count": null,
      "outputs": []
    },
    {
      "cell_type": "markdown",
      "metadata": {
        "id": "Hlv93AZSj652"
      },
      "source": [
        "XGBRegressor."
      ]
    },
    {
      "cell_type": "code",
      "metadata": {
        "id": "-Tl6pcRSCS2T"
      },
      "source": [
        "xgb = XGBRegressor(random_state=42)\n",
        "params = {\n",
        "    'n_estimators': [50, 100, 200]\n",
        "}\n",
        "model = GridSearchCV(xgb, param_grid=params)\n",
        "model.fit(X_train_ohe, y_train_ohe)"
      ],
      "execution_count": null,
      "outputs": []
    },
    {
      "cell_type": "code",
      "metadata": {
        "id": "nZWM3tC8IaTA",
        "colab": {
          "base_uri": "https://localhost:8080/"
        },
        "outputId": "67f528a0-4b4e-4607-806f-5c8a87291894"
      },
      "source": [
        "model.best_params_, model.best_score_"
      ],
      "execution_count": 20,
      "outputs": [
        {
          "output_type": "execute_result",
          "data": {
            "text/plain": [
              "({'n_estimators': 200}, 0.6895312559295845)"
            ]
          },
          "metadata": {
            "tags": []
          },
          "execution_count": 20
        }
      ]
    },
    {
      "cell_type": "code",
      "metadata": {
        "colab": {
          "base_uri": "https://localhost:8080/"
        },
        "id": "zTy9XOxaF0gp",
        "outputId": "21f145da-e08e-4805-85cd-12645ffcc93a"
      },
      "source": [
        "xgb = XGBRegressor(n_estimators=200, random_state=42)\n",
        "xgb.fit(X_train_ohe, y_train_ohe)\n",
        "y_pred = xgb.predict(X_test_ohe)\n",
        "mean_squared_error(y_test, y_pred, squared=False)"
      ],
      "execution_count": 21,
      "outputs": [
        {
          "output_type": "stream",
          "text": [
            "[20:22:09] WARNING: /workspace/src/objective/regression_obj.cu:152: reg:linear is now deprecated in favor of reg:squarederror.\n"
          ],
          "name": "stdout"
        },
        {
          "output_type": "execute_result",
          "data": {
            "text/plain": [
              "2639734.220688582"
            ]
          },
          "metadata": {
            "tags": []
          },
          "execution_count": 21
        }
      ]
    },
    {
      "cell_type": "markdown",
      "metadata": {
        "id": "yFXa8SPHkAR6"
      },
      "source": [
        "LGBMRegressor."
      ]
    },
    {
      "cell_type": "code",
      "metadata": {
        "colab": {
          "base_uri": "https://localhost:8080/"
        },
        "id": "QO-DxKpGIU1S",
        "outputId": "b0f2465e-139d-47aa-b158-dc076192a4ff"
      },
      "source": [
        "lgb = LGBMRegressor(random_state=42)\n",
        "params = {\n",
        "    'n_estimators': [50, 100, 200]\n",
        "}\n",
        "model = GridSearchCV(lgb, param_grid=params, cv=5)\n",
        "model.fit(X_train_ohe, y_train_ohe)"
      ],
      "execution_count": 25,
      "outputs": [
        {
          "output_type": "execute_result",
          "data": {
            "text/plain": [
              "GridSearchCV(cv=5, error_score=nan,\n",
              "             estimator=LGBMRegressor(boosting_type='gbdt', class_weight=None,\n",
              "                                     colsample_bytree=1.0,\n",
              "                                     importance_type='split', learning_rate=0.1,\n",
              "                                     max_depth=-1, min_child_samples=20,\n",
              "                                     min_child_weight=0.001, min_split_gain=0.0,\n",
              "                                     n_estimators=100, n_jobs=-1, num_leaves=31,\n",
              "                                     objective=None, random_state=42,\n",
              "                                     reg_alpha=0.0, reg_lambda=0.0, silent=True,\n",
              "                                     subsample=1.0, subsample_for_bin=200000,\n",
              "                                     subsample_freq=0),\n",
              "             iid='deprecated', n_jobs=None,\n",
              "             param_grid={'n_estimators': [50, 100, 200]},\n",
              "             pre_dispatch='2*n_jobs', refit=True, return_train_score=False,\n",
              "             scoring=None, verbose=0)"
            ]
          },
          "metadata": {
            "tags": []
          },
          "execution_count": 25
        }
      ]
    },
    {
      "cell_type": "code",
      "metadata": {
        "colab": {
          "base_uri": "https://localhost:8080/"
        },
        "id": "oD_yS8RJFdkk",
        "outputId": "31b3268b-013c-4deb-a3e7-a32d186d1821"
      },
      "source": [
        "model.best_params_, model.best_score_"
      ],
      "execution_count": 26,
      "outputs": [
        {
          "output_type": "execute_result",
          "data": {
            "text/plain": [
              "({'n_estimators': 100}, 0.6783636232372183)"
            ]
          },
          "metadata": {
            "tags": []
          },
          "execution_count": 26
        }
      ]
    },
    {
      "cell_type": "code",
      "metadata": {
        "colab": {
          "base_uri": "https://localhost:8080/"
        },
        "id": "yh4d1K00HfSy",
        "outputId": "f9fa41ee-7b1c-4a5b-c646-047f5e59fe9f"
      },
      "source": [
        "lgb = LGBMRegressor(n_estimators=100, random_state=42)\n",
        "lgb.fit(X_train_ohe, y_train_ohe)\n",
        "y_pred = lgb.predict(X_test_ohe)\n",
        "mean_squared_error(y_test, y_pred, squared=False)"
      ],
      "execution_count": 27,
      "outputs": [
        {
          "output_type": "execute_result",
          "data": {
            "text/plain": [
              "2556040.154380731"
            ]
          },
          "metadata": {
            "tags": []
          },
          "execution_count": 27
        }
      ]
    },
    {
      "cell_type": "markdown",
      "metadata": {
        "id": "fcQbGh0FkDBP"
      },
      "source": [
        "CatBoostRegressor."
      ]
    },
    {
      "cell_type": "code",
      "metadata": {
        "colab": {
          "base_uri": "https://localhost:8080/"
        },
        "id": "1ovfbni-Gy_0",
        "outputId": "ee5a4854-197e-4fbe-f750-457a21d74a77"
      },
      "source": [
        "!pip install catboost # установим catboost"
      ],
      "execution_count": 28,
      "outputs": [
        {
          "output_type": "stream",
          "text": [
            "Collecting catboost\n",
            "\u001b[?25l  Downloading https://files.pythonhosted.org/packages/47/80/8e9c57ec32dfed6ba2922bc5c96462cbf8596ce1a6f5de532ad1e43e53fe/catboost-0.25.1-cp37-none-manylinux1_x86_64.whl (67.3MB)\n",
            "\u001b[K     |████████████████████████████████| 67.3MB 59kB/s \n",
            "\u001b[?25hRequirement already satisfied: scipy in /usr/local/lib/python3.7/dist-packages (from catboost) (1.4.1)\n",
            "Requirement already satisfied: plotly in /usr/local/lib/python3.7/dist-packages (from catboost) (4.4.1)\n",
            "Requirement already satisfied: six in /usr/local/lib/python3.7/dist-packages (from catboost) (1.15.0)\n",
            "Requirement already satisfied: graphviz in /usr/local/lib/python3.7/dist-packages (from catboost) (0.10.1)\n",
            "Requirement already satisfied: matplotlib in /usr/local/lib/python3.7/dist-packages (from catboost) (3.2.2)\n",
            "Requirement already satisfied: pandas>=0.24.0 in /usr/local/lib/python3.7/dist-packages (from catboost) (1.1.5)\n",
            "Requirement already satisfied: numpy>=1.16.0 in /usr/local/lib/python3.7/dist-packages (from catboost) (1.19.5)\n",
            "Requirement already satisfied: retrying>=1.3.3 in /usr/local/lib/python3.7/dist-packages (from plotly->catboost) (1.3.3)\n",
            "Requirement already satisfied: cycler>=0.10 in /usr/local/lib/python3.7/dist-packages (from matplotlib->catboost) (0.10.0)\n",
            "Requirement already satisfied: python-dateutil>=2.1 in /usr/local/lib/python3.7/dist-packages (from matplotlib->catboost) (2.8.1)\n",
            "Requirement already satisfied: kiwisolver>=1.0.1 in /usr/local/lib/python3.7/dist-packages (from matplotlib->catboost) (1.3.1)\n",
            "Requirement already satisfied: pyparsing!=2.0.4,!=2.1.2,!=2.1.6,>=2.0.1 in /usr/local/lib/python3.7/dist-packages (from matplotlib->catboost) (2.4.7)\n",
            "Requirement already satisfied: pytz>=2017.2 in /usr/local/lib/python3.7/dist-packages (from pandas>=0.24.0->catboost) (2018.9)\n",
            "Installing collected packages: catboost\n",
            "Successfully installed catboost-0.25.1\n"
          ],
          "name": "stdout"
        }
      ]
    },
    {
      "cell_type": "code",
      "metadata": {
        "colab": {
          "base_uri": "https://localhost:8080/"
        },
        "id": "G42CQW0AsUrC",
        "outputId": "f1d89d5e-4b19-4bb2-852a-09194a8fb5ee"
      },
      "source": [
        "cat_features = np.array(X_train.select_dtypes(include=[\"object_\"]).columns)\n",
        "cat_features # catboost сам работает с кат. признаками"
      ],
      "execution_count": 29,
      "outputs": [
        {
          "output_type": "execute_result",
          "data": {
            "text/plain": [
              "array(['product_type', 'sub_area', 'culture_objects_top_25',\n",
              "       'thermal_power_plant_raion', 'incineration_raion',\n",
              "       'oil_chemistry_raion', 'radiation_raion',\n",
              "       'railroad_terminal_raion', 'big_market_raion',\n",
              "       'nuclear_reactor_raion', 'detention_facility_raion', 'water_1line',\n",
              "       'big_road1_1line', 'railroad_1line', 'ecology'], dtype=object)"
            ]
          },
          "metadata": {
            "tags": []
          },
          "execution_count": 29
        }
      ]
    },
    {
      "cell_type": "code",
      "metadata": {
        "colab": {
          "base_uri": "https://localhost:8080/"
        },
        "id": "k2GAy0CRL6DO",
        "outputId": "916f5a7f-d679-46c6-ad4d-59f690ed8736"
      },
      "source": [
        "X = pd.concat([X_train, X_test], axis=0) # для использования grid_search\n",
        "y = pd.concat([y_train, y_test], axis=0)\n",
        "X.shape, y.shape"
      ],
      "execution_count": 34,
      "outputs": [
        {
          "output_type": "execute_result",
          "data": {
            "text/plain": [
              "((20000, 295), (20000,))"
            ]
          },
          "metadata": {
            "tags": []
          },
          "execution_count": 34
        }
      ]
    },
    {
      "cell_type": "code",
      "metadata": {
        "id": "sUU5twStKAoT"
      },
      "source": [
        "from catboost import CatBoostRegressor\n",
        "\n",
        "cbr = CatBoostRegressor(cat_features=cat_features, random_state=42, verbose=False)\n",
        "params = {\n",
        "    'depth': [2, 4, 6],\n",
        "    'iterations': [1000, 1200, 2000]\n",
        "}\n",
        "results = cbr.grid_search(param_grid=params, X=X, y=y, partition_random_seed=42, cv=5)"
      ],
      "execution_count": null,
      "outputs": []
    },
    {
      "cell_type": "code",
      "metadata": {
        "id": "SnIBu0z_2y3h"
      },
      "source": [
        "results['params'] # iterations=1200, depth=6"
      ],
      "execution_count": null,
      "outputs": []
    },
    {
      "cell_type": "code",
      "metadata": {
        "colab": {
          "base_uri": "https://localhost:8080/"
        },
        "id": "Wg8H0ReyHEeU",
        "outputId": "68869eda-e391-4729-e539-98e8b2b04af4"
      },
      "source": [
        "cbr = CatBoostRegressor(iterations=1200, depth=6, cat_features=cat_features, random_state=42, verbose=False)\n",
        "cbr.fit(X_train, y_train)\n",
        "y_pred = cbr.predict(X_test)\n",
        "mean_squared_error(y_test, y_pred, squared=False)"
      ],
      "execution_count": 35,
      "outputs": [
        {
          "output_type": "execute_result",
          "data": {
            "text/plain": [
              "2486036.6407551835"
            ]
          },
          "metadata": {
            "tags": []
          },
          "execution_count": 35
        }
      ]
    },
    {
      "cell_type": "markdown",
      "metadata": {
        "id": "2ZFNC-bjpcUe"
      },
      "source": [
        "Вывод:\n",
        "\n",
        "Лучший результат показала модель CatBoostRegressor с параметрами `iterations=1200, depth=6`."
      ]
    },
    {
      "cell_type": "markdown",
      "metadata": {
        "id": "JxQnozbtvD6x"
      },
      "source": [
        "### Ensemble v.1 (3 балла)\n",
        "\n",
        "Ансамбли иногда оказываются лучше чем одна большая модель.\n",
        "\n",
        "В колонке `product_type` содержится информация о том, каким является объявление: `Investment` (продажа квартиры как инвестиции) или `OwnerOccupier` (продажа квартиры для жилья). Логично предположить, что если сделать по модели на каждый из этих типов, то качество будет выше.\n",
        "\n",
        "Обучите свои лучшие модели на отдельно на `Investment` и `OwnerOccupier` (т.е. у вас будет `model_invest`, обученная на `(invest_train_X, invest_train_Y)` и `model_owner`, обученная на `(owner_train_X, owner_train_Y)`) и проверьте качество на отложенной выборке (т.е. на исходном `test_split`)."
      ]
    },
    {
      "cell_type": "code",
      "metadata": {
        "id": "HeJOCYa-O_VE"
      },
      "source": [
        "invest_train_X = X_train[X_train['product_type'] == 'Investment']\n",
        "owner_train_X = X_train[X_train['product_type'] == 'OwnerOccupier']\n",
        "\n",
        "invest_train_y = y_train[X_train['product_type'] == 'Investment']\n",
        "owner_train_y = y_train[X_train['product_type'] == 'OwnerOccupier']\n",
        "\n",
        "invest_test_X = X_test[X_test['product_type'] == 'Investment']\n",
        "owner_test_X = X_test[X_test['product_type'] == 'OwnerOccupier']\n",
        "\n",
        "invest_test_y = y_test[X_test['product_type'] == 'Investment']\n",
        "owner_test_y = y_test[X_test['product_type'] == 'OwnerOccupier']"
      ],
      "execution_count": 32,
      "outputs": []
    },
    {
      "cell_type": "markdown",
      "metadata": {
        "id": "dOLLrVzqp2QC"
      },
      "source": [
        "Так как наилучшие результаты показала модель CatBoostRegressor с параметрами `iterations=1200, depth=6`, то будем использовать ее."
      ]
    },
    {
      "cell_type": "code",
      "metadata": {
        "colab": {
          "base_uri": "https://localhost:8080/"
        },
        "id": "QmBBIpd9CDk0",
        "outputId": "a69fcacb-7931-46c1-81d2-0f2e141af757"
      },
      "source": [
        "cbr_invest = CatBoostRegressor(iterations=1200, random_state=42, verbose=False)\n",
        "cbr_invest.fit(invest_train_X, invest_train_y, cat_features=cat_features)\n",
        "invest_pred_y = cbr_invest.predict(invest_test_X)\n",
        "mean_squared_error(invest_test_y, invest_pred_y, squared=False)"
      ],
      "execution_count": 36,
      "outputs": [
        {
          "output_type": "execute_result",
          "data": {
            "text/plain": [
              "2905136.371026496"
            ]
          },
          "metadata": {
            "tags": []
          },
          "execution_count": 36
        }
      ]
    },
    {
      "cell_type": "code",
      "metadata": {
        "colab": {
          "base_uri": "https://localhost:8080/"
        },
        "id": "tWK6kmpcDGhS",
        "outputId": "f2e60566-535b-492e-8b0d-5440638ef65c"
      },
      "source": [
        "cbr_owner = CatBoostRegressor(iterations=1200, random_state=42, verbose=False)\n",
        "cbr_owner.fit(owner_train_X, owner_train_y, cat_features=cat_features)\n",
        "owner_pred_y = cbr_owner.predict(owner_test_X)\n",
        "mean_squared_error(owner_test_y, owner_pred_y, squared=False)"
      ],
      "execution_count": 37,
      "outputs": [
        {
          "output_type": "execute_result",
          "data": {
            "text/plain": [
              "1236195.081772017"
            ]
          },
          "metadata": {
            "tags": []
          },
          "execution_count": 37
        }
      ]
    },
    {
      "cell_type": "code",
      "metadata": {
        "colab": {
          "base_uri": "https://localhost:8080/"
        },
        "id": "quGJ2zJPEkLs",
        "outputId": "9245adf7-6825-4caf-e054-399289d79c50"
      },
      "source": [
        "y_pred = np.copy(y_test)\n",
        "y_pred[X_test['product_type'] == 'Investment'] = invest_pred_y\n",
        "y_pred[X_test['product_type'] == 'OwnerOccupier'] = owner_pred_y\n",
        "mean_squared_error(y_test, y_pred, squared=False)"
      ],
      "execution_count": 38,
      "outputs": [
        {
          "output_type": "execute_result",
          "data": {
            "text/plain": [
              "2444689.9749587704"
            ]
          },
          "metadata": {
            "tags": []
          },
          "execution_count": 38
        }
      ]
    },
    {
      "cell_type": "markdown",
      "metadata": {
        "id": "C-XXqm6WrVmo"
      },
      "source": [
        "Вывод;\n",
        "\n",
        "С помощью простейшего ансамблирования 2 моделей удалось немного снизить лосс (~40k)."
      ]
    },
    {
      "cell_type": "markdown",
      "metadata": {
        "id": "J8t-klaK2A6s"
      },
      "source": [
        "### (*) Ensemble v.2 (дополнительно, 2 балла)\n",
        "\n",
        "Попробуйте сделать для `Investment` более сложную модель: обучите `CatBoostRegressor` и `HuberRegressor` из `sklearn`, а затем сложите их предсказания с весами `w_1` и `w_2` (выберите веса сами; сумма весов равняется 1)."
      ]
    },
    {
      "cell_type": "code",
      "metadata": {
        "id": "JOKD-l8HuOgM",
        "colab": {
          "base_uri": "https://localhost:8080/"
        },
        "outputId": "2a3e4fc6-1df2-4034-cd98-fd8d68047a77"
      },
      "source": [
        "cbr_invest = CatBoostRegressor(iterations=1200, random_state=42, verbose=False)\n",
        "cbr_invest.fit(invest_train_X, invest_train_y, cat_features=cat_features)\n",
        "invest_pred_y_cbr = cbr_invest.predict(invest_test_X)\n",
        "mean_squared_error(invest_test_y, invest_pred_y_cbr, squared=False)"
      ],
      "execution_count": 39,
      "outputs": [
        {
          "output_type": "execute_result",
          "data": {
            "text/plain": [
              "2905136.371026496"
            ]
          },
          "metadata": {
            "tags": []
          },
          "execution_count": 39
        }
      ]
    },
    {
      "cell_type": "code",
      "metadata": {
        "colab": {
          "base_uri": "https://localhost:8080/"
        },
        "id": "BC3FDiO9x7PC",
        "outputId": "77550b64-68d9-417a-e151-643d4987d55e"
      },
      "source": [
        "from sklearn.linear_model import HuberRegressor\n",
        "from sklearn.preprocessing import MinMaxScaler\n",
        "from sklearn.pipeline import make_pipeline\n",
        "\n",
        "invest_train_X_ohe = X_train_ohe[X_train['product_type'] == 'Investment']\n",
        "invest_test_X_ohe = X_test_ohe[X_test['product_type'] == 'Investment']\n",
        "pipe = make_pipeline(MinMaxScaler(), HuberRegressor(max_iter=500)) #сначала будем нормализовывать данные \n",
        "pipe.fit(invest_train_X_ohe, invest_train_y)\n",
        "invest_pred_y_hr = pipe.predict(invest_test_X_ohe)\n",
        "mean_squared_error(invest_test_y, invest_pred_y_hr, squared=False)"
      ],
      "execution_count": 40,
      "outputs": [
        {
          "output_type": "execute_result",
          "data": {
            "text/plain": [
              "4173214.1522967364"
            ]
          },
          "metadata": {
            "tags": []
          },
          "execution_count": 40
        }
      ]
    },
    {
      "cell_type": "code",
      "metadata": {
        "id": "lDfyr6m01G1d"
      },
      "source": [
        "lst = [] # подберем веса для моделей\n",
        "for w in np.arange(0.01, 0.1, 0.002):\n",
        "  invest_pred_y = invest_pred_y_hr * w + invest_pred_y_cbr * (1 - w)\n",
        "  lst.append((w, mean_squared_error(invest_test_y, invest_pred_y, squared=False)))"
      ],
      "execution_count": 45,
      "outputs": []
    },
    {
      "cell_type": "code",
      "metadata": {
        "colab": {
          "base_uri": "https://localhost:8080/"
        },
        "id": "6B2BrxXoUA2W",
        "outputId": "a9d81702-c9bd-4a40-d2dc-df827c943d8f"
      },
      "source": [
        "sorted(lst, key=lambda x: x[1])[0] # лучший вес, лосс"
      ],
      "execution_count": 46,
      "outputs": [
        {
          "output_type": "execute_result",
          "data": {
            "text/plain": [
              "(0.09, 2890068.589902467)"
            ]
          },
          "metadata": {
            "tags": []
          },
          "execution_count": 46
        }
      ]
    },
    {
      "cell_type": "code",
      "metadata": {
        "id": "yQF2WsKI2QAU"
      },
      "source": [
        "w = sorted(lst, key=lambda x: x[1])[0][0]\n",
        "invest_pred_y = invest_pred_y_hr * w + invest_pred_y_cbr * (1 - w)"
      ],
      "execution_count": 48,
      "outputs": []
    },
    {
      "cell_type": "markdown",
      "metadata": {
        "id": "N_nxoTu8syCL"
      },
      "source": [
        "Итоговый результат."
      ]
    },
    {
      "cell_type": "code",
      "metadata": {
        "colab": {
          "base_uri": "https://localhost:8080/"
        },
        "id": "UL5gACpI0XTj",
        "outputId": "b092e805-e467-4592-961f-01c4eb2f863d"
      },
      "source": [
        "y_pred = np.copy(y_test)\n",
        "y_pred[X_test['product_type'] == 'Investment'] = invest_pred_y\n",
        "y_pred[X_test['product_type'] == 'OwnerOccupier'] = owner_pred_y\n",
        "mean_squared_error(y_test, y_pred, squared=False)"
      ],
      "execution_count": 49,
      "outputs": [
        {
          "output_type": "execute_result",
          "data": {
            "text/plain": [
              "2433168.5897801598"
            ]
          },
          "metadata": {
            "tags": []
          },
          "execution_count": 49
        }
      ]
    },
    {
      "cell_type": "markdown",
      "metadata": {
        "id": "0tz9cSzms2VE"
      },
      "source": [
        "Вывод:\n",
        "\n",
        "С помощью ансамблирования tree-based моделей нам удалось добиться значительного понижения итогового лосса."
      ]
    }
  ]
}